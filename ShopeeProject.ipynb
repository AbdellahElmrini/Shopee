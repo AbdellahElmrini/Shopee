{
 "cells": [
  {
   "cell_type": "code",
   "execution_count": 7,
   "metadata": {
    "id": "YnXW6GGSnFDC"
   },
   "outputs": [],
   "source": [
    "import numpy as np\n",
    "import pandas as pd\n",
    "import torch\n",
    "from torch import nn\n",
    "from torch.utils.data import DataLoader\n",
    "import matplotlib.pyplot as plt\n",
    "from torchvision import transforms\n",
    "from PIL import Image\n",
    "from tqdm import tqdm\n",
    "import math\n",
    "import random\n",
    "from torch.utils.data import Dataset, DataLoader\n",
    "import timm\n",
    "import cv2\n",
    "import torchvision\n",
    "from sklearn import preprocessing\n",
    "from torchvision import models\n",
    "import tensorflow as tf\n",
    "import tensorflow_hub as hub"
   ]
  },
  {
   "cell_type": "code",
   "execution_count": 8,
   "metadata": {},
   "outputs": [],
   "source": [
    "import albumentations"
   ]
  },
  {
   "cell_type": "code",
   "execution_count": 9,
   "metadata": {},
   "outputs": [],
   "source": [
    "import tensorflow as tf\n",
    "import tensorflow_hub as hub\n",
    "import time"
   ]
  },
  {
   "cell_type": "code",
   "execution_count": null,
   "metadata": {},
   "outputs": [],
   "source": []
  },
  {
   "cell_type": "code",
   "execution_count": 3,
   "metadata": {},
   "outputs": [],
   "source": [
    "model = hub.KerasLayer(\"https://tfhub.dev/google/nnlm-en-dim128/2\")\n",
    "embeddings = model([\"The rain in Spain.\", \"falls\",\n",
    "                      \"mainly\", \"In the plain!\"])"
   ]
  },
  {
   "cell_type": "code",
   "execution_count": 5,
   "metadata": {},
   "outputs": [
    {
     "data": {
      "text/plain": [
       "<tf.Tensor: shape=(4, 128), dtype=float32, numpy=\n",
       "array([[ 1.59735829e-01, -1.29867658e-01, -1.35819957e-01,\n",
       "        -9.24930871e-02,  2.10374016e-02, -7.29679167e-02,\n",
       "        -1.11245513e-01, -9.90176424e-02,  1.71865672e-02,\n",
       "        -7.84225911e-02,  3.15940194e-02,  6.22844100e-02,\n",
       "        -8.64286795e-02, -7.39999115e-02,  4.68084142e-02,\n",
       "         2.64361743e-02, -1.51468843e-01,  8.37246105e-02,\n",
       "        -4.84693572e-02,  3.62105906e-01, -4.43154667e-03,\n",
       "         8.15866888e-02, -4.09569405e-02, -1.05201520e-01,\n",
       "        -1.68916266e-02,  2.99027748e-02,  8.40939730e-02,\n",
       "         4.29377109e-02, -3.50504890e-02, -9.36504006e-02,\n",
       "        -3.67183425e-02,  3.71749699e-02,  2.95477919e-02,\n",
       "         1.72754392e-01,  1.08686648e-02, -1.57570407e-01,\n",
       "        -3.82928923e-02, -4.58077006e-02, -9.41693187e-02,\n",
       "        -2.65682978e-03, -5.25422022e-03, -3.45592424e-02,\n",
       "        -1.69853773e-02,  1.99845843e-02,  2.64117979e-02,\n",
       "         1.15411691e-02,  3.72448415e-02,  6.33172691e-02,\n",
       "         5.32621630e-02,  1.91026106e-02,  6.38045296e-02,\n",
       "         5.82209881e-03, -1.88273005e-03,  1.63987540e-02,\n",
       "         1.42705105e-02, -4.10080254e-02,  6.77466765e-02,\n",
       "        -5.85823879e-02,  3.11339628e-02, -4.20597643e-02,\n",
       "        -6.45544473e-03,  3.64223719e-02,  6.28872663e-02,\n",
       "         6.90744817e-03,  9.09396559e-02, -9.11951065e-06,\n",
       "        -3.28868106e-02, -1.33488700e-02,  5.82060106e-02,\n",
       "        -1.18812937e-02, -4.62300964e-02,  3.13238539e-02,\n",
       "        -5.73746674e-02,  1.17937967e-01, -2.24236436e-02,\n",
       "        -7.00195804e-02, -1.50378808e-01, -3.55751067e-03,\n",
       "        -1.21659540e-01,  1.49155945e-01,  6.68335930e-02,\n",
       "        -8.45783874e-02, -4.99900915e-02, -1.23323306e-01,\n",
       "        -9.72058177e-02,  2.34775878e-02, -8.11939389e-02,\n",
       "        -1.21891469e-01, -1.04129739e-01, -1.12477146e-01,\n",
       "         5.28658256e-02,  2.75909528e-03, -1.19978651e-01,\n",
       "        -1.63873881e-01, -1.46854967e-02,  4.54718731e-02,\n",
       "         1.23541318e-01, -7.64916986e-02,  2.16103956e-01,\n",
       "        -1.42051399e-01,  3.95136364e-02,  1.21098757e-02,\n",
       "        -1.42837271e-01, -7.10892025e-03,  6.83816895e-03,\n",
       "        -2.80113220e-02, -3.36971357e-02, -1.60303190e-02,\n",
       "         7.51627758e-02, -2.00884849e-01, -5.17385006e-02,\n",
       "         7.98245817e-02,  1.49128556e-01,  2.33411700e-01,\n",
       "         4.77640852e-02, -2.76381411e-02,  1.69027522e-02,\n",
       "         6.41705990e-02, -1.05072603e-01,  4.28162888e-03,\n",
       "         5.64674214e-02,  8.22738558e-03, -6.20092526e-02,\n",
       "         7.22365454e-03,  9.19964239e-02,  3.05843651e-02,\n",
       "         1.27910644e-01,  3.83963063e-02],\n",
       "       [-2.63287424e-04, -2.88536921e-02,  1.34434327e-01,\n",
       "         6.34214357e-02,  4.62211743e-02,  3.18933576e-02,\n",
       "        -1.17528185e-01,  9.89581198e-02,  3.40613280e-03,\n",
       "        -2.79487912e-02,  9.38643366e-02, -1.78157836e-02,\n",
       "         1.94594309e-01, -5.90001047e-02, -1.36499107e-01,\n",
       "         7.19604865e-02, -2.18421835e-02, -3.96354310e-03,\n",
       "        -1.02412872e-01, -9.81670767e-02,  9.16762103e-04,\n",
       "         1.48061231e-01,  4.19148840e-02, -2.38690209e-02,\n",
       "         6.07091002e-02,  3.40601429e-02,  6.29790649e-02,\n",
       "         2.61074394e-01, -8.77731517e-02,  4.33250144e-02,\n",
       "        -1.02599086e-02, -1.46909639e-01,  2.13583019e-02,\n",
       "         4.39974666e-02, -1.99375004e-02,  1.06576853e-01,\n",
       "        -6.49798103e-03,  1.67042822e-01, -9.34682190e-02,\n",
       "        -1.33241221e-01, -5.67514859e-02, -4.24805991e-02,\n",
       "         4.98621315e-02, -5.36181312e-03,  8.02433640e-02,\n",
       "         1.29603833e-01, -1.35735339e-02,  5.08536100e-02,\n",
       "         1.40905023e-01,  1.61543429e-01,  4.88327034e-02,\n",
       "         1.25027135e-01, -1.07740305e-01,  1.05427638e-01,\n",
       "         1.19913191e-01,  9.58200172e-02, -5.57469651e-02,\n",
       "         9.47633088e-02, -9.13227797e-02,  1.15464590e-01,\n",
       "        -1.66593343e-01, -1.25622496e-01, -3.17498557e-02,\n",
       "        -4.74071540e-02, -1.56454407e-02, -6.32731840e-02,\n",
       "         1.20024674e-01, -3.91230881e-02, -8.39685276e-02,\n",
       "         2.73059905e-02, -1.28369227e-01,  3.45321633e-02,\n",
       "        -9.29606259e-02, -1.38980180e-01, -7.89862350e-02,\n",
       "        -8.95509347e-02,  2.13832092e-02, -4.48489971e-02,\n",
       "         9.97408666e-03,  1.25713814e-02, -1.38624385e-01,\n",
       "         6.94983918e-03,  2.41678879e-02, -7.09322393e-02,\n",
       "         8.39875042e-02, -4.06399556e-02, -1.57498062e-01,\n",
       "         6.16946490e-03,  1.39237538e-01,  1.85219154e-01,\n",
       "        -8.30849707e-02,  1.61815025e-02, -5.12141474e-02,\n",
       "        -8.22239555e-03,  1.22618414e-02,  1.83409348e-01,\n",
       "        -2.79642083e-02, -6.03639819e-02,  2.67936476e-02,\n",
       "         3.25658061e-02, -7.68396109e-02, -1.45444959e-01,\n",
       "         5.98089397e-03, -5.23265973e-02,  3.43020819e-02,\n",
       "        -2.71589286e-03,  1.26785949e-01, -4.44588102e-02,\n",
       "         1.01774819e-01,  1.41297588e-02, -1.13918066e-01,\n",
       "        -5.42929508e-02,  5.24345189e-02, -2.90837716e-02,\n",
       "        -1.12347826e-01,  8.02884325e-02, -9.70273465e-02,\n",
       "        -1.19084194e-02, -1.01041891e-01, -7.60805756e-02,\n",
       "        -5.02119958e-02, -9.97705162e-02, -5.07575497e-02,\n",
       "        -3.89570519e-02, -7.27029070e-02, -5.01610003e-02,\n",
       "         7.75334015e-02,  1.49932712e-01],\n",
       "       [ 1.78329885e-01, -1.84444085e-01,  1.05743907e-01,\n",
       "         3.14186811e-02, -2.55773100e-03, -7.97784701e-02,\n",
       "         9.66643691e-02, -4.96703275e-02,  4.62112986e-02,\n",
       "         3.89229842e-02,  3.19935605e-02,  1.50267914e-01,\n",
       "        -1.93919852e-01,  5.33063635e-02, -5.49790375e-02,\n",
       "        -1.60609267e-03, -1.63248196e-01,  4.28464599e-02,\n",
       "         2.55123526e-03, -1.59569941e-02,  9.68170241e-02,\n",
       "        -4.15732786e-02, -1.40977263e-01, -1.40959397e-02,\n",
       "        -2.31982153e-02, -2.13745125e-02, -2.15287879e-02,\n",
       "        -1.33312196e-01,  7.10594505e-02,  1.53407037e-01,\n",
       "        -8.55467692e-02,  8.48257318e-02,  9.62859914e-02,\n",
       "         7.05121784e-03, -8.88044164e-02,  6.99665323e-02,\n",
       "        -6.50037155e-02,  3.97235937e-02,  1.72577817e-02,\n",
       "         3.39276940e-02, -1.02895483e-01,  5.61953858e-02,\n",
       "        -6.08269013e-02, -3.13277394e-02, -5.92078194e-02,\n",
       "        -3.44749689e-02, -8.91275927e-02, -4.23852587e-03,\n",
       "        -1.77659184e-01, -9.81941372e-02,  2.70940848e-02,\n",
       "        -5.66127375e-02, -4.73870430e-03,  9.58913714e-02,\n",
       "        -2.91224066e-02,  6.88654855e-02, -2.44746450e-02,\n",
       "        -1.74851362e-02,  8.38643461e-02,  6.96384907e-02,\n",
       "         3.40803452e-02,  4.13150713e-02,  5.17554842e-02,\n",
       "         8.69709775e-02,  1.30239666e-01,  7.78264776e-02,\n",
       "        -9.49738324e-02, -9.03780311e-02,  7.48432726e-02,\n",
       "         1.81127951e-01,  5.17928377e-02, -1.64548993e-01,\n",
       "        -5.53119518e-02, -5.39803039e-03,  5.01575135e-02,\n",
       "         6.09568208e-02, -1.97438970e-01, -1.47807628e-01,\n",
       "        -1.32937068e-02, -1.06359392e-01, -2.19477694e-02,\n",
       "        -1.79999303e-02,  1.13993600e-01, -1.49519265e-01,\n",
       "         6.33456632e-02,  3.37766670e-02, -4.71921684e-03,\n",
       "         1.12525560e-01,  2.34655172e-01,  9.16772038e-02,\n",
       "         3.71967182e-02, -2.00980827e-02, -1.88028142e-01,\n",
       "         3.71788554e-02, -1.10948691e-02, -5.50927147e-02,\n",
       "         4.24291044e-02, -2.53028609e-02, -4.27100487e-04,\n",
       "         2.12501168e-01,  1.10252015e-01,  2.34466791e-02,\n",
       "        -1.17639396e-02, -6.03624545e-02,  1.51261777e-01,\n",
       "        -7.98807889e-02,  1.10094495e-01, -3.01260110e-02,\n",
       "         3.23816878e-03,  1.14484042e-01, -1.03007540e-01,\n",
       "         1.47568900e-02, -6.87907860e-02,  2.32177023e-02,\n",
       "        -5.22589125e-03, -1.69118792e-02, -9.85530317e-02,\n",
       "        -9.37834755e-03,  1.48405239e-01,  1.30242914e-01,\n",
       "         1.28286049e-01, -2.69625466e-02,  4.02367637e-02,\n",
       "         6.39254153e-02, -4.15326804e-02, -7.30585381e-02,\n",
       "        -1.80843771e-02,  2.08467264e-02],\n",
       "       [ 1.43492728e-01, -1.96773261e-02, -6.81708455e-02,\n",
       "         9.79236886e-02, -6.78048749e-03, -1.18643969e-01,\n",
       "        -1.94144353e-01,  4.50713141e-03, -5.25343269e-02,\n",
       "        -1.06095426e-01,  9.50793698e-02,  7.25681335e-02,\n",
       "        -6.75896257e-02, -1.20131271e-02,  3.76832783e-02,\n",
       "        -3.49832512e-02, -3.27606127e-02,  4.11892645e-02,\n",
       "         4.11631800e-02,  4.57422048e-01, -9.14397389e-02,\n",
       "         1.52102590e-01,  5.29588899e-03,  4.26595435e-02,\n",
       "         4.10058163e-02,  2.05745273e-05,  4.02113944e-02,\n",
       "         5.02789691e-02, -4.41161636e-03, -1.19377665e-01,\n",
       "        -1.74455553e-01,  1.09149568e-01, -3.77629846e-02,\n",
       "        -1.04949668e-01, -1.36272848e-01, -3.00586447e-02,\n",
       "        -8.60619918e-02, -6.28347099e-02, -5.36078401e-02,\n",
       "         5.21111563e-02, -8.28335211e-02, -8.32345858e-02,\n",
       "        -5.73387854e-02, -9.34074447e-02,  1.23767003e-01,\n",
       "        -6.14054091e-02,  1.33965030e-01,  2.79420661e-03,\n",
       "        -1.03033997e-01,  2.29661278e-02,  6.18158281e-02,\n",
       "         9.44210142e-02,  4.67469878e-02, -2.88660247e-02,\n",
       "        -1.07412316e-01,  4.42208499e-02, -2.42506922e-03,\n",
       "         6.86248839e-02,  1.12959154e-01, -1.27097473e-01,\n",
       "         2.37932131e-02,  2.23664846e-02,  1.07097983e-01,\n",
       "        -5.78356981e-02, -5.78609928e-02, -3.75721157e-02,\n",
       "        -1.11920319e-01, -7.74218738e-02,  1.78009719e-01,\n",
       "         2.50048172e-02,  9.82921347e-02,  1.21907517e-01,\n",
       "        -5.11492975e-03,  2.28619296e-02,  1.63343363e-02,\n",
       "        -5.33338636e-02, -2.76373506e-01,  5.84972976e-03,\n",
       "        -1.76359385e-01,  5.97357228e-02,  2.75392234e-02,\n",
       "        -1.59212146e-02, -6.19462654e-02,  4.55366634e-02,\n",
       "        -7.52375051e-02,  1.04372807e-01,  1.56098930e-02,\n",
       "        -2.93575693e-03, -1.11421056e-01, -6.20424980e-03,\n",
       "         1.37319803e-04,  2.01094728e-02, -4.03302442e-03,\n",
       "         8.59907717e-02, -5.83644696e-02,  4.57567759e-02,\n",
       "         2.06021145e-02, -1.96223762e-02,  1.09752908e-01,\n",
       "        -5.61444908e-02,  3.35734338e-02, -1.07229471e-01,\n",
       "        -7.79051334e-02, -1.74114421e-01, -8.58443882e-03,\n",
       "         3.58292623e-03, -1.54416099e-01, -8.40492547e-02,\n",
       "         8.87448192e-02, -3.46869528e-02,  7.11370707e-02,\n",
       "         1.17985711e-01,  9.38260481e-02,  6.53688610e-02,\n",
       "        -4.69758362e-02,  4.29143496e-02,  5.35646603e-02,\n",
       "        -2.70839240e-02,  3.06127872e-02, -8.73530358e-02,\n",
       "         6.89481199e-02, -1.11161418e-01,  8.84537175e-02,\n",
       "         1.09146461e-02,  7.46314302e-02, -5.83072864e-02,\n",
       "        -2.15626843e-02,  8.52887630e-02]], dtype=float32)>"
      ]
     },
     "execution_count": 5,
     "metadata": {},
     "output_type": "execute_result"
    }
   ],
   "source": [
    "embeddings"
   ]
  },
  {
   "cell_type": "code",
   "execution_count": 3,
   "metadata": {},
   "outputs": [],
   "source": [
    "# COMPUTE_CV is only True in the commit phase (≠ the submit phase for the kaggle competition)\n",
    "\n",
    "COMPUTE_CV = True\n",
    "\n",
    "# We switch to False if test.csv has more than 3 values\n",
    "test_data = pd.read_csv(r'test.csv')\n",
    "\n",
    "if len(test_data)>3: \n",
    "    COMPUTE_CV = False"
   ]
  },
  {
   "cell_type": "code",
   "execution_count": 4,
   "metadata": {},
   "outputs": [],
   "source": [
    "# Parameters\n",
    "\n",
    "image_size = 512 # \n",
    "epochs = 1 # Modify to 5\n",
    "\n"
   ]
  },
  {
   "cell_type": "code",
   "execution_count": 5,
   "metadata": {
    "colab": {
     "base_uri": "https://localhost:8080/"
    },
    "id": "9kdz_bnKnIfy",
    "outputId": "1249db73-92c0-43e4-94ea-673c5e2cd299"
   },
   "outputs": [
    {
     "data": {
      "text/plain": [
       "\"from google.colab import drive\\ndrive.mount('/content/drive')\""
      ]
     },
     "execution_count": 5,
     "metadata": {},
     "output_type": "execute_result"
    }
   ],
   "source": [
    "'''from google.colab import drive\n",
    "drive.mount('/content/drive')'''#For colab"
   ]
  },
  {
   "cell_type": "code",
   "execution_count": 6,
   "metadata": {
    "id": "z7kP90b3yM-_"
   },
   "outputs": [],
   "source": [
    "#unzipping file\n",
    "#!unzip /content/drive/MyDrive/Shopee/train_images.zip -d /content/drive/MyDrive/Shopee/ #DONT REUSE"
   ]
  },
  {
   "cell_type": "code",
   "execution_count": 12,
   "metadata": {
    "id": "1PQrn36GwdNb"
   },
   "outputs": [],
   "source": [
    "train_csv = pd.read_csv(r'train.csv')"
   ]
  },
  {
   "cell_type": "code",
   "execution_count": 13,
   "metadata": {
    "id": "zjqNlbtF-0lC"
   },
   "outputs": [
    {
     "data": {
      "text/html": [
       "<div>\n",
       "<style scoped>\n",
       "    .dataframe tbody tr th:only-of-type {\n",
       "        vertical-align: middle;\n",
       "    }\n",
       "\n",
       "    .dataframe tbody tr th {\n",
       "        vertical-align: top;\n",
       "    }\n",
       "\n",
       "    .dataframe thead th {\n",
       "        text-align: right;\n",
       "    }\n",
       "</style>\n",
       "<table border=\"1\" class=\"dataframe\">\n",
       "  <thead>\n",
       "    <tr style=\"text-align: right;\">\n",
       "      <th></th>\n",
       "      <th>posting_id</th>\n",
       "      <th>image</th>\n",
       "      <th>image_phash</th>\n",
       "      <th>title</th>\n",
       "      <th>label_group</th>\n",
       "    </tr>\n",
       "  </thead>\n",
       "  <tbody>\n",
       "    <tr>\n",
       "      <th>0</th>\n",
       "      <td>train_129225211</td>\n",
       "      <td>0000a68812bc7e98c42888dfb1c07da0.jpg</td>\n",
       "      <td>94974f937d4c2433</td>\n",
       "      <td>Paper Bag Victoria Secret</td>\n",
       "      <td>249114794</td>\n",
       "    </tr>\n",
       "    <tr>\n",
       "      <th>1</th>\n",
       "      <td>train_3386243561</td>\n",
       "      <td>00039780dfc94d01db8676fe789ecd05.jpg</td>\n",
       "      <td>af3f9460c2838f0f</td>\n",
       "      <td>Double Tape 3M VHB 12 mm x 4,5 m ORIGINAL / DO...</td>\n",
       "      <td>2937985045</td>\n",
       "    </tr>\n",
       "    <tr>\n",
       "      <th>2</th>\n",
       "      <td>train_2288590299</td>\n",
       "      <td>000a190fdd715a2a36faed16e2c65df7.jpg</td>\n",
       "      <td>b94cb00ed3e50f78</td>\n",
       "      <td>Maling TTS Canned Pork Luncheon Meat 397 gr</td>\n",
       "      <td>2395904891</td>\n",
       "    </tr>\n",
       "    <tr>\n",
       "      <th>3</th>\n",
       "      <td>train_2406599165</td>\n",
       "      <td>00117e4fc239b1b641ff08340b429633.jpg</td>\n",
       "      <td>8514fc58eafea283</td>\n",
       "      <td>Daster Batik Lengan pendek - Motif Acak / Camp...</td>\n",
       "      <td>4093212188</td>\n",
       "    </tr>\n",
       "    <tr>\n",
       "      <th>4</th>\n",
       "      <td>train_3369186413</td>\n",
       "      <td>00136d1cf4edede0203f32f05f660588.jpg</td>\n",
       "      <td>a6f319f924ad708c</td>\n",
       "      <td>Nescafe \\xc3\\x89clair Latte 220ml</td>\n",
       "      <td>3648931069</td>\n",
       "    </tr>\n",
       "  </tbody>\n",
       "</table>\n",
       "</div>"
      ],
      "text/plain": [
       "         posting_id                                 image       image_phash  \\\n",
       "0   train_129225211  0000a68812bc7e98c42888dfb1c07da0.jpg  94974f937d4c2433   \n",
       "1  train_3386243561  00039780dfc94d01db8676fe789ecd05.jpg  af3f9460c2838f0f   \n",
       "2  train_2288590299  000a190fdd715a2a36faed16e2c65df7.jpg  b94cb00ed3e50f78   \n",
       "3  train_2406599165  00117e4fc239b1b641ff08340b429633.jpg  8514fc58eafea283   \n",
       "4  train_3369186413  00136d1cf4edede0203f32f05f660588.jpg  a6f319f924ad708c   \n",
       "\n",
       "                                               title  label_group  \n",
       "0                          Paper Bag Victoria Secret    249114794  \n",
       "1  Double Tape 3M VHB 12 mm x 4,5 m ORIGINAL / DO...   2937985045  \n",
       "2        Maling TTS Canned Pork Luncheon Meat 397 gr   2395904891  \n",
       "3  Daster Batik Lengan pendek - Motif Acak / Camp...   4093212188  \n",
       "4                  Nescafe \\xc3\\x89clair Latte 220ml   3648931069  "
      ]
     },
     "execution_count": 13,
     "metadata": {},
     "output_type": "execute_result"
    }
   ],
   "source": [
    "train_csv.head()"
   ]
  },
  {
   "cell_type": "code",
   "execution_count": 9,
   "metadata": {
    "id": "y4VTmMrC1suX"
   },
   "outputs": [],
   "source": [
    "#img_temp = Image.open('/content/drive/MyDrive/Shopee/train_images/0000a68812bc7e98c42888dfb1c07da0.jpg')\n",
    "img_temp = cv2.imread('train_images/00136d1cf4edede0203f32f05f660588.jpg')\n",
    "\n"
   ]
  },
  {
   "cell_type": "code",
   "execution_count": 10,
   "metadata": {
    "colab": {
     "base_uri": "https://localhost:8080/",
     "height": 286
    },
    "id": "Kh7PBZgW19oe",
    "outputId": "664bc8ef-1b37-4172-eca2-d57a8f0a1e5b"
   },
   "outputs": [
    {
     "data": {
      "text/plain": [
       "<matplotlib.image.AxesImage at 0x7f9c61e71450>"
      ]
     },
     "execution_count": 10,
     "metadata": {},
     "output_type": "execute_result"
    },
    {
     "data": {
      "image/png": "[encoded data removed]",
      "text/plain": [
       "<Figure size 432x288 with 1 Axes>"
      ]
     },
     "metadata": {
      "needs_background": "light"
     },
     "output_type": "display_data"
    }
   ],
   "source": [
    "plt.imshow(img_temp)"
   ]
  },
  {
   "cell_type": "code",
   "execution_count": 14,
   "metadata": {
    "id": "wzHSqbQUQneI"
   },
   "outputs": [],
   "source": [
    "# Labelencoder for labels\n",
    "encoder = preprocessing.LabelEncoder()\n",
    "train_csv['label_group']  = encoder.fit_transform(train_csv['label_group'])\n"
   ]
  },
  {
   "cell_type": "markdown",
   "metadata": {},
   "source": [
    "**Targets column**\n",
    "\n",
    "For each image we add a column containing the posting_id of all images belonging to the same label group\n"
   ]
  },
  {
   "cell_type": "code",
   "execution_count": 15,
   "metadata": {},
   "outputs": [],
   "source": [
    "#Creating target column (The ground truth)\n",
    "tmp = train_csv.groupby('label_group').posting_id.agg('unique')#.to_dict()\n",
    "train_csv['target'] = train_csv.label_group.map(tmp)"
   ]
  },
  {
   "cell_type": "code",
   "execution_count": 13,
   "metadata": {
    "colab": {
     "base_uri": "https://localhost:8080/",
     "height": 204
    },
    "id": "G-Ck1WqM-lwE",
    "outputId": "5d2363ba-5051-4450-d3b9-6e00850a757c"
   },
   "outputs": [
    {
     "data": {
      "text/html": [
       "<div>\n",
       "<style scoped>\n",
       "    .dataframe tbody tr th:only-of-type {\n",
       "        vertical-align: middle;\n",
       "    }\n",
       "\n",
       "    .dataframe tbody tr th {\n",
       "        vertical-align: top;\n",
       "    }\n",
       "\n",
       "    .dataframe thead th {\n",
       "        text-align: right;\n",
       "    }\n",
       "</style>\n",
       "<table border=\"1\" class=\"dataframe\">\n",
       "  <thead>\n",
       "    <tr style=\"text-align: right;\">\n",
       "      <th></th>\n",
       "      <th>posting_id</th>\n",
       "      <th>image</th>\n",
       "      <th>image_phash</th>\n",
       "      <th>title</th>\n",
       "      <th>label_group</th>\n",
       "      <th>target</th>\n",
       "    </tr>\n",
       "  </thead>\n",
       "  <tbody>\n",
       "    <tr>\n",
       "      <th>0</th>\n",
       "      <td>train_129225211</td>\n",
       "      <td>0000a68812bc7e98c42888dfb1c07da0.jpg</td>\n",
       "      <td>94974f937d4c2433</td>\n",
       "      <td>Paper Bag Victoria Secret</td>\n",
       "      <td>666</td>\n",
       "      <td>[train_129225211, train_2278313361]</td>\n",
       "    </tr>\n",
       "    <tr>\n",
       "      <th>1</th>\n",
       "      <td>train_3386243561</td>\n",
       "      <td>00039780dfc94d01db8676fe789ecd05.jpg</td>\n",
       "      <td>af3f9460c2838f0f</td>\n",
       "      <td>Double Tape 3M VHB 12 mm x 4,5 m ORIGINAL / DO...</td>\n",
       "      <td>7572</td>\n",
       "      <td>[train_3386243561, train_3423213080]</td>\n",
       "    </tr>\n",
       "    <tr>\n",
       "      <th>2</th>\n",
       "      <td>train_2288590299</td>\n",
       "      <td>000a190fdd715a2a36faed16e2c65df7.jpg</td>\n",
       "      <td>b94cb00ed3e50f78</td>\n",
       "      <td>Maling TTS Canned Pork Luncheon Meat 397 gr</td>\n",
       "      <td>6172</td>\n",
       "      <td>[train_2288590299, train_3803689425]</td>\n",
       "    </tr>\n",
       "    <tr>\n",
       "      <th>3</th>\n",
       "      <td>train_2406599165</td>\n",
       "      <td>00117e4fc239b1b641ff08340b429633.jpg</td>\n",
       "      <td>8514fc58eafea283</td>\n",
       "      <td>Daster Batik Lengan pendek - Motif Acak / Camp...</td>\n",
       "      <td>10509</td>\n",
       "      <td>[train_2406599165, train_3342059966]</td>\n",
       "    </tr>\n",
       "    <tr>\n",
       "      <th>4</th>\n",
       "      <td>train_3369186413</td>\n",
       "      <td>00136d1cf4edede0203f32f05f660588.jpg</td>\n",
       "      <td>a6f319f924ad708c</td>\n",
       "      <td>Nescafe \\xc3\\x89clair Latte 220ml</td>\n",
       "      <td>9425</td>\n",
       "      <td>[train_3369186413, train_921438619]</td>\n",
       "    </tr>\n",
       "  </tbody>\n",
       "</table>\n",
       "</div>"
      ],
      "text/plain": [
       "         posting_id                                 image       image_phash  \\\n",
       "0   train_129225211  0000a68812bc7e98c42888dfb1c07da0.jpg  94974f937d4c2433   \n",
       "1  train_3386243561  00039780dfc94d01db8676fe789ecd05.jpg  af3f9460c2838f0f   \n",
       "2  train_2288590299  000a190fdd715a2a36faed16e2c65df7.jpg  b94cb00ed3e50f78   \n",
       "3  train_2406599165  00117e4fc239b1b641ff08340b429633.jpg  8514fc58eafea283   \n",
       "4  train_3369186413  00136d1cf4edede0203f32f05f660588.jpg  a6f319f924ad708c   \n",
       "\n",
       "                                               title  label_group  \\\n",
       "0                          Paper Bag Victoria Secret          666   \n",
       "1  Double Tape 3M VHB 12 mm x 4,5 m ORIGINAL / DO...         7572   \n",
       "2        Maling TTS Canned Pork Luncheon Meat 397 gr         6172   \n",
       "3  Daster Batik Lengan pendek - Motif Acak / Camp...        10509   \n",
       "4                  Nescafe \\xc3\\x89clair Latte 220ml         9425   \n",
       "\n",
       "                                 target  \n",
       "0   [train_129225211, train_2278313361]  \n",
       "1  [train_3386243561, train_3423213080]  \n",
       "2  [train_2288590299, train_3803689425]  \n",
       "3  [train_2406599165, train_3342059966]  \n",
       "4   [train_3369186413, train_921438619]  "
      ]
     },
     "execution_count": 13,
     "metadata": {},
     "output_type": "execute_result"
    }
   ],
   "source": [
    "train_csv.head()"
   ]
  },
  {
   "cell_type": "code",
   "execution_count": 14,
   "metadata": {
    "id": "DbmGduLkBZah"
   },
   "outputs": [
    {
     "name": "stdout",
     "output_type": "stream",
     "text": [
      "11014\n"
     ]
    }
   ],
   "source": [
    "# Number of labels\n",
    "n_labels = max(train_csv[\"label_group\"])+1\n",
    "print(n_labels)"
   ]
  },
  {
   "cell_type": "code",
   "execution_count": 15,
   "metadata": {},
   "outputs": [
    {
     "data": {
      "text/html": [
       "<div>\n",
       "<style scoped>\n",
       "    .dataframe tbody tr th:only-of-type {\n",
       "        vertical-align: middle;\n",
       "    }\n",
       "\n",
       "    .dataframe tbody tr th {\n",
       "        vertical-align: top;\n",
       "    }\n",
       "\n",
       "    .dataframe thead th {\n",
       "        text-align: right;\n",
       "    }\n",
       "</style>\n",
       "<table border=\"1\" class=\"dataframe\">\n",
       "  <thead>\n",
       "    <tr style=\"text-align: right;\">\n",
       "      <th></th>\n",
       "      <th>posting_id</th>\n",
       "      <th>image</th>\n",
       "      <th>image_phash</th>\n",
       "      <th>title</th>\n",
       "      <th>label_group</th>\n",
       "      <th>target</th>\n",
       "    </tr>\n",
       "  </thead>\n",
       "  <tbody>\n",
       "    <tr>\n",
       "      <th>0</th>\n",
       "      <td>train_129225211</td>\n",
       "      <td>0000a68812bc7e98c42888dfb1c07da0.jpg</td>\n",
       "      <td>94974f937d4c2433</td>\n",
       "      <td>Paper Bag Victoria Secret</td>\n",
       "      <td>666</td>\n",
       "      <td>[train_129225211, train_2278313361]</td>\n",
       "    </tr>\n",
       "    <tr>\n",
       "      <th>1</th>\n",
       "      <td>train_3386243561</td>\n",
       "      <td>00039780dfc94d01db8676fe789ecd05.jpg</td>\n",
       "      <td>af3f9460c2838f0f</td>\n",
       "      <td>Double Tape 3M VHB 12 mm x 4,5 m ORIGINAL / DO...</td>\n",
       "      <td>7572</td>\n",
       "      <td>[train_3386243561, train_3423213080]</td>\n",
       "    </tr>\n",
       "  </tbody>\n",
       "</table>\n",
       "</div>"
      ],
      "text/plain": [
       "         posting_id                                 image       image_phash  \\\n",
       "0   train_129225211  0000a68812bc7e98c42888dfb1c07da0.jpg  94974f937d4c2433   \n",
       "1  train_3386243561  00039780dfc94d01db8676fe789ecd05.jpg  af3f9460c2838f0f   \n",
       "\n",
       "                                               title  label_group  \\\n",
       "0                          Paper Bag Victoria Secret          666   \n",
       "1  Double Tape 3M VHB 12 mm x 4,5 m ORIGINAL / DO...         7572   \n",
       "\n",
       "                                 target  \n",
       "0   [train_129225211, train_2278313361]  \n",
       "1  [train_3386243561, train_3423213080]  "
      ]
     },
     "execution_count": 15,
     "metadata": {},
     "output_type": "execute_result"
    }
   ],
   "source": [
    "train_csv.head(2)"
   ]
  },
  {
   "cell_type": "code",
   "execution_count": 17,
   "metadata": {},
   "outputs": [],
   "source": [
    "L=[]\n",
    "for i in range(100):\n",
    "    for j in range(100):\n",
    "        if train_csv[\"image\"][i]==train_csv[\"image\"][j]:\n",
    "            L.append((i,j))\n",
    "    if i==1000:\n",
    "        print(\"weee\")\n",
    "    "
   ]
  },
  {
   "cell_type": "code",
   "execution_count": 18,
   "metadata": {},
   "outputs": [],
   "source": [
    "images = list(train_csv[\"image\"])"
   ]
  },
  {
   "cell_type": "code",
   "execution_count": 313,
   "metadata": {},
   "outputs": [
    {
     "name": "stdout",
     "output_type": "stream",
     "text": [
      "weee\n"
     ]
    }
   ],
   "source": [
    "L = []\n",
    "for i in range(10000):\n",
    "    for j in range(i+1,10000):\n",
    "        if images[i]==images[j]:\n",
    "            L.append((i,j))\n",
    "    if i==1000:\n",
    "        print(\"weee\")"
   ]
  },
  {
   "cell_type": "code",
   "execution_count": 319,
   "metadata": {},
   "outputs": [],
   "source": [
    "M = []\n",
    "labels = list(train_csv[\"label_group\"])\n",
    "for k in range(len(L)):\n",
    "    i,j = L[k]\n",
    "    if labels[i] != labels[j]:\n",
    "        M.append((i,j))\n",
    "        "
   ]
  },
  {
   "cell_type": "code",
   "execution_count": 330,
   "metadata": {},
   "outputs": [
    {
     "data": {
      "text/html": [
       "<div>\n",
       "<style scoped>\n",
       "    .dataframe tbody tr th:only-of-type {\n",
       "        vertical-align: middle;\n",
       "    }\n",
       "\n",
       "    .dataframe tbody tr th {\n",
       "        vertical-align: top;\n",
       "    }\n",
       "\n",
       "    .dataframe thead th {\n",
       "        text-align: right;\n",
       "    }\n",
       "</style>\n",
       "<table border=\"1\" class=\"dataframe\">\n",
       "  <thead>\n",
       "    <tr style=\"text-align: right;\">\n",
       "      <th></th>\n",
       "      <th>posting_id</th>\n",
       "      <th>image</th>\n",
       "      <th>image_phash</th>\n",
       "      <th>title</th>\n",
       "      <th>label_group</th>\n",
       "      <th>target</th>\n",
       "      <th>base_predictions</th>\n",
       "      <th>f1</th>\n",
       "    </tr>\n",
       "  </thead>\n",
       "  <tbody>\n",
       "    <tr>\n",
       "      <th>1563</th>\n",
       "      <td>train_166945100</td>\n",
       "      <td>0c1da0c6bab51f1fe7df75ef060fc77d.jpg</td>\n",
       "      <td>eadad1350f6c7842</td>\n",
       "      <td>Waistbag Pushop Staye Pro Pulshop</td>\n",
       "      <td>285</td>\n",
       "      <td>[train_166945100, train_1377183442, train_1583...</td>\n",
       "      <td>[train_2458596748, train_166945100]</td>\n",
       "      <td>0.4</td>\n",
       "    </tr>\n",
       "    <tr>\n",
       "      <th>5311</th>\n",
       "      <td>train_1377183442</td>\n",
       "      <td>283140c972494f6e83904e082ef61421.jpg</td>\n",
       "      <td>ab6ad0959fe03869</td>\n",
       "      <td>Waistbag Pushop Staye Pro</td>\n",
       "      <td>285</td>\n",
       "      <td>[train_166945100, train_1377183442, train_1583...</td>\n",
       "      <td>[train_1377183442, train_1583259699]</td>\n",
       "      <td>0.8</td>\n",
       "    </tr>\n",
       "    <tr>\n",
       "      <th>10359</th>\n",
       "      <td>train_1583259699</td>\n",
       "      <td>4db10c2ae89a68e8192c5021dbf1311d.jpg</td>\n",
       "      <td>ab6ad0959fe03869</td>\n",
       "      <td>STAYE Professional Tas Pinggang</td>\n",
       "      <td>285</td>\n",
       "      <td>[train_166945100, train_1377183442, train_1583...</td>\n",
       "      <td>[train_1377183442, train_1583259699]</td>\n",
       "      <td>0.8</td>\n",
       "    </tr>\n",
       "  </tbody>\n",
       "</table>\n",
       "</div>"
      ],
      "text/plain": [
       "             posting_id                                 image  \\\n",
       "1563    train_166945100  0c1da0c6bab51f1fe7df75ef060fc77d.jpg   \n",
       "5311   train_1377183442  283140c972494f6e83904e082ef61421.jpg   \n",
       "10359  train_1583259699  4db10c2ae89a68e8192c5021dbf1311d.jpg   \n",
       "\n",
       "            image_phash                              title  label_group  \\\n",
       "1563   eadad1350f6c7842  Waistbag Pushop Staye Pro Pulshop          285   \n",
       "5311   ab6ad0959fe03869          Waistbag Pushop Staye Pro          285   \n",
       "10359  ab6ad0959fe03869    STAYE Professional Tas Pinggang          285   \n",
       "\n",
       "                                                  target  \\\n",
       "1563   [train_166945100, train_1377183442, train_1583...   \n",
       "5311   [train_166945100, train_1377183442, train_1583...   \n",
       "10359  [train_166945100, train_1377183442, train_1583...   \n",
       "\n",
       "                           base_predictions   f1  \n",
       "1563    [train_2458596748, train_166945100]  0.4  \n",
       "5311   [train_1377183442, train_1583259699]  0.8  \n",
       "10359  [train_1377183442, train_1583259699]  0.8  "
      ]
     },
     "execution_count": 330,
     "metadata": {},
     "output_type": "execute_result"
    }
   ],
   "source": [
    "train_csv[train_csv['label_group']==285]"
   ]
  },
  {
   "cell_type": "code",
   "execution_count": 358,
   "metadata": {},
   "outputs": [
    {
     "name": "stdout",
     "output_type": "stream",
     "text": [
      "Waistbag Pushop Staye Pro Pulshop\n",
      "Waistbag Pushop Staye Pro\n",
      "STAYE Professional Tas Pinggang\n"
     ]
    },
    {
     "data": {
      "image/png": "[encoded data removed]",
      "text/plain": [
       "<Figure size 432x288 with 3 Axes>"
      ]
     },
     "metadata": {
      "needs_background": "light"
     },
     "output_type": "display_data"
    }
   ],
   "source": [
    "t_images = []\n",
    "for i in [1563, 5311, 10359]:\n",
    "    t_images.append(cv2.imread('train_images/'+ train_csv.iloc[1563][\"image\"]))\n",
    "    print(train_csv.iloc[i][\"title\"])\n",
    "\n",
    "fig, axis = plt.subplots(1, 3)\n",
    "for i in range(3):\n",
    "    axis[i].imshow(t_images[i])\n",
    "#plt.imshow(img_temp)"
   ]
  },
  {
   "cell_type": "code",
   "execution_count": 360,
   "metadata": {},
   "outputs": [
    {
     "name": "stdout",
     "output_type": "stream",
     "text": [
      "NEW WAISTBAG ALA KOREA - Tas Selempang Pria Wanita\n",
      "Pushop Waistbag Pria Traveling Waterproof Professional Staye\n",
      "Tas Selempang Pria Wanita\n",
      "TAS SELEMPANG PRIA\n",
      "Tas Selempang Pria Wanita\n"
     ]
    }
   ],
   "source": [
    "t_images2 = []\n",
    "c=0\n",
    "m = len(train_csv[train_csv['label_group']==3222])\n",
    "for i in train_csv[train_csv['label_group']==3222].index[:20]:\n",
    "    t_images2.append(cv2.imread('train_images/'+ train_csv.iloc[i][\"image\"]))\n",
    "    if c<5: \n",
    "        print(train_csv.iloc[i][\"title\"])\n",
    "    c+=1\n"
   ]
  },
  {
   "cell_type": "code",
   "execution_count": 356,
   "metadata": {},
   "outputs": [
    {
     "data": {
      "image/png": "[encoded data removed]",
      "text/plain": [
       "<Figure size 432x432 with 20 Axes>"
      ]
     },
     "metadata": {
      "needs_background": "light"
     },
     "output_type": "display_data"
    }
   ],
   "source": [
    "fig, axis = plt.subplots(5, 4, figsize=(6,6))\n",
    "for i in range(20):\n",
    "    axis[i//4,i%4].imshow(t_images2[i])\n",
    "    axis[i//4,i%4].axis(\"off\")"
   ]
  },
  {
   "cell_type": "code",
   "execution_count": 336,
   "metadata": {},
   "outputs": [
    {
     "data": {
      "text/plain": [
       "37"
      ]
     },
     "execution_count": 336,
     "metadata": {},
     "output_type": "execute_result"
    }
   ],
   "source": [
    "len(train_csv[train_csv['label_group']==3222])"
   ]
  },
  {
   "cell_type": "code",
   "execution_count": 331,
   "metadata": {},
   "outputs": [
    {
     "data": {
      "text/plain": [
       "posting_id                                            train_166945100\n",
       "image                            0c1da0c6bab51f1fe7df75ef060fc77d.jpg\n",
       "image_phash                                          eadad1350f6c7842\n",
       "title                               Waistbag Pushop Staye Pro Pulshop\n",
       "label_group                                                       285\n",
       "target              [train_166945100, train_1377183442, train_1583...\n",
       "base_predictions                  [train_2458596748, train_166945100]\n",
       "f1                                                                0.4\n",
       "Name: 1563, dtype: object"
      ]
     },
     "execution_count": 331,
     "metadata": {},
     "output_type": "execute_result"
    }
   ],
   "source": [
    "train_csv.iloc[1563]"
   ]
  },
  {
   "cell_type": "code",
   "execution_count": 324,
   "metadata": {},
   "outputs": [
    {
     "data": {
      "text/html": [
       "<div>\n",
       "<style scoped>\n",
       "    .dataframe tbody tr th:only-of-type {\n",
       "        vertical-align: middle;\n",
       "    }\n",
       "\n",
       "    .dataframe tbody tr th {\n",
       "        vertical-align: top;\n",
       "    }\n",
       "\n",
       "    .dataframe thead th {\n",
       "        text-align: right;\n",
       "    }\n",
       "</style>\n",
       "<table border=\"1\" class=\"dataframe\">\n",
       "  <thead>\n",
       "    <tr style=\"text-align: right;\">\n",
       "      <th></th>\n",
       "      <th>posting_id</th>\n",
       "      <th>image</th>\n",
       "      <th>image_phash</th>\n",
       "      <th>title</th>\n",
       "      <th>label_group</th>\n",
       "      <th>target</th>\n",
       "      <th>base_predictions</th>\n",
       "      <th>f1</th>\n",
       "    </tr>\n",
       "  </thead>\n",
       "  <tbody>\n",
       "    <tr>\n",
       "      <th>1562</th>\n",
       "      <td>train_2458596748</td>\n",
       "      <td>0c1da0c6bab51f1fe7df75ef060fc77d.jpg</td>\n",
       "      <td>eadad1350f6c7842</td>\n",
       "      <td>Pushop Waistbag Pria Traveling Waterproof Prof...</td>\n",
       "      <td>3222</td>\n",
       "      <td>[train_1065906242, train_2458596748, train_165...</td>\n",
       "      <td>[train_2458596748, train_166945100]</td>\n",
       "      <td>0.051282</td>\n",
       "    </tr>\n",
       "    <tr>\n",
       "      <th>1563</th>\n",
       "      <td>train_166945100</td>\n",
       "      <td>0c1da0c6bab51f1fe7df75ef060fc77d.jpg</td>\n",
       "      <td>eadad1350f6c7842</td>\n",
       "      <td>Waistbag Pushop Staye Pro Pulshop</td>\n",
       "      <td>285</td>\n",
       "      <td>[train_166945100, train_1377183442, train_1583...</td>\n",
       "      <td>[train_2458596748, train_166945100]</td>\n",
       "      <td>0.400000</td>\n",
       "    </tr>\n",
       "  </tbody>\n",
       "</table>\n",
       "</div>"
      ],
      "text/plain": [
       "            posting_id                                 image  \\\n",
       "1562  train_2458596748  0c1da0c6bab51f1fe7df75ef060fc77d.jpg   \n",
       "1563   train_166945100  0c1da0c6bab51f1fe7df75ef060fc77d.jpg   \n",
       "\n",
       "           image_phash                                              title  \\\n",
       "1562  eadad1350f6c7842  Pushop Waistbag Pria Traveling Waterproof Prof...   \n",
       "1563  eadad1350f6c7842                  Waistbag Pushop Staye Pro Pulshop   \n",
       "\n",
       "      label_group                                             target  \\\n",
       "1562         3222  [train_1065906242, train_2458596748, train_165...   \n",
       "1563          285  [train_166945100, train_1377183442, train_1583...   \n",
       "\n",
       "                         base_predictions        f1  \n",
       "1562  [train_2458596748, train_166945100]  0.051282  \n",
       "1563  [train_2458596748, train_166945100]  0.400000  "
      ]
     },
     "execution_count": 324,
     "metadata": {},
     "output_type": "execute_result"
    }
   ],
   "source": [
    "train_csv[1562:1564]"
   ]
  },
  {
   "cell_type": "code",
   "execution_count": 325,
   "metadata": {},
   "outputs": [
    {
     "data": {
      "text/plain": [
       "<matplotlib.image.AxesImage at 0x7fc4c71c5910>"
      ]
     },
     "execution_count": 325,
     "metadata": {},
     "output_type": "execute_result"
    },
    {
     "data": {
      "image/png": "[encoded data removed]",
      "text/plain": [
       "<Figure size 432x288 with 1 Axes>"
      ]
     },
     "metadata": {
      "needs_background": "light"
     },
     "output_type": "display_data"
    }
   ],
   "source": [
    "img_temp = cv2.imread('train_images/0c1da0c6bab51f1fe7df75ef060fc77d.jpg')\n",
    "plt.imshow(img_temp)"
   ]
  },
  {
   "cell_type": "code",
   "execution_count": 321,
   "metadata": {},
   "outputs": [
    {
     "data": {
      "text/plain": [
       "[(1562, 1563), (1651, 1652), (1651, 1658), (1651, 1660), (1652, 1653)]"
      ]
     },
     "execution_count": 321,
     "metadata": {},
     "output_type": "execute_result"
    }
   ],
   "source": [
    "M[:5]"
   ]
  },
  {
   "cell_type": "markdown",
   "metadata": {},
   "source": [
    "**Baseline model score**\n",
    "\n",
    "The baseline model is a model that predicts two matching products if they have the same hash"
   ]
  },
  {
   "cell_type": "code",
   "execution_count": 19,
   "metadata": {},
   "outputs": [],
   "source": [
    "# Calculating score of baseline model\n",
    "\n",
    "tmp = train_csv.groupby('image_phash').posting_id.agg('unique').to_dict()\n",
    "train_csv['base_predictions'] = train_csv.image_phash.map(tmp)\n",
    "\n",
    "def getMetric(col):\n",
    "    def f1score(row):\n",
    "        n = len(np.intersect1d(row.target,row[col]))\n",
    "        return 2*n / (len(row.target)+len(row[col]))\n",
    "    return f1score\n",
    "\"\"\"col = 'base_predictions'\n",
    "def f1score(row, col=col):\n",
    "        n = len(np.intersect1d(row.target,row[col]))\n",
    "        return 2*n / (len(row.target)+len(row[col]))\"\"\"\n",
    "\n",
    "train_csv['f1'] = train_csv.apply(getMetric('base_predictions'), axis=1)"
   ]
  },
  {
   "cell_type": "code",
   "execution_count": 20,
   "metadata": {},
   "outputs": [
    {
     "data": {
      "text/plain": [
       "0.5530933399168149"
      ]
     },
     "execution_count": 20,
     "metadata": {},
     "output_type": "execute_result"
    }
   ],
   "source": [
    "# F1 score of our base model \n",
    "train_csv['f1'].mean()"
   ]
  },
  {
   "cell_type": "code",
   "execution_count": 21,
   "metadata": {},
   "outputs": [
    {
     "data": {
      "text/html": [
       "<div>\n",
       "<style scoped>\n",
       "    .dataframe tbody tr th:only-of-type {\n",
       "        vertical-align: middle;\n",
       "    }\n",
       "\n",
       "    .dataframe tbody tr th {\n",
       "        vertical-align: top;\n",
       "    }\n",
       "\n",
       "    .dataframe thead th {\n",
       "        text-align: right;\n",
       "    }\n",
       "</style>\n",
       "<table border=\"1\" class=\"dataframe\">\n",
       "  <thead>\n",
       "    <tr style=\"text-align: right;\">\n",
       "      <th></th>\n",
       "      <th>posting_id</th>\n",
       "      <th>image</th>\n",
       "      <th>image_phash</th>\n",
       "      <th>title</th>\n",
       "      <th>label_group</th>\n",
       "      <th>target</th>\n",
       "      <th>base_predictions</th>\n",
       "      <th>f1</th>\n",
       "    </tr>\n",
       "  </thead>\n",
       "  <tbody>\n",
       "    <tr>\n",
       "      <th>0</th>\n",
       "      <td>train_129225211</td>\n",
       "      <td>0000a68812bc7e98c42888dfb1c07da0.jpg</td>\n",
       "      <td>94974f937d4c2433</td>\n",
       "      <td>Paper Bag Victoria Secret</td>\n",
       "      <td>666</td>\n",
       "      <td>[train_129225211, train_2278313361]</td>\n",
       "      <td>[train_129225211]</td>\n",
       "      <td>0.666667</td>\n",
       "    </tr>\n",
       "    <tr>\n",
       "      <th>1</th>\n",
       "      <td>train_3386243561</td>\n",
       "      <td>00039780dfc94d01db8676fe789ecd05.jpg</td>\n",
       "      <td>af3f9460c2838f0f</td>\n",
       "      <td>Double Tape 3M VHB 12 mm x 4,5 m ORIGINAL / DO...</td>\n",
       "      <td>7572</td>\n",
       "      <td>[train_3386243561, train_3423213080]</td>\n",
       "      <td>[train_3386243561]</td>\n",
       "      <td>0.666667</td>\n",
       "    </tr>\n",
       "    <tr>\n",
       "      <th>2</th>\n",
       "      <td>train_2288590299</td>\n",
       "      <td>000a190fdd715a2a36faed16e2c65df7.jpg</td>\n",
       "      <td>b94cb00ed3e50f78</td>\n",
       "      <td>Maling TTS Canned Pork Luncheon Meat 397 gr</td>\n",
       "      <td>6172</td>\n",
       "      <td>[train_2288590299, train_3803689425]</td>\n",
       "      <td>[train_2288590299]</td>\n",
       "      <td>0.666667</td>\n",
       "    </tr>\n",
       "    <tr>\n",
       "      <th>3</th>\n",
       "      <td>train_2406599165</td>\n",
       "      <td>00117e4fc239b1b641ff08340b429633.jpg</td>\n",
       "      <td>8514fc58eafea283</td>\n",
       "      <td>Daster Batik Lengan pendek - Motif Acak / Camp...</td>\n",
       "      <td>10509</td>\n",
       "      <td>[train_2406599165, train_3342059966]</td>\n",
       "      <td>[train_2406599165]</td>\n",
       "      <td>0.666667</td>\n",
       "    </tr>\n",
       "    <tr>\n",
       "      <th>4</th>\n",
       "      <td>train_3369186413</td>\n",
       "      <td>00136d1cf4edede0203f32f05f660588.jpg</td>\n",
       "      <td>a6f319f924ad708c</td>\n",
       "      <td>Nescafe \\xc3\\x89clair Latte 220ml</td>\n",
       "      <td>9425</td>\n",
       "      <td>[train_3369186413, train_921438619]</td>\n",
       "      <td>[train_3369186413]</td>\n",
       "      <td>0.666667</td>\n",
       "    </tr>\n",
       "  </tbody>\n",
       "</table>\n",
       "</div>"
      ],
      "text/plain": [
       "         posting_id                                 image       image_phash  \\\n",
       "0   train_129225211  0000a68812bc7e98c42888dfb1c07da0.jpg  94974f937d4c2433   \n",
       "1  train_3386243561  00039780dfc94d01db8676fe789ecd05.jpg  af3f9460c2838f0f   \n",
       "2  train_2288590299  000a190fdd715a2a36faed16e2c65df7.jpg  b94cb00ed3e50f78   \n",
       "3  train_2406599165  00117e4fc239b1b641ff08340b429633.jpg  8514fc58eafea283   \n",
       "4  train_3369186413  00136d1cf4edede0203f32f05f660588.jpg  a6f319f924ad708c   \n",
       "\n",
       "                                               title  label_group  \\\n",
       "0                          Paper Bag Victoria Secret          666   \n",
       "1  Double Tape 3M VHB 12 mm x 4,5 m ORIGINAL / DO...         7572   \n",
       "2        Maling TTS Canned Pork Luncheon Meat 397 gr         6172   \n",
       "3  Daster Batik Lengan pendek - Motif Acak / Camp...        10509   \n",
       "4                  Nescafe \\xc3\\x89clair Latte 220ml         9425   \n",
       "\n",
       "                                 target    base_predictions        f1  \n",
       "0   [train_129225211, train_2278313361]   [train_129225211]  0.666667  \n",
       "1  [train_3386243561, train_3423213080]  [train_3386243561]  0.666667  \n",
       "2  [train_2288590299, train_3803689425]  [train_2288590299]  0.666667  \n",
       "3  [train_2406599165, train_3342059966]  [train_2406599165]  0.666667  \n",
       "4   [train_3369186413, train_921438619]  [train_3369186413]  0.666667  "
      ]
     },
     "execution_count": 21,
     "metadata": {},
     "output_type": "execute_result"
    }
   ],
   "source": [
    "train_csv.head()"
   ]
  },
  {
   "cell_type": "code",
   "execution_count": 22,
   "metadata": {},
   "outputs": [],
   "source": [
    "train_csv = train_csv.drop('f1', axis=1)"
   ]
  },
  {
   "cell_type": "code",
   "execution_count": 68,
   "metadata": {},
   "outputs": [],
   "source": [
    "label_frequency = [0 for _ in range(11014)]\n",
    "for i in range(len(train_csv)):\n",
    "    label_frequency[train_csv.label_group[i]]+=1\n",
    "    \n",
    "    "
   ]
  },
  {
   "cell_type": "code",
   "execution_count": 281,
   "metadata": {},
   "outputs": [
    {
     "data": {
      "text/plain": [
       "Text(0, 0.5, 'Data entries ')"
      ]
     },
     "execution_count": 281,
     "metadata": {},
     "output_type": "execute_result"
    },
    {
     "data": {
      "image/png": "[encoded data removed]",
      "text/plain": [
       "<Figure size 432x288 with 1 Axes>"
      ]
     },
     "metadata": {
      "needs_background": "light"
     },
     "output_type": "display_data"
    }
   ],
   "source": [
    "plt.plot(np.sort(label_frequency))\n",
    "plt.title(\"Examples per label distribution\")\n",
    "plt.xlabel(\"Labels\")\n",
    "plt.ylabel(\"Data entries \")"
   ]
  },
  {
   "cell_type": "code",
   "execution_count": 65,
   "metadata": {},
   "outputs": [
    {
     "data": {
      "text/plain": [
       "666"
      ]
     },
     "execution_count": 65,
     "metadata": {},
     "output_type": "execute_result"
    }
   ],
   "source": [
    "train_csv.label_group[0]"
   ]
  },
  {
   "cell_type": "code",
   "execution_count": 23,
   "metadata": {},
   "outputs": [],
   "source": [
    "# Data augmentation\n",
    "\n",
    "\"\"\"transforms_train = albumentations.Compose([albumentations.HorizontalFlip(p=0.5),\n",
    "                                           albumentations.RandomBrightnessContrast(p=0.5, brightness_limit=(-0.2, 0.2), contrast_limit=(-0.2, 0.2)),\n",
    "                                           albumentations.HueSaturationValue(p=0.5, hue_shift_limit=0.2, sat_shift_limit=0.2, val_shift_limit=0.2),\n",
    "                                           albumentations.ShiftScaleRotate(p=0.5, shift_limit=0.0625, scale_limit=0.2, rotate_limit=20),\n",
    "                                           albumentations.CoarseDropout(p=0.5),\n",
    "                                           albumentations.Normalize()])\n",
    "\"\"\"\n",
    "transforms_train = albumentations.Compose([albumentations.HorizontalFlip(p=0.5)])"
   ]
  },
  {
   "cell_type": "code",
   "execution_count": 23,
   "metadata": {},
   "outputs": [],
   "source": [
    "# Arcface implementation (Not tested yet)\n",
    "\n",
    "class ArcMarginProduct(nn.Module):\n",
    "    r\"\"\"Implement of large margin arc distance: :\n",
    "        Args:\n",
    "            in_features: size of each input sample\n",
    "            out_features: size of each output sample\n",
    "            s: norm of input feature\n",
    "            m: margin\n",
    "            cos(theta + m)\n",
    "        \"\"\"\n",
    "    def __init__(self, in_features, out_features, s=30.0, m=0.50, easy_margin=False):\n",
    "        super(ArcMarginProduct, self).__init__()\n",
    "        self.in_features = in_features\n",
    "        self.out_features = out_features\n",
    "        self.s = s\n",
    "        self.m = m\n",
    "        self.weight = nn.Parameter(torch.FloatTensor(out_features, in_features))\n",
    "        nn.init.xavier_uniform_(self.weight)\n",
    "\n",
    "        self.easy_margin = easy_margin\n",
    "        self.cos_m = math.cos(m)\n",
    "        self.sin_m = math.sin(m)\n",
    "        self.th = math.cos(math.pi - m)\n",
    "        self.mm = math.sin(math.pi - m) * m\n",
    "\n",
    "    def forward(self, input, label):\n",
    "        # --------------------------- cos(theta) & phi(theta) ---------------------------\n",
    "        cosine = F.linear(F.normalize(input), F.normalize(self.weight))\n",
    "        sine = torch.sqrt((1.0 - torch.pow(cosine, 2)).clamp(0, 1))\n",
    "        phi = cosine * self.cos_m - sine * self.sin_m\n",
    "        if self.easy_margin:\n",
    "            phi = torch.where(cosine > 0, phi, cosine)\n",
    "        else:\n",
    "            phi = torch.where(cosine > self.th, phi, cosine - self.mm)\n",
    "        # --------------------------- convert label to one-hot ---------------------------\n",
    "        # one_hot = torch.zeros(cosine.size(), requires_grad=True, device='cuda')\n",
    "        one_hot = torch.zeros(cosine.size(), device='cuda')\n",
    "        one_hot.scatter_(1, label.view(-1, 1).long(), 1)\n",
    "        # -------------torch.where(out_i = {x_i if condition_i else y_i) -------------\n",
    "        output = (one_hot * phi) + ((1.0 - one_hot) * cosine)  # you can use torch.where if your torch.__version__ is 0.4\n",
    "        output *= self.s\n",
    "        # print(output)\n",
    "\n",
    "        return output\n",
    "\n",
    "class AddMarginProduct(nn.Module):\n",
    "    r\"\"\"Implement of large margin cosine distance: :\n",
    "    Args:\n",
    "        in_features: size of each input sample\n",
    "        out_features: size of each output sample\n",
    "        s: norm of input feature\n",
    "        m: margin\n",
    "        cos(theta) - m\n",
    "    \"\"\"\n",
    "\n",
    "    def __init__(self, in_features, out_features, s=30.0, m=0.40):\n",
    "        super(AddMarginProduct, self).__init__()\n",
    "        self.in_features = in_features\n",
    "        self.out_features = out_features\n",
    "        self.s = s\n",
    "        self.m = m\n",
    "        self.weight = nn.Parameter(torch.FloatTensor(out_features, in_features))\n",
    "        nn.init.xavier_uniform_(self.weight)\n",
    "\n",
    "    def forward(self, input, label):\n",
    "        # --------------------------- cos(theta) & phi(theta) ---------------------------\n",
    "        cosine = F.linear(F.normalize(input), F.normalize(self.weight))\n",
    "        phi = cosine - self.m\n",
    "        # --------------------------- convert label to one-hot ---------------------------\n",
    "        one_hot = torch.zeros(cosine.size())\n",
    "        # one_hot = one_hot.cuda() if cosine.is_cuda else one_hot\n",
    "        one_hot.scatter_(1, label.view(-1, 1).long(), 1)\n",
    "        # -------------torch.where(out_i = {x_i if condition_i else y_i) -------------\n",
    "        output = (one_hot * phi) + ((1.0 - one_hot) * cosine)  # you can use torch.where if your torch.__version__ is 0.4\n",
    "        output *= self.s\n",
    "        # print(output)\n",
    "\n",
    "        return output"
   ]
  },
  {
   "cell_type": "code",
   "execution_count": 16,
   "metadata": {
    "id": "UQ6uCQxDw1-h"
   },
   "outputs": [],
   "source": [
    "# Createing dataset\n",
    "class ShopeeDataset(Dataset):\n",
    "    def __init__(self, csv, transforms=None, imsize = 512):\n",
    "        self.csv = csv\n",
    "        self.transforms = transforms\n",
    "        self.imsize = imsize\n",
    "    def __len__(self):\n",
    "        return self.csv.shape[0]\n",
    "\n",
    "    def __getitem__(self, index):\n",
    "        row = self.csv.iloc[index]\n",
    "        title = row.title\n",
    "        img = cv2.imread('train_images/'+row.image)\n",
    "        if self.transforms != None:\n",
    "          img = self.transforms(image = img)['image']\n",
    "        img= transforms.ToTensor()(img)\n",
    "        \n",
    "        img = transforms.Resize((self.imsize,self.imsize))(img)\n",
    "        #img = img.unsqueeze(dim = 0)\n",
    "        #img = cv2.cvtColor(img, cv2.COLOR_BGR2RGB)\n",
    "        return img,torch.tensor(row.label_group)"
   ]
  },
  {
   "cell_type": "code",
   "execution_count": 25,
   "metadata": {},
   "outputs": [],
   "source": [
    "# Createing dataset\n",
    "class ShopeeDataset_text(Dataset):\n",
    "    def __init__(self, csv):\n",
    "        self.csv = csv\n",
    "    def __len__(self):\n",
    "        return self.csv.shape[0]\n",
    "    def __getitem__(self, index):\n",
    "        row = self.csv.iloc[index]\n",
    "        title = row.title\n",
    "        return title,torch.tensor(row.label_group)"
   ]
  },
  {
   "cell_type": "code",
   "execution_count": 17,
   "metadata": {
    "id": "3tHSj7yKxFF8"
   },
   "outputs": [],
   "source": [
    "# Defining dataset\n",
    "ds = ShopeeDataset(train_csv, imsize= 512)"
   ]
  },
  {
   "cell_type": "code",
   "execution_count": 25,
   "metadata": {},
   "outputs": [],
   "source": [
    "class ShopeeImageDataset(Dataset):\n",
    "    def __init__(self, img_path, transform):\n",
    "        self.img_path = img_path\n",
    "        self.transform = transform\n",
    "        \n",
    "    def __getitem__(self, index):\n",
    "        img = Image.open(self.img_path[index]).convert('RGB')\n",
    "        img = self.transform(img)\n",
    "        return img\n",
    "    \n",
    "    def __len__(self):\n",
    "        return len(self.img_path)"
   ]
  },
  {
   "cell_type": "code",
   "execution_count": 27,
   "metadata": {},
   "outputs": [],
   "source": [
    "imagedataset = ShopeeImageDataset(\n",
    "    train_csv['image'].values,\n",
    "    transforms.Compose([\n",
    "        transforms.Resize((512, 512)),\n",
    "        transforms.ToTensor(),\n",
    "        transforms.Normalize([0.485, 0.456, 0.406], [0.229, 0.224, 0.225])\n",
    "]))"
   ]
  },
  {
   "cell_type": "code",
   "execution_count": 10,
   "metadata": {},
   "outputs": [],
   "source": [
    "class ShopeeImageEmbeddingNet(nn.Module):\n",
    "    def __init__(self):\n",
    "        super(ShopeeImageEmbeddingNet, self).__init__()\n",
    "              \n",
    "        model = models.resnet18(True)\n",
    "        model.avgpool = nn.AdaptiveMaxPool2d(output_size=(1, 1))\n",
    "        model = nn.Sequential(*list(model.children())[:-1])\n",
    "        model.eval()\n",
    "        self.model = model\n",
    "        \n",
    "    def forward(self, img):        \n",
    "        out = self.model(img)\n",
    "        return out"
   ]
  },
  {
   "cell_type": "code",
   "execution_count": 11,
   "metadata": {},
   "outputs": [],
   "source": [
    "imgmodel = ShopeeImageEmbeddingNet()"
   ]
  },
  {
   "cell_type": "code",
   "execution_count": 28,
   "metadata": {},
   "outputs": [],
   "source": [
    "imageloader = torch.utils.data.DataLoader(\n",
    "    imagedataset,\n",
    "    batch_size=40, shuffle=False,\n",
    ")\n"
   ]
  },
  {
   "cell_type": "code",
   "execution_count": 29,
   "metadata": {},
   "outputs": [
    {
     "name": "stderr",
     "output_type": "stream",
     "text": [
      "  0%|          | 0/857 [00:00<?, ?it/s]\n"
     ]
    },
    {
     "ename": "FileNotFoundError",
     "evalue": "[Errno 2] No such file or directory: '0000a68812bc7e98c42888dfb1c07da0.jpg'",
     "output_type": "error",
     "traceback": [
      "\u001b[0;31m---------------------------------------------------------------------------\u001b[0m",
      "\u001b[0;31mFileNotFoundError\u001b[0m                         Traceback (most recent call last)",
      "\u001b[0;32m<ipython-input-29-fc5e4545fb63>\u001b[0m in \u001b[0;36m<module>\u001b[0;34m\u001b[0m\n\u001b[1;32m      1\u001b[0m \u001b[0mimagefeat\u001b[0m \u001b[0;34m=\u001b[0m \u001b[0;34m[\u001b[0m\u001b[0;34m]\u001b[0m\u001b[0;34m\u001b[0m\u001b[0;34m\u001b[0m\u001b[0m\n\u001b[1;32m      2\u001b[0m \u001b[0;32mwith\u001b[0m \u001b[0mtorch\u001b[0m\u001b[0;34m.\u001b[0m\u001b[0mno_grad\u001b[0m\u001b[0;34m(\u001b[0m\u001b[0;34m)\u001b[0m\u001b[0;34m:\u001b[0m\u001b[0;34m\u001b[0m\u001b[0;34m\u001b[0m\u001b[0m\n\u001b[0;32m----> 3\u001b[0;31m     \u001b[0;32mfor\u001b[0m \u001b[0mdata\u001b[0m \u001b[0;32min\u001b[0m \u001b[0mtqdm\u001b[0m\u001b[0;34m(\u001b[0m\u001b[0mimageloader\u001b[0m\u001b[0;34m)\u001b[0m\u001b[0;34m:\u001b[0m\u001b[0;34m\u001b[0m\u001b[0;34m\u001b[0m\u001b[0m\n\u001b[0m\u001b[1;32m      4\u001b[0m         \u001b[0mdata\u001b[0m \u001b[0;34m=\u001b[0m \u001b[0mdata\u001b[0m\u001b[0;34m\u001b[0m\u001b[0;34m\u001b[0m\u001b[0m\n\u001b[1;32m      5\u001b[0m         \u001b[0mfeat\u001b[0m \u001b[0;34m=\u001b[0m \u001b[0mimgmodel\u001b[0m\u001b[0;34m(\u001b[0m\u001b[0mdata\u001b[0m\u001b[0;34m)\u001b[0m\u001b[0;34m\u001b[0m\u001b[0;34m\u001b[0m\u001b[0m\n",
      "\u001b[0;32m/opt/anaconda3/lib/python3.7/site-packages/tqdm/std.py\u001b[0m in \u001b[0;36m__iter__\u001b[0;34m(self)\u001b[0m\n\u001b[1;32m   1176\u001b[0m \u001b[0;34m\u001b[0m\u001b[0m\n\u001b[1;32m   1177\u001b[0m         \u001b[0;32mtry\u001b[0m\u001b[0;34m:\u001b[0m\u001b[0;34m\u001b[0m\u001b[0;34m\u001b[0m\u001b[0m\n\u001b[0;32m-> 1178\u001b[0;31m             \u001b[0;32mfor\u001b[0m \u001b[0mobj\u001b[0m \u001b[0;32min\u001b[0m \u001b[0miterable\u001b[0m\u001b[0;34m:\u001b[0m\u001b[0;34m\u001b[0m\u001b[0;34m\u001b[0m\u001b[0m\n\u001b[0m\u001b[1;32m   1179\u001b[0m                 \u001b[0;32myield\u001b[0m \u001b[0mobj\u001b[0m\u001b[0;34m\u001b[0m\u001b[0;34m\u001b[0m\u001b[0m\n\u001b[1;32m   1180\u001b[0m                 \u001b[0;31m# Update and possibly print the progressbar.\u001b[0m\u001b[0;34m\u001b[0m\u001b[0;34m\u001b[0m\u001b[0;34m\u001b[0m\u001b[0m\n",
      "\u001b[0;32m/opt/anaconda3/lib/python3.7/site-packages/torch/utils/data/dataloader.py\u001b[0m in \u001b[0;36m__next__\u001b[0;34m(self)\u001b[0m\n\u001b[1;32m    515\u001b[0m             \u001b[0;32mif\u001b[0m \u001b[0mself\u001b[0m\u001b[0;34m.\u001b[0m\u001b[0m_sampler_iter\u001b[0m \u001b[0;32mis\u001b[0m \u001b[0;32mNone\u001b[0m\u001b[0;34m:\u001b[0m\u001b[0;34m\u001b[0m\u001b[0;34m\u001b[0m\u001b[0m\n\u001b[1;32m    516\u001b[0m                 \u001b[0mself\u001b[0m\u001b[0;34m.\u001b[0m\u001b[0m_reset\u001b[0m\u001b[0;34m(\u001b[0m\u001b[0;34m)\u001b[0m\u001b[0;34m\u001b[0m\u001b[0;34m\u001b[0m\u001b[0m\n\u001b[0;32m--> 517\u001b[0;31m             \u001b[0mdata\u001b[0m \u001b[0;34m=\u001b[0m \u001b[0mself\u001b[0m\u001b[0;34m.\u001b[0m\u001b[0m_next_data\u001b[0m\u001b[0;34m(\u001b[0m\u001b[0;34m)\u001b[0m\u001b[0;34m\u001b[0m\u001b[0;34m\u001b[0m\u001b[0m\n\u001b[0m\u001b[1;32m    518\u001b[0m             \u001b[0mself\u001b[0m\u001b[0;34m.\u001b[0m\u001b[0m_num_yielded\u001b[0m \u001b[0;34m+=\u001b[0m \u001b[0;36m1\u001b[0m\u001b[0;34m\u001b[0m\u001b[0;34m\u001b[0m\u001b[0m\n\u001b[1;32m    519\u001b[0m             \u001b[0;32mif\u001b[0m \u001b[0mself\u001b[0m\u001b[0;34m.\u001b[0m\u001b[0m_dataset_kind\u001b[0m \u001b[0;34m==\u001b[0m \u001b[0m_DatasetKind\u001b[0m\u001b[0;34m.\u001b[0m\u001b[0mIterable\u001b[0m \u001b[0;32mand\u001b[0m\u001b[0;31m \u001b[0m\u001b[0;31m\\\u001b[0m\u001b[0;34m\u001b[0m\u001b[0;34m\u001b[0m\u001b[0m\n",
      "\u001b[0;32m/opt/anaconda3/lib/python3.7/site-packages/torch/utils/data/dataloader.py\u001b[0m in \u001b[0;36m_next_data\u001b[0;34m(self)\u001b[0m\n\u001b[1;32m    555\u001b[0m     \u001b[0;32mdef\u001b[0m \u001b[0m_next_data\u001b[0m\u001b[0;34m(\u001b[0m\u001b[0mself\u001b[0m\u001b[0;34m)\u001b[0m\u001b[0;34m:\u001b[0m\u001b[0;34m\u001b[0m\u001b[0;34m\u001b[0m\u001b[0m\n\u001b[1;32m    556\u001b[0m         \u001b[0mindex\u001b[0m \u001b[0;34m=\u001b[0m \u001b[0mself\u001b[0m\u001b[0;34m.\u001b[0m\u001b[0m_next_index\u001b[0m\u001b[0;34m(\u001b[0m\u001b[0;34m)\u001b[0m  \u001b[0;31m# may raise StopIteration\u001b[0m\u001b[0;34m\u001b[0m\u001b[0;34m\u001b[0m\u001b[0m\n\u001b[0;32m--> 557\u001b[0;31m         \u001b[0mdata\u001b[0m \u001b[0;34m=\u001b[0m \u001b[0mself\u001b[0m\u001b[0;34m.\u001b[0m\u001b[0m_dataset_fetcher\u001b[0m\u001b[0;34m.\u001b[0m\u001b[0mfetch\u001b[0m\u001b[0;34m(\u001b[0m\u001b[0mindex\u001b[0m\u001b[0;34m)\u001b[0m  \u001b[0;31m# may raise StopIteration\u001b[0m\u001b[0;34m\u001b[0m\u001b[0;34m\u001b[0m\u001b[0m\n\u001b[0m\u001b[1;32m    558\u001b[0m         \u001b[0;32mif\u001b[0m \u001b[0mself\u001b[0m\u001b[0;34m.\u001b[0m\u001b[0m_pin_memory\u001b[0m\u001b[0;34m:\u001b[0m\u001b[0;34m\u001b[0m\u001b[0;34m\u001b[0m\u001b[0m\n\u001b[1;32m    559\u001b[0m             \u001b[0mdata\u001b[0m \u001b[0;34m=\u001b[0m \u001b[0m_utils\u001b[0m\u001b[0;34m.\u001b[0m\u001b[0mpin_memory\u001b[0m\u001b[0;34m.\u001b[0m\u001b[0mpin_memory\u001b[0m\u001b[0;34m(\u001b[0m\u001b[0mdata\u001b[0m\u001b[0;34m)\u001b[0m\u001b[0;34m\u001b[0m\u001b[0;34m\u001b[0m\u001b[0m\n",
      "\u001b[0;32m/opt/anaconda3/lib/python3.7/site-packages/torch/utils/data/_utils/fetch.py\u001b[0m in \u001b[0;36mfetch\u001b[0;34m(self, possibly_batched_index)\u001b[0m\n\u001b[1;32m     42\u001b[0m     \u001b[0;32mdef\u001b[0m \u001b[0mfetch\u001b[0m\u001b[0;34m(\u001b[0m\u001b[0mself\u001b[0m\u001b[0;34m,\u001b[0m \u001b[0mpossibly_batched_index\u001b[0m\u001b[0;34m)\u001b[0m\u001b[0;34m:\u001b[0m\u001b[0;34m\u001b[0m\u001b[0;34m\u001b[0m\u001b[0m\n\u001b[1;32m     43\u001b[0m         \u001b[0;32mif\u001b[0m \u001b[0mself\u001b[0m\u001b[0;34m.\u001b[0m\u001b[0mauto_collation\u001b[0m\u001b[0;34m:\u001b[0m\u001b[0;34m\u001b[0m\u001b[0;34m\u001b[0m\u001b[0m\n\u001b[0;32m---> 44\u001b[0;31m             \u001b[0mdata\u001b[0m \u001b[0;34m=\u001b[0m \u001b[0;34m[\u001b[0m\u001b[0mself\u001b[0m\u001b[0;34m.\u001b[0m\u001b[0mdataset\u001b[0m\u001b[0;34m[\u001b[0m\u001b[0midx\u001b[0m\u001b[0;34m]\u001b[0m \u001b[0;32mfor\u001b[0m \u001b[0midx\u001b[0m \u001b[0;32min\u001b[0m \u001b[0mpossibly_batched_index\u001b[0m\u001b[0;34m]\u001b[0m\u001b[0;34m\u001b[0m\u001b[0;34m\u001b[0m\u001b[0m\n\u001b[0m\u001b[1;32m     45\u001b[0m         \u001b[0;32melse\u001b[0m\u001b[0;34m:\u001b[0m\u001b[0;34m\u001b[0m\u001b[0;34m\u001b[0m\u001b[0m\n\u001b[1;32m     46\u001b[0m             \u001b[0mdata\u001b[0m \u001b[0;34m=\u001b[0m \u001b[0mself\u001b[0m\u001b[0;34m.\u001b[0m\u001b[0mdataset\u001b[0m\u001b[0;34m[\u001b[0m\u001b[0mpossibly_batched_index\u001b[0m\u001b[0;34m]\u001b[0m\u001b[0;34m\u001b[0m\u001b[0;34m\u001b[0m\u001b[0m\n",
      "\u001b[0;32m/opt/anaconda3/lib/python3.7/site-packages/torch/utils/data/_utils/fetch.py\u001b[0m in \u001b[0;36m<listcomp>\u001b[0;34m(.0)\u001b[0m\n\u001b[1;32m     42\u001b[0m     \u001b[0;32mdef\u001b[0m \u001b[0mfetch\u001b[0m\u001b[0;34m(\u001b[0m\u001b[0mself\u001b[0m\u001b[0;34m,\u001b[0m \u001b[0mpossibly_batched_index\u001b[0m\u001b[0;34m)\u001b[0m\u001b[0;34m:\u001b[0m\u001b[0;34m\u001b[0m\u001b[0;34m\u001b[0m\u001b[0m\n\u001b[1;32m     43\u001b[0m         \u001b[0;32mif\u001b[0m \u001b[0mself\u001b[0m\u001b[0;34m.\u001b[0m\u001b[0mauto_collation\u001b[0m\u001b[0;34m:\u001b[0m\u001b[0;34m\u001b[0m\u001b[0;34m\u001b[0m\u001b[0m\n\u001b[0;32m---> 44\u001b[0;31m             \u001b[0mdata\u001b[0m \u001b[0;34m=\u001b[0m \u001b[0;34m[\u001b[0m\u001b[0mself\u001b[0m\u001b[0;34m.\u001b[0m\u001b[0mdataset\u001b[0m\u001b[0;34m[\u001b[0m\u001b[0midx\u001b[0m\u001b[0;34m]\u001b[0m \u001b[0;32mfor\u001b[0m \u001b[0midx\u001b[0m \u001b[0;32min\u001b[0m \u001b[0mpossibly_batched_index\u001b[0m\u001b[0;34m]\u001b[0m\u001b[0;34m\u001b[0m\u001b[0;34m\u001b[0m\u001b[0m\n\u001b[0m\u001b[1;32m     45\u001b[0m         \u001b[0;32melse\u001b[0m\u001b[0;34m:\u001b[0m\u001b[0;34m\u001b[0m\u001b[0;34m\u001b[0m\u001b[0m\n\u001b[1;32m     46\u001b[0m             \u001b[0mdata\u001b[0m \u001b[0;34m=\u001b[0m \u001b[0mself\u001b[0m\u001b[0;34m.\u001b[0m\u001b[0mdataset\u001b[0m\u001b[0;34m[\u001b[0m\u001b[0mpossibly_batched_index\u001b[0m\u001b[0;34m]\u001b[0m\u001b[0;34m\u001b[0m\u001b[0;34m\u001b[0m\u001b[0m\n",
      "\u001b[0;32m<ipython-input-25-03fcd793cbc9>\u001b[0m in \u001b[0;36m__getitem__\u001b[0;34m(self, index)\u001b[0m\n\u001b[1;32m      5\u001b[0m \u001b[0;34m\u001b[0m\u001b[0m\n\u001b[1;32m      6\u001b[0m     \u001b[0;32mdef\u001b[0m \u001b[0m__getitem__\u001b[0m\u001b[0;34m(\u001b[0m\u001b[0mself\u001b[0m\u001b[0;34m,\u001b[0m \u001b[0mindex\u001b[0m\u001b[0;34m)\u001b[0m\u001b[0;34m:\u001b[0m\u001b[0;34m\u001b[0m\u001b[0;34m\u001b[0m\u001b[0m\n\u001b[0;32m----> 7\u001b[0;31m         \u001b[0mimg\u001b[0m \u001b[0;34m=\u001b[0m \u001b[0mImage\u001b[0m\u001b[0;34m.\u001b[0m\u001b[0mopen\u001b[0m\u001b[0;34m(\u001b[0m\u001b[0mself\u001b[0m\u001b[0;34m.\u001b[0m\u001b[0mimg_path\u001b[0m\u001b[0;34m[\u001b[0m\u001b[0mindex\u001b[0m\u001b[0;34m]\u001b[0m\u001b[0;34m)\u001b[0m\u001b[0;34m.\u001b[0m\u001b[0mconvert\u001b[0m\u001b[0;34m(\u001b[0m\u001b[0;34m'RGB'\u001b[0m\u001b[0;34m)\u001b[0m\u001b[0;34m\u001b[0m\u001b[0;34m\u001b[0m\u001b[0m\n\u001b[0m\u001b[1;32m      8\u001b[0m         \u001b[0mimg\u001b[0m \u001b[0;34m=\u001b[0m \u001b[0mself\u001b[0m\u001b[0;34m.\u001b[0m\u001b[0mtransform\u001b[0m\u001b[0;34m(\u001b[0m\u001b[0mimg\u001b[0m\u001b[0;34m)\u001b[0m\u001b[0;34m\u001b[0m\u001b[0;34m\u001b[0m\u001b[0m\n\u001b[1;32m      9\u001b[0m         \u001b[0;32mreturn\u001b[0m \u001b[0mimg\u001b[0m\u001b[0;34m\u001b[0m\u001b[0;34m\u001b[0m\u001b[0m\n",
      "\u001b[0;32m/opt/anaconda3/lib/python3.7/site-packages/PIL/Image.py\u001b[0m in \u001b[0;36mopen\u001b[0;34m(fp, mode, formats)\u001b[0m\n\u001b[1;32m   2910\u001b[0m \u001b[0;34m\u001b[0m\u001b[0m\n\u001b[1;32m   2911\u001b[0m     \u001b[0;32mif\u001b[0m \u001b[0mfilename\u001b[0m\u001b[0;34m:\u001b[0m\u001b[0;34m\u001b[0m\u001b[0;34m\u001b[0m\u001b[0m\n\u001b[0;32m-> 2912\u001b[0;31m         \u001b[0mfp\u001b[0m \u001b[0;34m=\u001b[0m \u001b[0mbuiltins\u001b[0m\u001b[0;34m.\u001b[0m\u001b[0mopen\u001b[0m\u001b[0;34m(\u001b[0m\u001b[0mfilename\u001b[0m\u001b[0;34m,\u001b[0m \u001b[0;34m\"rb\"\u001b[0m\u001b[0;34m)\u001b[0m\u001b[0;34m\u001b[0m\u001b[0;34m\u001b[0m\u001b[0m\n\u001b[0m\u001b[1;32m   2913\u001b[0m         \u001b[0mexclusive_fp\u001b[0m \u001b[0;34m=\u001b[0m \u001b[0;32mTrue\u001b[0m\u001b[0;34m\u001b[0m\u001b[0;34m\u001b[0m\u001b[0m\n\u001b[1;32m   2914\u001b[0m \u001b[0;34m\u001b[0m\u001b[0m\n",
      "\u001b[0;31mFileNotFoundError\u001b[0m: [Errno 2] No such file or directory: '0000a68812bc7e98c42888dfb1c07da0.jpg'"
     ]
    }
   ],
   "source": [
    "imagefeat = []\n",
    "with torch.no_grad():\n",
    "    for data in tqdm(imageloader):\n",
    "        data = data\n",
    "        feat = imgmodel(data)\n",
    "        feat = feat.reshape(feat.shape[0], feat.shape[1])\n",
    "        feat = feat.data.numpy()\n",
    "        "
   ]
  },
  {
   "cell_type": "code",
   "execution_count": 27,
   "metadata": {
    "colab": {
     "base_uri": "https://localhost:8080/"
    },
    "id": "go-lYSX_xREO",
    "outputId": "25871e07-d715-47c9-ced9-17a715aead08"
   },
   "outputs": [
    {
     "data": {
      "text/plain": [
       "34250"
      ]
     },
     "execution_count": 27,
     "metadata": {},
     "output_type": "execute_result"
    }
   ],
   "source": [
    "len(ds)"
   ]
  },
  {
   "cell_type": "code",
   "execution_count": 40,
   "metadata": {
    "colab": {
     "base_uri": "https://localhost:8080/"
    },
    "id": "Rn8EwOYjxTd8",
    "outputId": "1e98c55a-1ec0-47b4-b6ed-2cdf7d521247"
   },
   "outputs": [
    {
     "data": {
      "text/plain": [
       "torch.Size([3, 512, 512])"
      ]
     },
     "execution_count": 40,
     "metadata": {},
     "output_type": "execute_result"
    }
   ],
   "source": [
    "ds[0][0].size()"
   ]
  },
  {
   "cell_type": "code",
   "execution_count": 41,
   "metadata": {
    "id": "_oFtfqD_xhps"
   },
   "outputs": [],
   "source": [
    "# Defining train loader\n",
    "train_loader = torch.utils.data.DataLoader(\n",
    "        ds,\n",
    "        batch_size=120,\n",
    "        drop_last=True\n",
    "    )"
   ]
  },
  {
   "cell_type": "code",
   "execution_count": 42,
   "metadata": {
    "colab": {
     "base_uri": "https://localhost:8080/",
     "height": 316
    },
    "id": "twNs9IJY-2qV",
    "outputId": "8dadf26d-e891-438a-b967-2efbb2698a7d"
   },
   "outputs": [
    {
     "name": "stdout",
     "output_type": "stream",
     "text": [
      "torch.Size([120, 3, 512, 512])\n"
     ]
    },
    {
     "data": {
      "image/png": "[encoded data removed]",
      "text/plain": [
       "<Figure size 432x288 with 1 Axes>"
      ]
     },
     "metadata": {
      "needs_background": "light"
     },
     "output_type": "display_data"
    }
   ],
   "source": [
    "for x,y in train_loader:\n",
    "  print(x.size())\n",
    "  plt.imshow(transforms.ToPILImage()(x[0]))\n",
    "  break"
   ]
  },
  {
   "cell_type": "code",
   "execution_count": 368,
   "metadata": {},
   "outputs": [],
   "source": [
    "#Dataset using augmented data\n",
    "ds_augmentee = ShopeeDataset(train_csv, imsize= 512, transforms=transforms_train)"
   ]
  },
  {
   "cell_type": "code",
   "execution_count": 369,
   "metadata": {},
   "outputs": [
    {
     "data": {
      "text/plain": [
       "torch.Size([3, 512, 512])"
      ]
     },
     "execution_count": 369,
     "metadata": {},
     "output_type": "execute_result"
    }
   ],
   "source": [
    "ds_augmentee[0][0].size()"
   ]
  },
  {
   "cell_type": "code",
   "execution_count": 370,
   "metadata": {},
   "outputs": [],
   "source": [
    "train_loader_augmentee =torch.utils.data.DataLoader(\n",
    "        ds_augmentee,\n",
    "        batch_size=120,\n",
    "        pin_memory=True,\n",
    "        drop_last=True\n",
    "    )\n"
   ]
  },
  {
   "cell_type": "code",
   "execution_count": 371,
   "metadata": {},
   "outputs": [
    {
     "name": "stdout",
     "output_type": "stream",
     "text": [
      "torch.Size([120, 3, 512, 512])\n"
     ]
    },
    {
     "data": {
      "image/png": "[encoded data removed]",
      "text/plain": [
       "<Figure size 432x288 with 1 Axes>"
      ]
     },
     "metadata": {
      "needs_background": "light"
     },
     "output_type": "display_data"
    }
   ],
   "source": [
    "for x,y in train_loader_augmentee:\n",
    "  print(x.size())\n",
    "  plt.imshow(transforms.ToPILImage()(x[0]))\n",
    "  break"
   ]
  },
  {
   "cell_type": "code",
   "execution_count": 34,
   "metadata": {
    "id": "UvaT-aLj-_JX"
   },
   "outputs": [],
   "source": [
    "# Random network just for test\n",
    "class RandNet(nn.Module):\n",
    "    def __init__(self, n_classes, fc_dim = 24):\n",
    "        super(RandNet, self).__init__()\n",
    "        self.conv1 = nn.Conv2d(3, 4, kernel_size = 3, padding = 1)\n",
    "        self.maxpool = nn.MaxPool2d(2, stride = 2)\n",
    "        self.layers = nn.Sequential(self.conv1, nn.ReLU(), self.maxpool)\n",
    "        self.final_layer = nn.Linear(4*12*12, n_classes)\n",
    "        \n",
    "    def embedding(self, x):\n",
    "        vector = self.layers(x)\n",
    "        #vector = self.maxpool(vector)\n",
    "        return (vector)\n",
    "    \n",
    "    def forward(self,x):\n",
    "        z = self.embedding(x)\n",
    "        z= z.view(-1,4*12*12)\n",
    "        return self.final_layer(z)\n",
    "        "
   ]
  },
  {
   "cell_type": "code",
   "execution_count": 35,
   "metadata": {
    "id": "tV_Z2lzT_mX1"
   },
   "outputs": [],
   "source": [
    "rdn = RandNet(n_labels)"
   ]
  },
  {
   "cell_type": "code",
   "execution_count": 36,
   "metadata": {
    "colab": {
     "base_uri": "https://localhost:8080/"
    },
    "id": "PuTJdDcI_rD5",
    "outputId": "1382072d-6591-42f5-fc37-986aebcd0abc"
   },
   "outputs": [
    {
     "name": "stdout",
     "output_type": "stream",
     "text": [
      "torch.Size([120, 3, 24, 24])\n",
      "tensor([  666,  7572,  6172, 10509,  9425,  6836,  4687,  3976,  6076,  6754,\n",
      "         6347,  1306,  1306, 10797,  4940,   897,  4002,  6058,  8795,  5382,\n",
      "         9363,  1363, 10874,  5732, 10391,  1039,  5192,  7555,  1366,  1366,\n",
      "         2333,  6351, 10937,  9246, 10069,  4148,  6817,  8584,  9843,  2575,\n",
      "         3012,   260,  2466,  2512,  2719,  5085,  3907,  9392,  3280,  4728,\n",
      "         2994,  7285,   947,  3529,  5705,  7647,  3499,  3499,   561,   561,\n",
      "         2119,  3128,   510,  9011,  3970,  9251,  4355,  2038,  5853,  9794,\n",
      "          919,  9830,   383,  2922, 10577,  9011,  3203,  2569,  4839,  2072,\n",
      "         6861,  8675, 10643,  2787,  9251,  2994,  3466,  4812,  8510,  6222,\n",
      "         8036,  8720,  6951,  2102,  2930,  3096,  4472,  2994,  9011,  9011,\n",
      "         7975,  3646, 10629,  4538,  2716,  2716,  2716,  2716,  8785,  8785,\n",
      "          909,  9364,  5191,  4849,  3250,   316,  6806,  9518, 10730,   950])\n",
      "tensor([[ 0.2585, -0.1644, -0.1369,  ...,  0.2090, -0.0345, -0.1331],\n",
      "        [ 0.0148, -0.0259,  0.0877,  ...,  0.0726, -0.3681, -0.1466],\n",
      "        [ 0.0358, -0.0788,  0.0348,  ...,  0.0476, -0.1390, -0.0956],\n",
      "        ...,\n",
      "        [ 0.0658, -0.0715,  0.0267,  ...,  0.0263, -0.1831, -0.2175],\n",
      "        [ 0.1070,  0.0082, -0.0159,  ...,  0.1606, -0.0312, -0.1042],\n",
      "        [ 0.0767, -0.0676, -0.0255,  ...,  0.0495, -0.1775, -0.1060]],\n",
      "       grad_fn=<AddmmBackward>)\n"
     ]
    }
   ],
   "source": [
    "for x,y in train_loader:\n",
    "  print(x.size())\n",
    "  print(y)\n",
    "  print(rdn(x))\n",
    "  break"
   ]
  },
  {
   "cell_type": "code",
   "execution_count": 28,
   "metadata": {},
   "outputs": [],
   "source": [
    "# Defining the model \n",
    "\n",
    "class Shopee_net(nn.Module):\n",
    "    \n",
    "    def __init__(self, n_classes = 11014, pretrained=True, loss_module='ArcFace' ):\n",
    "        super(Shopee_net, self).__init__()\n",
    "        #self.backbone = timm.create_model(backbone, pretrained=pretrained)\n",
    "        self.backbone = models.resnet18(pretrained=True)\n",
    "        '''for param in model.parameters(): # Freezing model backpropagation \n",
    "            param.requires_grad = False'''\n",
    "        self.n_classes = n_classes # Here it's the number of different labels encountered in training dataset\n",
    "        #self.in_features = self.backbone.classifier[0].in_features\n",
    "        #self.backbone.classifier = nn.Identity() # We restrict our model to the feauture extraction part\n",
    "        self.in_features = self.backbone.fc.in_features\n",
    "        self.backbone.fc = nn.Identity()\n",
    "        self.fc = nn.Linear(self.in_features, 11014)\n",
    "        \"\"\"\n",
    "        self.fc = nn.Sequential(nn.Linear(self.in_features, 32), \n",
    "                                 nn.ReLU(), \n",
    "                                 nn.Dropout(0.5),\n",
    "                                 nn.Linear(32, 11014)) # We add a linear layer \"\"\"\n",
    "        #self.loss = ArcMarginProduct(self.in_features, n_classes)\n",
    "        \n",
    "      \n",
    "    def extract_features(self, x):\n",
    "        return self.backbone(x)   \n",
    "          \n",
    "    def forward(self, x):\n",
    "        features = self.backbone(x)\n",
    "        x = self.fc(features)\n",
    "        return x\n",
    "        \n",
    "        \n",
    "    "
   ]
  },
  {
   "cell_type": "code",
   "execution_count": 29,
   "metadata": {},
   "outputs": [],
   "source": [
    "net = Shopee_net()"
   ]
  },
  {
   "cell_type": "code",
   "execution_count": 30,
   "metadata": {},
   "outputs": [],
   "source": [
    "# Defining the model \n",
    "\n",
    "class Shopee_net2(nn.Module):\n",
    "    \n",
    "    def __init__(self, n_classes = 11014, pretrained=True, loss_module='ArcFace' ):\n",
    "        super(Shopee_net2, self).__init__()\n",
    "        #self.backbone = timm.create_model(backbone, pretrained=pretrained)\n",
    "        self.backbone = models.alexnet(pretrained=pretrained)\n",
    "        '''for param in model.parameters(): # Freezing model backpropagation \n",
    "            param.requires_grad = False'''\n",
    "        self.n_classes = n_classes # Here it's the number of different labels encountered in training dataset\n",
    "        #self.in_features = self.backbone.classifier[0].in_features\n",
    "        #self.backbone.classifier = nn.Identity() # We restrict our model to the feauture extraction part\n",
    "        self.in_features = self.backbone.classifier[1].in_features\n",
    "        self.backbone.classifier = nn.Linear(self.in_features, 256)\n",
    "        self.fc = nn.Linear(256, 11014)\n",
    "        \"\"\"\n",
    "        self.fc = nn.Sequential(nn.Linear(self.in_features, 32), \n",
    "                                 nn.ReLU(), \n",
    "                                 nn.Dropout(0.5),\n",
    "                                 nn.Linear(32, 11014)) # We add a linear layer \"\"\"\n",
    "        #self.loss = ArcMarginProduct(self.in_features, n_classes)\n",
    "        \n",
    "      \n",
    "    def extract_features(self, x):\n",
    "        return self.backbone(x)   \n",
    "          \n",
    "    def forward(self, x):\n",
    "        features = self.backbone(x)\n",
    "        x = self.fc(features)\n",
    "        return x\n",
    "        "
   ]
  },
  {
   "cell_type": "code",
   "execution_count": 31,
   "metadata": {},
   "outputs": [],
   "source": [
    "net2 = Shopee_net2()"
   ]
  },
  {
   "cell_type": "code",
   "execution_count": 32,
   "metadata": {},
   "outputs": [
    {
     "data": {
      "text/plain": [
       "AlexNet(\n",
       "  (features): Sequential(\n",
       "    (0): Conv2d(3, 64, kernel_size=(11, 11), stride=(4, 4), padding=(2, 2))\n",
       "    (1): ReLU(inplace=True)\n",
       "    (2): MaxPool2d(kernel_size=3, stride=2, padding=0, dilation=1, ceil_mode=False)\n",
       "    (3): Conv2d(64, 192, kernel_size=(5, 5), stride=(1, 1), padding=(2, 2))\n",
       "    (4): ReLU(inplace=True)\n",
       "    (5): MaxPool2d(kernel_size=3, stride=2, padding=0, dilation=1, ceil_mode=False)\n",
       "    (6): Conv2d(192, 384, kernel_size=(3, 3), stride=(1, 1), padding=(1, 1))\n",
       "    (7): ReLU(inplace=True)\n",
       "    (8): Conv2d(384, 256, kernel_size=(3, 3), stride=(1, 1), padding=(1, 1))\n",
       "    (9): ReLU(inplace=True)\n",
       "    (10): Conv2d(256, 256, kernel_size=(3, 3), stride=(1, 1), padding=(1, 1))\n",
       "    (11): ReLU(inplace=True)\n",
       "    (12): MaxPool2d(kernel_size=3, stride=2, padding=0, dilation=1, ceil_mode=False)\n",
       "  )\n",
       "  (avgpool): AdaptiveAvgPool2d(output_size=(6, 6))\n",
       "  (classifier): Sequential(\n",
       "    (0): Dropout(p=0.5, inplace=False)\n",
       "    (1): Linear(in_features=9216, out_features=4096, bias=True)\n",
       "    (2): ReLU(inplace=True)\n",
       "    (3): Dropout(p=0.5, inplace=False)\n",
       "    (4): Linear(in_features=4096, out_features=4096, bias=True)\n",
       "    (5): ReLU(inplace=True)\n",
       "    (6): Linear(in_features=4096, out_features=1000, bias=True)\n",
       "  )\n",
       ")"
      ]
     },
     "execution_count": 32,
     "metadata": {},
     "output_type": "execute_result"
    }
   ],
   "source": [
    "models.alexnet(pretrained=True)"
   ]
  },
  {
   "cell_type": "code",
   "execution_count": 132,
   "metadata": {
    "id": "eFAu_69O_z2l"
   },
   "outputs": [],
   "source": [
    "#Training\n",
    "def train_fn(dataloader, model, criterion, optimizer, epoch):\n",
    "    model.train()\n",
    "    #loss_score = AverageMeter()\n",
    "    loss_score = 0\n",
    "    #t = time.time()\n",
    "    tot = len(dataloader)\n",
    "    #for i,d in tqdm(enumerate(dataloader), total=tot):\n",
    "    i = 0\n",
    "    for images,targets in tqdm(dataloader, total=tot):\n",
    "        print(images.size())\n",
    "        batch_size = targets.shape[0]\n",
    "        optimizer.zero_grad()\n",
    "        output = model(images)\n",
    "        loss = criterion(output,targets)\n",
    "        loss.backward()\n",
    "        optimizer.step()\n",
    "        #loss_score.update(loss.detach().item(), batch_size)\n",
    "        loss_score+= loss\n",
    "        #tk0.set_postfix(Train_Loss=loss_score.avg,Epoch=epoch,LR=optimizer.param_groups[0]['lr'])\n",
    "        \n",
    "        break\n",
    "    return loss_score"
   ]
  },
  {
   "cell_type": "code",
   "execution_count": 140,
   "metadata": {},
   "outputs": [],
   "source": [
    "# Defining train loader\n",
    "train_loader = torch.utils.data.DataLoader(\n",
    "        ds,\n",
    "        batch_size=64,\n",
    "        drop_last=True\n",
    "    )"
   ]
  },
  {
   "cell_type": "code",
   "execution_count": null,
   "metadata": {},
   "outputs": [
    {
     "name": "stderr",
     "output_type": "stream",
     "text": [
      "  0%|          | 1/535 [00:24<3:38:59, 24.61s/it]"
     ]
    }
   ],
   "source": [
    "i = 0\n",
    "for images,targets in tqdm(train_loader):\n",
    "    output = net(images)\n",
    "    i+=1\n",
    "    if i==3:\n",
    "        break"
   ]
  },
  {
   "cell_type": "code",
   "execution_count": 34,
   "metadata": {},
   "outputs": [],
   "source": [
    "optimizer = torch.optim.Adam(net.parameters(), lr = 1e-3)\n",
    "criterion = nn.CrossEntropyLoss()\n",
    "#train_fn(train_loader, net, criterion, optimizer, 2)"
   ]
  },
  {
   "cell_type": "code",
   "execution_count": 62,
   "metadata": {},
   "outputs": [],
   "source": [
    "# Model creation using vgg16 for transfer learning\n",
    "model = models.vgg16(pretrained=True)\n",
    "for param in model.parameters():\n",
    "    param.requires_grad = False\n",
    "inf = model.classifier[0].in_features\n",
    "model.classifier = nn.Sequential(nn.Linear(inf, 512), \n",
    "                                 nn.ReLU(), \n",
    "                                 nn.Dropout(0.5),\n",
    "                                 nn.Linear(512, 11014))\n"
   ]
  },
  {
   "cell_type": "code",
   "execution_count": 63,
   "metadata": {},
   "outputs": [
    {
     "data": {
      "text/plain": [
       "Sequential(\n",
       "  (0): Linear(in_features=25088, out_features=4096, bias=True)\n",
       "  (1): ReLU(inplace=True)\n",
       "  (2): Dropout(p=0.5, inplace=False)\n",
       "  (3): Linear(in_features=4096, out_features=4096, bias=True)\n",
       "  (4): ReLU(inplace=True)\n",
       "  (5): Dropout(p=0.5, inplace=False)\n",
       "  (6): Linear(in_features=4096, out_features=1000, bias=True)\n",
       ")"
      ]
     },
     "execution_count": 63,
     "metadata": {},
     "output_type": "execute_result"
    }
   ],
   "source": []
  },
  {
   "cell_type": "code",
   "execution_count": 59,
   "metadata": {},
   "outputs": [],
   "source": [
    "bbb = model.classifier"
   ]
  },
  {
   "cell_type": "code",
   "execution_count": 61,
   "metadata": {},
   "outputs": [
    {
     "data": {
      "text/plain": [
       "Sequential(\n",
       "  (0): Linear(in_features=25088, out_features=4096, bias=True)\n",
       "  (1): ReLU(inplace=True)\n",
       "  (2): Dropout(p=0.5, inplace=False)\n",
       "  (3): Linear(in_features=4096, out_features=4096, bias=True)\n",
       "  (4): ReLU(inplace=True)\n",
       "  (5): Dropout(p=0.5, inplace=False)\n",
       "  (6): Linear(in_features=4096, out_features=1000, bias=True)\n",
       ")"
      ]
     },
     "execution_count": 61,
     "metadata": {},
     "output_type": "execute_result"
    }
   ],
   "source": [
    "model.classifier"
   ]
  },
  {
   "cell_type": "code",
   "execution_count": 51,
   "metadata": {},
   "outputs": [
    {
     "data": {
      "text/plain": [
       "512"
      ]
     },
     "execution_count": 51,
     "metadata": {},
     "output_type": "execute_result"
    }
   ],
   "source": [
    "mdl.fc.in_features"
   ]
  },
  {
   "cell_type": "code",
   "execution_count": 95,
   "metadata": {
    "id": "MqE39jwDQDMY"
   },
   "outputs": [],
   "source": [
    "# Average\n",
    "class AverageMeter(object):\n",
    "    def __init__(self):\n",
    "        self.reset()\n",
    "    \n",
    "    def reset(self):\n",
    "        self.val = 0\n",
    "        self.avg = 0\n",
    "        self.sum = 0\n",
    "        self.count = 0\n",
    "    \n",
    "    def update(self, val, n=1):\n",
    "        self.val = val\n",
    "        self.sum += val * n\n",
    "        self.count += n\n",
    "        self.avg = self.sum / self.count"
   ]
  },
  {
   "cell_type": "code",
   "execution_count": 26,
   "metadata": {
    "id": "zv2CWmsUGfKE"
   },
   "outputs": [],
   "source": [
    "from time import time"
   ]
  },
  {
   "cell_type": "code",
   "execution_count": 36,
   "metadata": {},
   "outputs": [],
   "source": [
    "optimizer = torch.optim.Adam(rdn.parameters(), lr = 1e-3)\n",
    "loss = nn.CrossEntropyLoss()\n",
    "                             "
   ]
  },
  {
   "cell_type": "markdown",
   "metadata": {
    "id": "1CVjql8gpoxB"
   },
   "source": []
  },
  {
   "cell_type": "code",
   "execution_count": 158,
   "metadata": {
    "colab": {
     "base_uri": "https://localhost:8080/"
    },
    "id": "CB5Cqq7wCvMT",
    "outputId": "ec889a3d-7c81-419f-ab61-8205a01375f6"
   },
   "outputs": [
    {
     "data": {
      "text/plain": [
       "'train_fn(train_loader, rdn, loss, optimizer, 1)'"
      ]
     },
     "execution_count": 158,
     "metadata": {},
     "output_type": "execute_result"
    }
   ],
   "source": [
    "\"\"\"train_fn(train_loader, rdn, loss, optimizer, 1)\"\"\""
   ]
  },
  {
   "cell_type": "code",
   "execution_count": 35,
   "metadata": {},
   "outputs": [],
   "source": [
    "# Implement knn :\n",
    "\n",
    "# Distance:\n",
    "\n",
    "def eucDistance(x1, x2):\n",
    "    n = x1.size(-1) \n",
    "    assert x2.size(-1) == n, \"Warning ! Different embedding size\"\n",
    "    res = 0\n",
    "    for i in range(n):\n",
    "        #res += (x1[...,i]-x2[...,i])**2\n",
    "        res += (x1[i] - x2[i])**2\n",
    "    return np.sqrt(res)\n",
    "\n",
    "def cosineDistance(x1, x2):\n",
    "    n = x1.size(-1) \n",
    "    assert x2.size(-1) == n, \"Warning ! Different embedding size\"\n",
    "    res = 0\n",
    "    for i in range(n):\n",
    "        #res += (x1[...,i]-x2[...,i])**2\n",
    "        res += (x1[i]*x2[i])\n",
    "    res /= torch.norm(x1.float())*torch.norm(x2.float())\n",
    "\n",
    "# Alternatively we'll use pytorch implemented method :\n",
    "\n",
    "cosine = nn.CosineSimilarity(dim=1, eps = 1e-6)\n",
    "\n",
    "thresh = 0.7 \n",
    "\n",
    "def naive_knn(train_emb, instance, k=51, threshold = thresh):\n",
    "    # train_emb : a tensor containing training embeddings \n",
    "    # instance : An instance embedding\n",
    "    # We use k=51 by default because we know there are at most 50 similar products (+ eventually the product itself)\n",
    "    n = len(train_emb)\n",
    "    similarities = torch.zeros(n)\n",
    "    for i in range(n):\n",
    "        similarities[i] = cosine(train_emb[i], instance)\n",
    "    sorted_similarities, sorted_indices = similarities.sort(descending = True) # \n",
    "    ind =[]\n",
    "    sim = []\n",
    "    for i in range(k):\n",
    "        if sorted_similarities[i] > threshold:\n",
    "            sim.append(sorted_similarities[i])\n",
    "            ind.append(sorted_indices[i])\n",
    "    return ind, sim\n",
    "\n",
    "# TODO implement some threshold tuning \n",
    "\n",
    "# We suppose now that we have access to embeddings directly in a column embcol ='embeddings'\n",
    "# or embcol='text_embeddings' or embcol = 'image_embeddings' in train_csv\n",
    "# For each data entry, the corresponding match is going to be in the form (indices, distances) \n",
    "\n",
    "def add_matches_column(embcol, k=51, threshold = thresh, dataframe = train_csv):\n",
    "    embeddings = list(dataframe[embcol])\n",
    "    n = len(dataframe)\n",
    "    matches = [[] for i in range(n)]\n",
    "    for i in range(n):\n",
    "        ind, sim = naive_knn(embeddings, dataframe[embcol][i], k, threshold)\n",
    "        matches[i] = [(ind[j], sim[j]) for j in range(len(ind))]\n",
    "    column_name = embcol+\"_matches\"\n",
    "    dataframe[column_name] = matches\n"
   ]
  },
  {
   "cell_type": "code",
   "execution_count": 83,
   "metadata": {},
   "outputs": [],
   "source": [
    "# We use combined thresholding\n",
    "def union_match(col1, col2, dataframe = train_csv):\n",
    "    # col1 and col2 are matches column added by the function add_matches_column\n",
    "    n = len(dataframe)\n",
    "    union = [[] for i in range(n)]\n",
    "    for i in range(n):\n",
    "        match1 = set(dataframe[col1][i])\n",
    "        match2 = set(dataframe[col2][i])\n",
    "        union[i] = list(match1|match2)\n",
    "    dataframe[\"union_\"+col1+\"_\"+col2][i] = union\n",
    "       \n",
    "def union_match(col1, col2, col3, union_col_name : str, dataframe = train_csv):\n",
    "    # col1 and col2 are matches column added by the function add_matches_column\n",
    "    n = len(dataframe)\n",
    "    union = [0 for i in range(n)]\n",
    "    for i in range(n):\n",
    "        match1 = set(dataframe[col1][i])\n",
    "        match2 = set(dataframe[col2][i])\n",
    "        match3 = set(dataframe[col3][i])\n",
    "        union[i] = list(match1|match2|match3)\n",
    "    dataframe[union_col_name] = union\n",
    "        \n",
    "        \n",
    "# Blending embedding from matches \n",
    "# We are going to compare the direct blending approach to a weighted blending method \n",
    "# where the weights are the similarities\n",
    "\n",
    "def blend_embedding(matchescol, embcol, dataframe = train_csv):\n",
    "    n = len(dataframe)\n",
    "    newembcol = [0 for i in range(n)]\n",
    "    for i in range(n):\n",
    "        emb = dataframe[embcol][i]\n",
    "        counter = 1\n",
    "        for element in dataframe[matchescol][i]:\n",
    "            idx, sim = element\n",
    "            emb += dataframe[embcol][idx]\n",
    "            counter += 1\n",
    "        emb /= counter\n",
    "        newembcol[i] = emb\n",
    "    dataframe['blend_'+embcol] =  newembcol\n",
    "        \n",
    "def weighted_blend_embedding(matchescol, embcol, dataframe = train_csv):\n",
    "    n = len(dataframe)\n",
    "    newembcol = [0 for i in range(n)]\n",
    "    for i in range(n):\n",
    "        emb = dataframe[embcol][i]\n",
    "        counter = 1\n",
    "        for element in dataframe[matchescol][i]:\n",
    "            idx, sim = element\n",
    "            counter += sim\n",
    "            emb += sim*dataframe[embcol][int(idx)]\n",
    "        emb /= counter\n",
    "        newembcol[i] = emb\n",
    "    dataframe['weighted_blend_'+embcol] =  newembcol\n",
    "    \n",
    "\n",
    "    \n"
   ]
  },
  {
   "cell_type": "code",
   "execution_count": 107,
   "metadata": {},
   "outputs": [],
   "source": [
    "cols_name_dict = {0:\"img\", 1:\"txt\"}\n",
    "def add_emb_col(model, dataframe = train_csv, dataset=ds, idx = 0):\n",
    "    # model is a pytorch model that has the member function extract_features\n",
    "    # idx is the index of embedding : repectively 0,1 or 2 for image or text or combined embedding\n",
    "    n = len(dataframe)\n",
    "    embed = [0 for i in range(n)]\n",
    "    for i in tqdm(range(n), total=n):\n",
    "        embed[i] = model.extract_features(dataset[i][0].unsqueeze(0))\n",
    "    dataframe[cols_name_dict[idx]+\"_emb\"] = embed\n",
    "    \n"
   ]
  },
  {
   "cell_type": "code",
   "execution_count": 56,
   "metadata": {},
   "outputs": [],
   "source": [
    "# A proper comb embedding column is needed for \n",
    "def com_emb_col(emb1, emb2, dataframe = train_csv):\n",
    "    #embeddings = list(torch.cat([torch.tensor(dataframe[emb1]), torch.tensor(dataframe[emb2])], dim= 1))\n",
    "    l1 = list(dataframe[emb1])\n",
    "    l2 = list(dataframe[emb2])\n",
    "    n = len(dataframe)\n",
    "    embeddings = [0 for i in range(n)]\n",
    "    for i in range(n):\n",
    "        embeddings[i] = torch.cat([l1[i], l2[i]], dim = 1)\n",
    "    dataframe[\"comb_emb\"] = embeddings\n",
    "\n",
    "def add_comb_matches_column(emb1, emb2, dataframe = train_csv, k =51, threshold = thresh):\n",
    "    #embeddings = torch.cat([torch.tensor(dataframe[emb1]), torch.tensor(dataframe[emb2])], dim= 1)\n",
    "    l1 = list(dataframe[emb1])\n",
    "    l2 = list(dataframe[emb2])\n",
    "    n = len(dataframe)\n",
    "    embeddings = [0 for i in range(n)]\n",
    "    for i in range(n):\n",
    "        embeddings[i] = torch.cat([l1[i], l2[i]], dim = 1)\n",
    "    matches = [0 for i in range(n)]\n",
    "    for i in range(n):\n",
    "        ind, sim = naive_knn(embeddings, torch.tensor(dataframe[embcol][i]), k, threshold)\n",
    "        matches[i] = [(ind[j], sim[j]) for j in range(len(ind))]\n",
    "    column_name = \"comb_matches\"\n",
    "    dataframe[column_name] = matches\n",
    "\n",
    "# Final matches function\n",
    "\n",
    "def final_matches(matches_col, dataframe = train_csv):\n",
    "    n = len(dataframe)\n",
    "    f_matches = [[] for i in range(n)]\n",
    "    for i in range(n):\n",
    "        for elm in dataframe[matches_col][i]:\n",
    "            idx = elm[0]\n",
    "            f_matches[i].append(dataframe.iloc[int(idx)][\"posting_id\"])\n",
    "    dataframe[\"final_matches\"] = f_matches"
   ]
  },
  {
   "cell_type": "code",
   "execution_count": 111,
   "metadata": {},
   "outputs": [],
   "source": [
    "t_csv = train_csv[:1000]\n",
    "t_ds = [ds[i] for i in range(1000)]"
   ]
  },
  {
   "cell_type": "code",
   "execution_count": 42,
   "metadata": {},
   "outputs": [
    {
     "name": "stderr",
     "output_type": "stream",
     "text": [
      "/opt/anaconda3/lib/python3.7/site-packages/ipykernel_launcher.py:9: SettingWithCopyWarning: \n",
      "A value is trying to be set on a copy of a slice from a DataFrame.\n",
      "Try using .loc[row_indexer,col_indexer] = value instead\n",
      "\n",
      "See the caveats in the documentation: https://pandas.pydata.org/pandas-docs/stable/user_guide/indexing.html#returning-a-view-versus-a-copy\n",
      "  if __name__ == '__main__':\n"
     ]
    }
   ],
   "source": [
    "add_emb_col(net, t_csv, ds, idx = 0) # 40s for "
   ]
  },
  {
   "cell_type": "code",
   "execution_count": 43,
   "metadata": {},
   "outputs": [
    {
     "name": "stderr",
     "output_type": "stream",
     "text": [
      "/opt/anaconda3/lib/python3.7/site-packages/ipykernel_launcher.py:9: SettingWithCopyWarning: \n",
      "A value is trying to be set on a copy of a slice from a DataFrame.\n",
      "Try using .loc[row_indexer,col_indexer] = value instead\n",
      "\n",
      "See the caveats in the documentation: https://pandas.pydata.org/pandas-docs/stable/user_guide/indexing.html#returning-a-view-versus-a-copy\n",
      "  if __name__ == '__main__':\n"
     ]
    }
   ],
   "source": [
    "add_emb_col(net2, t_csv, ds, idx = 1) #14s "
   ]
  },
  {
   "cell_type": "code",
   "execution_count": 60,
   "metadata": {},
   "outputs": [
    {
     "name": "stdout",
     "output_type": "stream",
     "text": [
      "0.021996021270751953\n"
     ]
    },
    {
     "name": "stderr",
     "output_type": "stream",
     "text": [
      "/opt/anaconda3/lib/python3.7/site-packages/ipykernel_launcher.py:10: SettingWithCopyWarning: \n",
      "A value is trying to be set on a copy of a slice from a DataFrame.\n",
      "Try using .loc[row_indexer,col_indexer] = value instead\n",
      "\n",
      "See the caveats in the documentation: https://pandas.pydata.org/pandas-docs/stable/user_guide/indexing.html#returning-a-view-versus-a-copy\n",
      "  # Remove the CWD from sys.path while we load stuff.\n"
     ]
    }
   ],
   "source": [
    "com_emb_col('img_emb', 'txt_emb', t_csv) # Instant run time"
   ]
  },
  {
   "cell_type": "code",
   "execution_count": 65,
   "metadata": {},
   "outputs": [
    {
     "name": "stdout",
     "output_type": "stream",
     "text": [
      "0.6737382411956787\n"
     ]
    },
    {
     "name": "stderr",
     "output_type": "stream",
     "text": [
      "/opt/anaconda3/lib/python3.7/site-packages/ipykernel_launcher.py:60: SettingWithCopyWarning: \n",
      "A value is trying to be set on a copy of a slice from a DataFrame.\n",
      "Try using .loc[row_indexer,col_indexer] = value instead\n",
      "\n",
      "See the caveats in the documentation: https://pandas.pydata.org/pandas-docs/stable/user_guide/indexing.html#returning-a-view-versus-a-copy\n"
     ]
    }
   ],
   "source": [
    "t = time.time()\n",
    "add_matches_column(\"img_emb\", k=51, threshold = 0.8, dataframe = t_csv)\n",
    "print(time.time()-t)"
   ]
  },
  {
   "cell_type": "code",
   "execution_count": 69,
   "metadata": {},
   "outputs": [
    {
     "name": "stderr",
     "output_type": "stream",
     "text": [
      "/opt/anaconda3/lib/python3.7/site-packages/ipykernel_launcher.py:60: SettingWithCopyWarning: \n",
      "A value is trying to be set on a copy of a slice from a DataFrame.\n",
      "Try using .loc[row_indexer,col_indexer] = value instead\n",
      "\n",
      "See the caveats in the documentation: https://pandas.pydata.org/pandas-docs/stable/user_guide/indexing.html#returning-a-view-versus-a-copy\n"
     ]
    }
   ],
   "source": [
    "add_matches_column(\"txt_emb\", k=51, threshold = 0.8, dataframe = t_csv)\n",
    "add_matches_column(\"comb_emb\", k=51, threshold = 0.8, dataframe = t_csv)"
   ]
  },
  {
   "cell_type": "code",
   "execution_count": 76,
   "metadata": {},
   "outputs": [
    {
     "name": "stdout",
     "output_type": "stream",
     "text": [
      "0.0184171199798584\n"
     ]
    },
    {
     "name": "stderr",
     "output_type": "stream",
     "text": [
      "/opt/anaconda3/lib/python3.7/site-packages/ipykernel_launcher.py:21: SettingWithCopyWarning: \n",
      "A value is trying to be set on a copy of a slice from a DataFrame.\n",
      "Try using .loc[row_indexer,col_indexer] = value instead\n",
      "\n",
      "See the caveats in the documentation: https://pandas.pydata.org/pandas-docs/stable/user_guide/indexing.html#returning-a-view-versus-a-copy\n"
     ]
    }
   ],
   "source": [
    "union_match(\"img_emb_matches\", \"txt_emb_matches\", \"comb_emb_matches\", \"union1_matches\", t_csv) # Intant run time"
   ]
  },
  {
   "cell_type": "code",
   "execution_count": 84,
   "metadata": {},
   "outputs": [
    {
     "name": "stderr",
     "output_type": "stream",
     "text": [
      "/opt/anaconda3/lib/python3.7/site-packages/ipykernel_launcher.py:54: SettingWithCopyWarning: \n",
      "A value is trying to be set on a copy of a slice from a DataFrame.\n",
      "Try using .loc[row_indexer,col_indexer] = value instead\n",
      "\n",
      "See the caveats in the documentation: https://pandas.pydata.org/pandas-docs/stable/user_guide/indexing.html#returning-a-view-versus-a-copy\n"
     ]
    }
   ],
   "source": [
    "weighted_blend_embedding(\"union1_matches\", \"comb_emb\", t_csv)"
   ]
  },
  {
   "cell_type": "code",
   "execution_count": 88,
   "metadata": {},
   "outputs": [
    {
     "name": "stdout",
     "output_type": "stream",
     "text": [
      "0.664630651473999\n"
     ]
    },
    {
     "name": "stderr",
     "output_type": "stream",
     "text": [
      "/opt/anaconda3/lib/python3.7/site-packages/ipykernel_launcher.py:60: SettingWithCopyWarning: \n",
      "A value is trying to be set on a copy of a slice from a DataFrame.\n",
      "Try using .loc[row_indexer,col_indexer] = value instead\n",
      "\n",
      "See the caveats in the documentation: https://pandas.pydata.org/pandas-docs/stable/user_guide/indexing.html#returning-a-view-versus-a-copy\n"
     ]
    }
   ],
   "source": [
    "t = time.time()\n",
    "add_matches_column(\"weighted_blend_comb_emb\", 51, 0.8, t_csv)\n",
    "print(time.time()-t)"
   ]
  },
  {
   "cell_type": "code",
   "execution_count": 91,
   "metadata": {},
   "outputs": [
    {
     "name": "stderr",
     "output_type": "stream",
     "text": [
      "/opt/anaconda3/lib/python3.7/site-packages/ipykernel_launcher.py:45: SettingWithCopyWarning: \n",
      "A value is trying to be set on a copy of a slice from a DataFrame.\n",
      "Try using .loc[row_indexer,col_indexer] = value instead\n",
      "\n",
      "See the caveats in the documentation: https://pandas.pydata.org/pandas-docs/stable/user_guide/indexing.html#returning-a-view-versus-a-copy\n"
     ]
    }
   ],
   "source": [
    "final_matches(\"weighted_blend_comb_emb_matches\", t_csv)"
   ]
  },
  {
   "cell_type": "code",
   "execution_count": 48,
   "metadata": {},
   "outputs": [],
   "source": [
    "l1 = list(t_csv['img_emb'])\n",
    "l2 = list(t_csv['txt_emb'])\n"
   ]
  },
  {
   "cell_type": "code",
   "execution_count": 100,
   "metadata": {},
   "outputs": [],
   "source": [
    "# Implementing the blending pipline\n",
    "\n",
    "def blending_pipeline(dataframe = train_csv, dataset = ds, text=False, k = 51, thresholds = [0.8, 0.7, 0.7]):\n",
    "    add_emb_col(net, dataframe, dataset, idx = 0)\n",
    "    add_matches_column('img_emb',  k, thresholds[0], dataframe)\n",
    "    if text==False:\n",
    "        final_matches('img_emb_matches', dataframe)\n",
    "    else :\n",
    "        add_emb_col(net2, dataframe, dataset, idx = 1)\n",
    "        add_matches_column('txt_emb', k, thresholds[1], dataframe )\n",
    "        com_emb_col('img_emb', 'txt_emb', dataframe)\n",
    "        #add_comb_matches_column('img_emb', 'txt_emb', dataframe, thresholds[2])\n",
    "        add_matches_column('comb_emb', k, thresholds[1], dataframe )\n",
    "        union_match(\"img_emb_matches\", \"txt_emb_matches\", \"comb_emb_matches\", \"union1_matches\", dataframe)\n",
    "        weighted_blend_embedding(\"union1_matches\", \"comb_emb\", dataframe)\n",
    "        add_matches_column(\"weighted_blend_comb_emb\", k, thresholds[2], dataframe)\n",
    "        final_matches(\"weighted_blend_comb_emb_matches\", dataframe)\n",
    "    \n",
    "    "
   ]
  },
  {
   "cell_type": "code",
   "execution_count": null,
   "metadata": {},
   "outputs": [
    {
     "name": "stderr",
     "output_type": "stream",
     "text": [
      " 18%|█▊        | 181/1000 [01:14<05:15,  2.59it/s]"
     ]
    }
   ],
   "source": [
    "t = time.time()\n",
    "blending_pipeline(t_csv, t_ds, text=True)\n",
    "print(time.time()-t)"
   ]
  },
  {
   "cell_type": "code",
   "execution_count": 105,
   "metadata": {},
   "outputs": [
    {
     "data": {
      "text/html": [
       "<div>\n",
       "<style scoped>\n",
       "    .dataframe tbody tr th:only-of-type {\n",
       "        vertical-align: middle;\n",
       "    }\n",
       "\n",
       "    .dataframe tbody tr th {\n",
       "        vertical-align: top;\n",
       "    }\n",
       "\n",
       "    .dataframe thead th {\n",
       "        text-align: right;\n",
       "    }\n",
       "</style>\n",
       "<table border=\"1\" class=\"dataframe\">\n",
       "  <thead>\n",
       "    <tr style=\"text-align: right;\">\n",
       "      <th></th>\n",
       "      <th>posting_id</th>\n",
       "      <th>image</th>\n",
       "      <th>image_phash</th>\n",
       "      <th>title</th>\n",
       "      <th>label_group</th>\n",
       "      <th>target</th>\n",
       "      <th>base_predictions</th>\n",
       "      <th>img_emb</th>\n",
       "      <th>img_emb_matches</th>\n",
       "      <th>txt_emb</th>\n",
       "      <th>txt_emb_matches</th>\n",
       "      <th>comb_emb</th>\n",
       "      <th>comb_emb_matches</th>\n",
       "      <th>union1_matches</th>\n",
       "      <th>weighted_blend_comb_emb</th>\n",
       "      <th>weighted_blend_comb_emb_matches</th>\n",
       "      <th>final_matches</th>\n",
       "      <th>f1</th>\n",
       "    </tr>\n",
       "  </thead>\n",
       "  <tbody>\n",
       "    <tr>\n",
       "      <th>0</th>\n",
       "      <td>train_129225211</td>\n",
       "      <td>0000a68812bc7e98c42888dfb1c07da0.jpg</td>\n",
       "      <td>94974f937d4c2433</td>\n",
       "      <td>Paper Bag Victoria Secret</td>\n",
       "      <td>666</td>\n",
       "      <td>[train_129225211, train_2278313361]</td>\n",
       "      <td>[train_129225211]</td>\n",
       "      <td>[[tensor(0.9315, grad_fn=&lt;UnbindBackward&gt;), te...</td>\n",
       "      <td>[(tensor(0), tensor(1., grad_fn=&lt;SelectBackwar...</td>\n",
       "      <td>[[tensor(0.5358, grad_fn=&lt;UnbindBackward&gt;), te...</td>\n",
       "      <td>[(tensor(0), tensor(1., grad_fn=&lt;SelectBackwar...</td>\n",
       "      <td>[[tensor(2.4506, grad_fn=&lt;UnbindBackward&gt;), te...</td>\n",
       "      <td>[(tensor(0), tensor(1., grad_fn=&lt;SelectBackwar...</td>\n",
       "      <td>[(tensor(71), tensor(0.9989, grad_fn=&lt;SelectBa...</td>\n",
       "      <td>[[tensor(2.4506, grad_fn=&lt;UnbindBackward&gt;), te...</td>\n",
       "      <td>[(tensor(0), tensor(1., grad_fn=&lt;SelectBackwar...</td>\n",
       "      <td>[train_129225211, train_998568945, train_18029...</td>\n",
       "      <td>0.037736</td>\n",
       "    </tr>\n",
       "    <tr>\n",
       "      <th>1</th>\n",
       "      <td>train_3386243561</td>\n",
       "      <td>00039780dfc94d01db8676fe789ecd05.jpg</td>\n",
       "      <td>af3f9460c2838f0f</td>\n",
       "      <td>Double Tape 3M VHB 12 mm x 4,5 m ORIGINAL / DO...</td>\n",
       "      <td>7572</td>\n",
       "      <td>[train_3386243561, train_3423213080]</td>\n",
       "      <td>[train_3386243561]</td>\n",
       "      <td>[[tensor(0.8917, grad_fn=&lt;UnbindBackward&gt;), te...</td>\n",
       "      <td>[(tensor(1), tensor(1., grad_fn=&lt;SelectBackwar...</td>\n",
       "      <td>[[tensor(0.0774, grad_fn=&lt;UnbindBackward&gt;), te...</td>\n",
       "      <td>[(tensor(1), tensor(1., grad_fn=&lt;SelectBackwar...</td>\n",
       "      <td>[[tensor(2.9544, grad_fn=&lt;UnbindBackward&gt;), te...</td>\n",
       "      <td>[(tensor(1), tensor(1., grad_fn=&lt;SelectBackwar...</td>\n",
       "      <td>[(tensor(71), tensor(0.9987, grad_fn=&lt;SelectBa...</td>\n",
       "      <td>[[tensor(2.9544, grad_fn=&lt;UnbindBackward&gt;), te...</td>\n",
       "      <td>[(tensor(1), tensor(1., grad_fn=&lt;SelectBackwar...</td>\n",
       "      <td>[train_3386243561, train_3589506283, train_304...</td>\n",
       "      <td>0.037736</td>\n",
       "    </tr>\n",
       "  </tbody>\n",
       "</table>\n",
       "</div>"
      ],
      "text/plain": [
       "         posting_id                                 image       image_phash  \\\n",
       "0   train_129225211  0000a68812bc7e98c42888dfb1c07da0.jpg  94974f937d4c2433   \n",
       "1  train_3386243561  00039780dfc94d01db8676fe789ecd05.jpg  af3f9460c2838f0f   \n",
       "\n",
       "                                               title  label_group  \\\n",
       "0                          Paper Bag Victoria Secret          666   \n",
       "1  Double Tape 3M VHB 12 mm x 4,5 m ORIGINAL / DO...         7572   \n",
       "\n",
       "                                 target    base_predictions  \\\n",
       "0   [train_129225211, train_2278313361]   [train_129225211]   \n",
       "1  [train_3386243561, train_3423213080]  [train_3386243561]   \n",
       "\n",
       "                                             img_emb  \\\n",
       "0  [[tensor(0.9315, grad_fn=<UnbindBackward>), te...   \n",
       "1  [[tensor(0.8917, grad_fn=<UnbindBackward>), te...   \n",
       "\n",
       "                                     img_emb_matches  \\\n",
       "0  [(tensor(0), tensor(1., grad_fn=<SelectBackwar...   \n",
       "1  [(tensor(1), tensor(1., grad_fn=<SelectBackwar...   \n",
       "\n",
       "                                             txt_emb  \\\n",
       "0  [[tensor(0.5358, grad_fn=<UnbindBackward>), te...   \n",
       "1  [[tensor(0.0774, grad_fn=<UnbindBackward>), te...   \n",
       "\n",
       "                                     txt_emb_matches  \\\n",
       "0  [(tensor(0), tensor(1., grad_fn=<SelectBackwar...   \n",
       "1  [(tensor(1), tensor(1., grad_fn=<SelectBackwar...   \n",
       "\n",
       "                                            comb_emb  \\\n",
       "0  [[tensor(2.4506, grad_fn=<UnbindBackward>), te...   \n",
       "1  [[tensor(2.9544, grad_fn=<UnbindBackward>), te...   \n",
       "\n",
       "                                    comb_emb_matches  \\\n",
       "0  [(tensor(0), tensor(1., grad_fn=<SelectBackwar...   \n",
       "1  [(tensor(1), tensor(1., grad_fn=<SelectBackwar...   \n",
       "\n",
       "                                      union1_matches  \\\n",
       "0  [(tensor(71), tensor(0.9989, grad_fn=<SelectBa...   \n",
       "1  [(tensor(71), tensor(0.9987, grad_fn=<SelectBa...   \n",
       "\n",
       "                             weighted_blend_comb_emb  \\\n",
       "0  [[tensor(2.4506, grad_fn=<UnbindBackward>), te...   \n",
       "1  [[tensor(2.9544, grad_fn=<UnbindBackward>), te...   \n",
       "\n",
       "                     weighted_blend_comb_emb_matches  \\\n",
       "0  [(tensor(0), tensor(1., grad_fn=<SelectBackwar...   \n",
       "1  [(tensor(1), tensor(1., grad_fn=<SelectBackwar...   \n",
       "\n",
       "                                       final_matches        f1  \n",
       "0  [train_129225211, train_998568945, train_18029...  0.037736  \n",
       "1  [train_3386243561, train_3589506283, train_304...  0.037736  "
      ]
     },
     "execution_count": 105,
     "metadata": {},
     "output_type": "execute_result"
    }
   ],
   "source": [
    "t_csv.head(2)"
   ]
  },
  {
   "cell_type": "code",
   "execution_count": 95,
   "metadata": {},
   "outputs": [
    {
     "data": {
      "text/html": [
       "<div>\n",
       "<style scoped>\n",
       "    .dataframe tbody tr th:only-of-type {\n",
       "        vertical-align: middle;\n",
       "    }\n",
       "\n",
       "    .dataframe tbody tr th {\n",
       "        vertical-align: top;\n",
       "    }\n",
       "\n",
       "    .dataframe thead th {\n",
       "        text-align: right;\n",
       "    }\n",
       "</style>\n",
       "<table border=\"1\" class=\"dataframe\">\n",
       "  <thead>\n",
       "    <tr style=\"text-align: right;\">\n",
       "      <th></th>\n",
       "      <th>posting_id</th>\n",
       "      <th>image</th>\n",
       "      <th>image_phash</th>\n",
       "      <th>title</th>\n",
       "      <th>label_group</th>\n",
       "      <th>target</th>\n",
       "      <th>base_predictions</th>\n",
       "      <th>img_emb</th>\n",
       "      <th>txt_emb</th>\n",
       "      <th>comb_emb</th>\n",
       "      <th>img_emb_matches</th>\n",
       "      <th>txt_emb_matches</th>\n",
       "      <th>comb_emb_matches</th>\n",
       "      <th>union1_matches</th>\n",
       "      <th>weighted_blend_comb_emb</th>\n",
       "      <th>weighted_blend_comb_emb_matches</th>\n",
       "      <th>final_matches</th>\n",
       "      <th>f1</th>\n",
       "    </tr>\n",
       "  </thead>\n",
       "  <tbody>\n",
       "    <tr>\n",
       "      <th>0</th>\n",
       "      <td>train_129225211</td>\n",
       "      <td>0000a68812bc7e98c42888dfb1c07da0.jpg</td>\n",
       "      <td>94974f937d4c2433</td>\n",
       "      <td>Paper Bag Victoria Secret</td>\n",
       "      <td>666</td>\n",
       "      <td>[train_129225211, train_2278313361]</td>\n",
       "      <td>[train_129225211]</td>\n",
       "      <td>[[tensor(0.9315, grad_fn=&lt;UnbindBackward&gt;), te...</td>\n",
       "      <td>[[tensor(0.5358, grad_fn=&lt;UnbindBackward&gt;), te...</td>\n",
       "      <td>[[tensor(3.4505, grad_fn=&lt;UnbindBackward&gt;), te...</td>\n",
       "      <td>[(tensor(0), tensor(1., grad_fn=&lt;SelectBackwar...</td>\n",
       "      <td>[(tensor(0), tensor(1., grad_fn=&lt;SelectBackwar...</td>\n",
       "      <td>[(tensor(0), tensor(1., grad_fn=&lt;SelectBackwar...</td>\n",
       "      <td>[(tensor(34), tensor(0.9989, grad_fn=&lt;SelectBa...</td>\n",
       "      <td>[[tensor(3.4505, grad_fn=&lt;UnbindBackward&gt;), te...</td>\n",
       "      <td>[(tensor(0), tensor(1., grad_fn=&lt;SelectBackwar...</td>\n",
       "      <td>[train_129225211, train_1802986387, train_2771...</td>\n",
       "      <td>0.037736</td>\n",
       "    </tr>\n",
       "    <tr>\n",
       "      <th>1</th>\n",
       "      <td>train_3386243561</td>\n",
       "      <td>00039780dfc94d01db8676fe789ecd05.jpg</td>\n",
       "      <td>af3f9460c2838f0f</td>\n",
       "      <td>Double Tape 3M VHB 12 mm x 4,5 m ORIGINAL / DO...</td>\n",
       "      <td>7572</td>\n",
       "      <td>[train_3386243561, train_3423213080]</td>\n",
       "      <td>[train_3386243561]</td>\n",
       "      <td>[[tensor(0.8917, grad_fn=&lt;UnbindBackward&gt;), te...</td>\n",
       "      <td>[[tensor(0.0774, grad_fn=&lt;UnbindBackward&gt;), te...</td>\n",
       "      <td>[[tensor(2.0713, grad_fn=&lt;UnbindBackward&gt;), te...</td>\n",
       "      <td>[(tensor(1), tensor(1., grad_fn=&lt;SelectBackwar...</td>\n",
       "      <td>[(tensor(1), tensor(1., grad_fn=&lt;SelectBackwar...</td>\n",
       "      <td>[(tensor(1), tensor(1., grad_fn=&lt;SelectBackwar...</td>\n",
       "      <td>[(tensor(11), tensor(0.9990, grad_fn=&lt;SelectBa...</td>\n",
       "      <td>[[tensor(2.0713, grad_fn=&lt;UnbindBackward&gt;), te...</td>\n",
       "      <td>[(tensor(1), tensor(1., grad_fn=&lt;SelectBackwar...</td>\n",
       "      <td>[train_3386243561, train_1327117441, train_277...</td>\n",
       "      <td>0.037736</td>\n",
       "    </tr>\n",
       "  </tbody>\n",
       "</table>\n",
       "</div>"
      ],
      "text/plain": [
       "         posting_id                                 image       image_phash  \\\n",
       "0   train_129225211  0000a68812bc7e98c42888dfb1c07da0.jpg  94974f937d4c2433   \n",
       "1  train_3386243561  00039780dfc94d01db8676fe789ecd05.jpg  af3f9460c2838f0f   \n",
       "\n",
       "                                               title  label_group  \\\n",
       "0                          Paper Bag Victoria Secret          666   \n",
       "1  Double Tape 3M VHB 12 mm x 4,5 m ORIGINAL / DO...         7572   \n",
       "\n",
       "                                 target    base_predictions  \\\n",
       "0   [train_129225211, train_2278313361]   [train_129225211]   \n",
       "1  [train_3386243561, train_3423213080]  [train_3386243561]   \n",
       "\n",
       "                                             img_emb  \\\n",
       "0  [[tensor(0.9315, grad_fn=<UnbindBackward>), te...   \n",
       "1  [[tensor(0.8917, grad_fn=<UnbindBackward>), te...   \n",
       "\n",
       "                                             txt_emb  \\\n",
       "0  [[tensor(0.5358, grad_fn=<UnbindBackward>), te...   \n",
       "1  [[tensor(0.0774, grad_fn=<UnbindBackward>), te...   \n",
       "\n",
       "                                            comb_emb  \\\n",
       "0  [[tensor(3.4505, grad_fn=<UnbindBackward>), te...   \n",
       "1  [[tensor(2.0713, grad_fn=<UnbindBackward>), te...   \n",
       "\n",
       "                                     img_emb_matches  \\\n",
       "0  [(tensor(0), tensor(1., grad_fn=<SelectBackwar...   \n",
       "1  [(tensor(1), tensor(1., grad_fn=<SelectBackwar...   \n",
       "\n",
       "                                     txt_emb_matches  \\\n",
       "0  [(tensor(0), tensor(1., grad_fn=<SelectBackwar...   \n",
       "1  [(tensor(1), tensor(1., grad_fn=<SelectBackwar...   \n",
       "\n",
       "                                    comb_emb_matches  \\\n",
       "0  [(tensor(0), tensor(1., grad_fn=<SelectBackwar...   \n",
       "1  [(tensor(1), tensor(1., grad_fn=<SelectBackwar...   \n",
       "\n",
       "                                      union1_matches  \\\n",
       "0  [(tensor(34), tensor(0.9989, grad_fn=<SelectBa...   \n",
       "1  [(tensor(11), tensor(0.9990, grad_fn=<SelectBa...   \n",
       "\n",
       "                             weighted_blend_comb_emb  \\\n",
       "0  [[tensor(3.4505, grad_fn=<UnbindBackward>), te...   \n",
       "1  [[tensor(2.0713, grad_fn=<UnbindBackward>), te...   \n",
       "\n",
       "                     weighted_blend_comb_emb_matches  \\\n",
       "0  [(tensor(0), tensor(1., grad_fn=<SelectBackwar...   \n",
       "1  [(tensor(1), tensor(1., grad_fn=<SelectBackwar...   \n",
       "\n",
       "                                       final_matches        f1  \n",
       "0  [train_129225211, train_1802986387, train_2771...  0.037736  \n",
       "1  [train_3386243561, train_1327117441, train_277...  0.037736  "
      ]
     },
     "execution_count": 95,
     "metadata": {},
     "output_type": "execute_result"
    }
   ],
   "source": [
    "t_csv.head(2)"
   ]
  },
  {
   "cell_type": "code",
   "execution_count": 576,
   "metadata": {},
   "outputs": [
    {
     "data": {
      "text/plain": [
       "tensor([0.9989], grad_fn=<DivBackward0>)"
      ]
     },
     "execution_count": 576,
     "metadata": {},
     "output_type": "execute_result"
    }
   ],
   "source": [
    "nn.CosineSimilarity(dim=1, eps=1e-08)(t_csv[\"image_emb\"][3], t_csv[\"image_emb\"][0])"
   ]
  },
  {
   "cell_type": "code",
   "execution_count": 104,
   "metadata": {},
   "outputs": [
    {
     "name": "stderr",
     "output_type": "stream",
     "text": [
      "/opt/anaconda3/lib/python3.7/site-packages/ipykernel_launcher.py:3: SettingWithCopyWarning: \n",
      "A value is trying to be set on a copy of a slice from a DataFrame.\n",
      "Try using .loc[row_indexer,col_indexer] = value instead\n",
      "\n",
      "See the caveats in the documentation: https://pandas.pydata.org/pandas-docs/stable/user_guide/indexing.html#returning-a-view-versus-a-copy\n",
      "  This is separate from the ipykernel package so we can avoid doing imports until\n"
     ]
    },
    {
     "data": {
      "text/plain": [
       "0.04219198085624034"
      ]
     },
     "execution_count": 104,
     "metadata": {},
     "output_type": "execute_result"
    }
   ],
   "source": [
    "# Calculates the f1 score \n",
    "\n",
    "t_csv['f1'] = t_csv.apply(getMetric('final_matches'), axis=1)\n",
    "t_csv['f1'].mean()"
   ]
  },
  {
   "cell_type": "code",
   "execution_count": 662,
   "metadata": {},
   "outputs": [
    {
     "name": "stderr",
     "output_type": "stream",
     "text": [
      "/opt/anaconda3/lib/python3.7/site-packages/ipykernel_launcher.py:9: SettingWithCopyWarning: \n",
      "A value is trying to be set on a copy of a slice from a DataFrame.\n",
      "Try using .loc[row_indexer,col_indexer] = value instead\n",
      "\n",
      "See the caveats in the documentation: https://pandas.pydata.org/pandas-docs/stable/user_guide/indexing.html#returning-a-view-versus-a-copy\n",
      "  if __name__ == '__main__':\n"
     ]
    }
   ],
   "source": [
    "add_emb_col(net2, t_csv, t_ds, idx = 1)"
   ]
  },
  {
   "cell_type": "code",
   "execution_count": 438,
   "metadata": {},
   "outputs": [
    {
     "data": {
      "text/plain": [
       "tensor([[ 1,  2,  3,  5,  6],\n",
       "        [ 3,  2, 10,  2,  3]])"
      ]
     },
     "execution_count": 438,
     "metadata": {},
     "output_type": "execute_result"
    }
   ],
   "source": [
    "a = torch.tensor([[1,2], [3,2]])\n",
    "b = torch.tensor([[3,5,6], [10,2,3]])\n",
    "torch.cat([a,b], dim=1)"
   ]
  },
  {
   "cell_type": "code",
   "execution_count": 425,
   "metadata": {},
   "outputs": [
    {
     "name": "stderr",
     "output_type": "stream",
     "text": [
      "/opt/anaconda3/lib/python3.7/site-packages/ipykernel_launcher.py:8: SettingWithCopyWarning: \n",
      "A value is trying to be set on a copy of a slice from a DataFrame.\n",
      "Try using .loc[row_indexer,col_indexer] = value instead\n",
      "\n",
      "See the caveats in the documentation: https://pandas.pydata.org/pandas-docs/stable/user_guide/indexing.html#returning-a-view-versus-a-copy\n",
      "  \n"
     ]
    }
   ],
   "source": [
    "add_img_emb_col(net, t_csv, t_ds)"
   ]
  },
  {
   "cell_type": "code",
   "execution_count": 427,
   "metadata": {},
   "outputs": [
    {
     "data": {
      "text/html": [
       "<div>\n",
       "<style scoped>\n",
       "    .dataframe tbody tr th:only-of-type {\n",
       "        vertical-align: middle;\n",
       "    }\n",
       "\n",
       "    .dataframe tbody tr th {\n",
       "        vertical-align: top;\n",
       "    }\n",
       "\n",
       "    .dataframe thead th {\n",
       "        text-align: right;\n",
       "    }\n",
       "</style>\n",
       "<table border=\"1\" class=\"dataframe\">\n",
       "  <thead>\n",
       "    <tr style=\"text-align: right;\">\n",
       "      <th></th>\n",
       "      <th>posting_id</th>\n",
       "      <th>image</th>\n",
       "      <th>image_phash</th>\n",
       "      <th>title</th>\n",
       "      <th>label_group</th>\n",
       "      <th>target</th>\n",
       "      <th>base_predictions</th>\n",
       "      <th>image_emb</th>\n",
       "    </tr>\n",
       "  </thead>\n",
       "  <tbody>\n",
       "    <tr>\n",
       "      <th>0</th>\n",
       "      <td>train_129225211</td>\n",
       "      <td>0000a68812bc7e98c42888dfb1c07da0.jpg</td>\n",
       "      <td>94974f937d4c2433</td>\n",
       "      <td>Paper Bag Victoria Secret</td>\n",
       "      <td>666</td>\n",
       "      <td>[train_129225211, train_2278313361]</td>\n",
       "      <td>[train_129225211]</td>\n",
       "      <td>[[tensor(0.9315, grad_fn=&lt;UnbindBackward&gt;), te...</td>\n",
       "    </tr>\n",
       "    <tr>\n",
       "      <th>1</th>\n",
       "      <td>train_3386243561</td>\n",
       "      <td>00039780dfc94d01db8676fe789ecd05.jpg</td>\n",
       "      <td>af3f9460c2838f0f</td>\n",
       "      <td>Double Tape 3M VHB 12 mm x 4,5 m ORIGINAL / DO...</td>\n",
       "      <td>7572</td>\n",
       "      <td>[train_3386243561, train_3423213080]</td>\n",
       "      <td>[train_3386243561]</td>\n",
       "      <td>[[tensor(0.8917, grad_fn=&lt;UnbindBackward&gt;), te...</td>\n",
       "    </tr>\n",
       "  </tbody>\n",
       "</table>\n",
       "</div>"
      ],
      "text/plain": [
       "         posting_id                                 image       image_phash  \\\n",
       "0   train_129225211  0000a68812bc7e98c42888dfb1c07da0.jpg  94974f937d4c2433   \n",
       "1  train_3386243561  00039780dfc94d01db8676fe789ecd05.jpg  af3f9460c2838f0f   \n",
       "\n",
       "                                               title  label_group  \\\n",
       "0                          Paper Bag Victoria Secret          666   \n",
       "1  Double Tape 3M VHB 12 mm x 4,5 m ORIGINAL / DO...         7572   \n",
       "\n",
       "                                 target    base_predictions  \\\n",
       "0   [train_129225211, train_2278313361]   [train_129225211]   \n",
       "1  [train_3386243561, train_3423213080]  [train_3386243561]   \n",
       "\n",
       "                                           image_emb  \n",
       "0  [[tensor(0.9315, grad_fn=<UnbindBackward>), te...  \n",
       "1  [[tensor(0.8917, grad_fn=<UnbindBackward>), te...  "
      ]
     },
     "execution_count": 427,
     "metadata": {},
     "output_type": "execute_result"
    }
   ],
   "source": [
    "t_csv.head(2)"
   ]
  },
  {
   "cell_type": "code",
   "execution_count": null,
   "metadata": {},
   "outputs": [
    {
     "name": "stderr",
     "output_type": "stream",
     "text": [
      "/opt/anaconda3/lib/python3.7/site-packages/ipykernel_launcher.py:60: SettingWithCopyWarning: \n",
      "A value is trying to be set on a copy of a slice from a DataFrame.\n",
      "Try using .loc[row_indexer,col_indexer] = value instead\n",
      "\n",
      "See the caveats in the documentation: https://pandas.pydata.org/pandas-docs/stable/user_guide/indexing.html#returning-a-view-versus-a-copy\n"
     ]
    }
   ],
   "source": [
    "blending_pipeline(t_csv, t_ds, text=True)"
   ]
  },
  {
   "cell_type": "code",
   "execution_count": 411,
   "metadata": {},
   "outputs": [
    {
     "data": {
      "text/plain": [
       "torch.Size([1, 512])"
      ]
     },
     "execution_count": 411,
     "metadata": {},
     "output_type": "execute_result"
    }
   ],
   "source": [
    "net.extract_features(ds[0][0].unsqueeze(0)).size()"
   ]
  },
  {
   "cell_type": "code",
   "execution_count": 382,
   "metadata": {},
   "outputs": [
    {
     "name": "stdout",
     "output_type": "stream",
     "text": [
      "torch.Size([64, 512])\n"
     ]
    }
   ],
   "source": [
    "with torch.set_grad_enabled(False):\n",
    "    for x,y in train_loader:\n",
    "        featt = net.extract_features(x)\n",
    "        print(featt.size())\n",
    "        break\n",
    "        "
   ]
  },
  {
   "cell_type": "code",
   "execution_count": 273,
   "metadata": {},
   "outputs": [
    {
     "data": {
      "text/plain": [
       "[1, 2, 3, 4, 5]"
      ]
     },
     "execution_count": 273,
     "metadata": {},
     "output_type": "execute_result"
    }
   ],
   "source": [
    "A  = set([1,2,3])\n",
    "B= set({3,4,5})\n",
    "list(A|B)"
   ]
  },
  {
   "cell_type": "code",
   "execution_count": 263,
   "metadata": {},
   "outputs": [],
   "source": [
    "li = [1,2,3]\n",
    "b = torch.Tensor(li)"
   ]
  },
  {
   "cell_type": "code",
   "execution_count": 268,
   "metadata": {},
   "outputs": [
    {
     "data": {
      "text/plain": [
       "tensor([True, True, True])"
      ]
     },
     "execution_count": 268,
     "metadata": {},
     "output_type": "execute_result"
    }
   ],
   "source": [
    "b==c"
   ]
  },
  {
   "cell_type": "code",
   "execution_count": 245,
   "metadata": {},
   "outputs": [
    {
     "data": {
      "text/plain": [
       "tensor([0, 4, 2])"
      ]
     },
     "execution_count": 245,
     "metadata": {},
     "output_type": "execute_result"
    }
   ],
   "source": [
    "a"
   ]
  },
  {
   "cell_type": "code",
   "execution_count": 261,
   "metadata": {},
   "outputs": [],
   "source": [
    "b = torch.tensor([0,1,0])"
   ]
  },
  {
   "cell_type": "code",
   "execution_count": 262,
   "metadata": {},
   "outputs": [
    {
     "data": {
      "text/plain": [
       "tensor(0.8944)"
      ]
     },
     "execution_count": 262,
     "metadata": {},
     "output_type": "execute_result"
    }
   ],
   "source": [
    "cosine(a.float(),b.float())"
   ]
  },
  {
   "cell_type": "code",
   "execution_count": 234,
   "metadata": {},
   "outputs": [
    {
     "data": {
      "text/plain": [
       "tensor([0, 2, 1])"
      ]
     },
     "execution_count": 234,
     "metadata": {},
     "output_type": "execute_result"
    }
   ],
   "source": [
    "a.sort()[1]"
   ]
  },
  {
   "cell_type": "markdown",
   "metadata": {
    "id": "mq8S_MBgprQ8"
   },
   "source": [
    "**TO DO :**\n",
    "- F1 score and evaluation of baseline ✅ \n",
    "- Data augmentation  \n",
    "- Arcface metric implementation ✅\n",
    "- Transfer training using some model like effnet ✅\n",
    "- Add two embedding columns : Text embedding and image embedding\n",
    "- Implementing knn to determine the predictions ✅\n",
    "- Implementing some threshold tuning \n",
    "- Blending matches that are calculated from text and image embeddings  \n",
    "- CV score and evaluation of model predictions\n",
    "- Modify code to use cuda\n",
    "\n"
   ]
  },
  {
   "cell_type": "markdown",
   "metadata": {
    "id": "c80VgS0e1f5H"
   },
   "source": [
    "**Notes** \n",
    "\n",
    "The goal of the loss function is to minimize the maximum intra-class distance while keeping the features of different classes separable. Chosing the right loss function that can enhance the discrimnative power is key to our problem.\n",
    "\n",
    "How to reduce the effect of the background"
   ]
  },
  {
   "cell_type": "markdown",
   "metadata": {
    "id": "-PjKRJXU5xHQ"
   },
   "source": [
    "After embeddings, we use knn with k=51 using cosine similarity (cosine distance is equivalent to normalizing feauture vectors prior to calculating their euclidean distance)\n"
   ]
  },
  {
   "cell_type": "markdown",
   "metadata": {},
   "source": [
    "What makes this competition hard ?\n",
    "- The scarcity of data associated to each label makes it an unsupervised learning task\n",
    "- Data is multi-modal\n"
   ]
  },
  {
   "cell_type": "code",
   "execution_count": null,
   "metadata": {},
   "outputs": [],
   "source": []
  }
 ],
 "metadata": {
  "colab": {
   "collapsed_sections": [],
   "name": "ShopeeProject.ipynb",
   "provenance": []
  },
  "kernelspec": {
   "display_name": "Python 3",
   "language": "python",
   "name": "python3"
  },
  "language_info": {
   "codemirror_mode": {
    "name": "ipython",
    "version": 3
   },
   "file_extension": ".py",
   "mimetype": "text/x-python",
   "name": "python",
   "nbconvert_exporter": "python",
   "pygments_lexer": "ipython3",
   "version": "3.7.4"
  },
  "latex_envs": {
   "LaTeX_envs_menu_present": true,
   "autoclose": false,
   "autocomplete": false,
   "bibliofile": "biblio.bib",
   "cite_by": "apalike",
   "current_citInitial": 1,
   "eqLabelWithNumbers": true,
   "eqNumInitial": 1,
   "hotkeys": {
    "equation": "Ctrl-E",
    "itemize": "Ctrl-I"
   },
   "labels_anchors": false,
   "latex_user_defs": false,
   "report_style_numbering": false,
   "user_envs_cfg": false
  }
 },
 "nbformat": 4,
 "nbformat_minor": 1
}
