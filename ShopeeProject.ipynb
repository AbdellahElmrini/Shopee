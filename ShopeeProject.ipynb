{
 "cells": [
  {
   "cell_type": "code",
   "execution_count": 1,
   "metadata": {
    "id": "YnXW6GGSnFDC"
   },
   "outputs": [],
   "source": [
    "import numpy as np\n",
    "import pandas as pd\n",
    "import torch\n",
    "from torch import nn\n",
    "from torch.utils.data import DataLoader\n",
    "import matplotlib.pyplot as plt\n",
    "from torchvision import transforms\n",
    "from PIL import Image\n",
    "from tqdm import tqdm\n",
    "import math\n",
    "import random\n",
    "from torch.utils.data import Dataset, DataLoader\n",
    "import cv2\n",
    "import torchvision"
   ]
  },
  {
   "cell_type": "code",
   "execution_count": 2,
   "metadata": {
    "id": "aGGgDQCeM5sA"
   },
   "outputs": [],
   "source": [
    "from sklearn import preprocessing"
   ]
  },
  {
   "cell_type": "code",
   "execution_count": 1,
   "metadata": {
    "colab": {
     "base_uri": "https://localhost:8080/"
    },
    "id": "9kdz_bnKnIfy",
    "outputId": "1249db73-92c0-43e4-94ea-673c5e2cd299"
   },
   "outputs": [
    {
     "data": {
      "text/plain": [
       "\"from google.colab import drive\\ndrive.mount('/content/drive')\""
      ]
     },
     "execution_count": 1,
     "metadata": {},
     "output_type": "execute_result"
    }
   ],
   "source": [
    "'''from google.colab import drive\n",
    "drive.mount('/content/drive')'''#For colab"
   ]
  },
  {
   "cell_type": "code",
   "execution_count": null,
   "metadata": {
    "id": "z7kP90b3yM-_"
   },
   "outputs": [],
   "source": [
    "#unzipping file\n",
    "#!unzip /content/drive/MyDrive/Shopee/train_images.zip -d /content/drive/MyDrive/Shopee/ #DONT REUSE"
   ]
  },
  {
   "cell_type": "code",
   "execution_count": 3,
   "metadata": {
    "id": "1PQrn36GwdNb"
   },
   "outputs": [],
   "source": [
    "train_csv = pd.read_csv(r'train.csv')"
   ]
  },
  {
   "cell_type": "code",
   "execution_count": 4,
   "metadata": {
    "id": "zjqNlbtF-0lC"
   },
   "outputs": [
    {
     "data": {
      "text/html": [
       "<div>\n",
       "<style scoped>\n",
       "    .dataframe tbody tr th:only-of-type {\n",
       "        vertical-align: middle;\n",
       "    }\n",
       "\n",
       "    .dataframe tbody tr th {\n",
       "        vertical-align: top;\n",
       "    }\n",
       "\n",
       "    .dataframe thead th {\n",
       "        text-align: right;\n",
       "    }\n",
       "</style>\n",
       "<table border=\"1\" class=\"dataframe\">\n",
       "  <thead>\n",
       "    <tr style=\"text-align: right;\">\n",
       "      <th></th>\n",
       "      <th>posting_id</th>\n",
       "      <th>image</th>\n",
       "      <th>image_phash</th>\n",
       "      <th>title</th>\n",
       "      <th>label_group</th>\n",
       "    </tr>\n",
       "  </thead>\n",
       "  <tbody>\n",
       "    <tr>\n",
       "      <th>0</th>\n",
       "      <td>train_129225211</td>\n",
       "      <td>0000a68812bc7e98c42888dfb1c07da0.jpg</td>\n",
       "      <td>94974f937d4c2433</td>\n",
       "      <td>Paper Bag Victoria Secret</td>\n",
       "      <td>249114794</td>\n",
       "    </tr>\n",
       "    <tr>\n",
       "      <th>1</th>\n",
       "      <td>train_3386243561</td>\n",
       "      <td>00039780dfc94d01db8676fe789ecd05.jpg</td>\n",
       "      <td>af3f9460c2838f0f</td>\n",
       "      <td>Double Tape 3M VHB 12 mm x 4,5 m ORIGINAL / DO...</td>\n",
       "      <td>2937985045</td>\n",
       "    </tr>\n",
       "    <tr>\n",
       "      <th>2</th>\n",
       "      <td>train_2288590299</td>\n",
       "      <td>000a190fdd715a2a36faed16e2c65df7.jpg</td>\n",
       "      <td>b94cb00ed3e50f78</td>\n",
       "      <td>Maling TTS Canned Pork Luncheon Meat 397 gr</td>\n",
       "      <td>2395904891</td>\n",
       "    </tr>\n",
       "    <tr>\n",
       "      <th>3</th>\n",
       "      <td>train_2406599165</td>\n",
       "      <td>00117e4fc239b1b641ff08340b429633.jpg</td>\n",
       "      <td>8514fc58eafea283</td>\n",
       "      <td>Daster Batik Lengan pendek - Motif Acak / Camp...</td>\n",
       "      <td>4093212188</td>\n",
       "    </tr>\n",
       "    <tr>\n",
       "      <th>4</th>\n",
       "      <td>train_3369186413</td>\n",
       "      <td>00136d1cf4edede0203f32f05f660588.jpg</td>\n",
       "      <td>a6f319f924ad708c</td>\n",
       "      <td>Nescafe \\xc3\\x89clair Latte 220ml</td>\n",
       "      <td>3648931069</td>\n",
       "    </tr>\n",
       "  </tbody>\n",
       "</table>\n",
       "</div>"
      ],
      "text/plain": [
       "         posting_id                                 image       image_phash  \\\n",
       "0   train_129225211  0000a68812bc7e98c42888dfb1c07da0.jpg  94974f937d4c2433   \n",
       "1  train_3386243561  00039780dfc94d01db8676fe789ecd05.jpg  af3f9460c2838f0f   \n",
       "2  train_2288590299  000a190fdd715a2a36faed16e2c65df7.jpg  b94cb00ed3e50f78   \n",
       "3  train_2406599165  00117e4fc239b1b641ff08340b429633.jpg  8514fc58eafea283   \n",
       "4  train_3369186413  00136d1cf4edede0203f32f05f660588.jpg  a6f319f924ad708c   \n",
       "\n",
       "                                               title  label_group  \n",
       "0                          Paper Bag Victoria Secret    249114794  \n",
       "1  Double Tape 3M VHB 12 mm x 4,5 m ORIGINAL / DO...   2937985045  \n",
       "2        Maling TTS Canned Pork Luncheon Meat 397 gr   2395904891  \n",
       "3  Daster Batik Lengan pendek - Motif Acak / Camp...   4093212188  \n",
       "4                  Nescafe \\xc3\\x89clair Latte 220ml   3648931069  "
      ]
     },
     "execution_count": 4,
     "metadata": {},
     "output_type": "execute_result"
    }
   ],
   "source": [
    "train_csv.head()"
   ]
  },
  {
   "cell_type": "code",
   "execution_count": 5,
   "metadata": {
    "id": "y4VTmMrC1suX"
   },
   "outputs": [],
   "source": [
    "#img_temp = Image.open('/content/drive/MyDrive/Shopee/train_images/0000a68812bc7e98c42888dfb1c07da0.jpg')\n",
    "img_temp = cv2.imread('train_images/00136d1cf4edede0203f32f05f660588.jpg')\n",
    "\n"
   ]
  },
  {
   "cell_type": "code",
   "execution_count": 6,
   "metadata": {
    "colab": {
     "base_uri": "https://localhost:8080/",
     "height": 286
    },
    "id": "Kh7PBZgW19oe",
    "outputId": "664bc8ef-1b37-4172-eca2-d57a8f0a1e5b"
   },
   "outputs": [
    {
     "data": {
      "text/plain": [
       "<matplotlib.image.AxesImage at 0x7fa85df26a90>"
      ]
     },
     "execution_count": 6,
     "metadata": {},
     "output_type": "execute_result"
    },
    {
     "data": {
      "image/png": "[encoded data removed]",
      "text/plain": [
       "<Figure size 432x288 with 1 Axes>"
      ]
     },
     "metadata": {
      "needs_background": "light"
     },
     "output_type": "display_data"
    }
   ],
   "source": [
    "plt.imshow(img_temp)"
   ]
  },
  {
   "cell_type": "code",
   "execution_count": 7,
   "metadata": {
    "id": "wzHSqbQUQneI"
   },
   "outputs": [],
   "source": [
    "# Labelencoder for labels\n",
    "encoder = preprocessing.LabelEncoder()\n",
    "train_csv['label_group']  = encoder.fit_transform(train_csv['label_group'])\n"
   ]
  },
  {
   "cell_type": "code",
   "execution_count": 8,
   "metadata": {
    "colab": {
     "base_uri": "https://localhost:8080/",
     "height": 204
    },
    "id": "G-Ck1WqM-lwE",
    "outputId": "5d2363ba-5051-4450-d3b9-6e00850a757c"
   },
   "outputs": [
    {
     "data": {
      "text/html": [
       "<div>\n",
       "<style scoped>\n",
       "    .dataframe tbody tr th:only-of-type {\n",
       "        vertical-align: middle;\n",
       "    }\n",
       "\n",
       "    .dataframe tbody tr th {\n",
       "        vertical-align: top;\n",
       "    }\n",
       "\n",
       "    .dataframe thead th {\n",
       "        text-align: right;\n",
       "    }\n",
       "</style>\n",
       "<table border=\"1\" class=\"dataframe\">\n",
       "  <thead>\n",
       "    <tr style=\"text-align: right;\">\n",
       "      <th></th>\n",
       "      <th>posting_id</th>\n",
       "      <th>image</th>\n",
       "      <th>image_phash</th>\n",
       "      <th>title</th>\n",
       "      <th>label_group</th>\n",
       "    </tr>\n",
       "  </thead>\n",
       "  <tbody>\n",
       "    <tr>\n",
       "      <th>0</th>\n",
       "      <td>train_129225211</td>\n",
       "      <td>0000a68812bc7e98c42888dfb1c07da0.jpg</td>\n",
       "      <td>94974f937d4c2433</td>\n",
       "      <td>Paper Bag Victoria Secret</td>\n",
       "      <td>666</td>\n",
       "    </tr>\n",
       "    <tr>\n",
       "      <th>1</th>\n",
       "      <td>train_3386243561</td>\n",
       "      <td>00039780dfc94d01db8676fe789ecd05.jpg</td>\n",
       "      <td>af3f9460c2838f0f</td>\n",
       "      <td>Double Tape 3M VHB 12 mm x 4,5 m ORIGINAL / DO...</td>\n",
       "      <td>7572</td>\n",
       "    </tr>\n",
       "    <tr>\n",
       "      <th>2</th>\n",
       "      <td>train_2288590299</td>\n",
       "      <td>000a190fdd715a2a36faed16e2c65df7.jpg</td>\n",
       "      <td>b94cb00ed3e50f78</td>\n",
       "      <td>Maling TTS Canned Pork Luncheon Meat 397 gr</td>\n",
       "      <td>6172</td>\n",
       "    </tr>\n",
       "    <tr>\n",
       "      <th>3</th>\n",
       "      <td>train_2406599165</td>\n",
       "      <td>00117e4fc239b1b641ff08340b429633.jpg</td>\n",
       "      <td>8514fc58eafea283</td>\n",
       "      <td>Daster Batik Lengan pendek - Motif Acak / Camp...</td>\n",
       "      <td>10509</td>\n",
       "    </tr>\n",
       "    <tr>\n",
       "      <th>4</th>\n",
       "      <td>train_3369186413</td>\n",
       "      <td>00136d1cf4edede0203f32f05f660588.jpg</td>\n",
       "      <td>a6f319f924ad708c</td>\n",
       "      <td>Nescafe \\xc3\\x89clair Latte 220ml</td>\n",
       "      <td>9425</td>\n",
       "    </tr>\n",
       "  </tbody>\n",
       "</table>\n",
       "</div>"
      ],
      "text/plain": [
       "         posting_id                                 image       image_phash  \\\n",
       "0   train_129225211  0000a68812bc7e98c42888dfb1c07da0.jpg  94974f937d4c2433   \n",
       "1  train_3386243561  00039780dfc94d01db8676fe789ecd05.jpg  af3f9460c2838f0f   \n",
       "2  train_2288590299  000a190fdd715a2a36faed16e2c65df7.jpg  b94cb00ed3e50f78   \n",
       "3  train_2406599165  00117e4fc239b1b641ff08340b429633.jpg  8514fc58eafea283   \n",
       "4  train_3369186413  00136d1cf4edede0203f32f05f660588.jpg  a6f319f924ad708c   \n",
       "\n",
       "                                               title  label_group  \n",
       "0                          Paper Bag Victoria Secret          666  \n",
       "1  Double Tape 3M VHB 12 mm x 4,5 m ORIGINAL / DO...         7572  \n",
       "2        Maling TTS Canned Pork Luncheon Meat 397 gr         6172  \n",
       "3  Daster Batik Lengan pendek - Motif Acak / Camp...        10509  \n",
       "4                  Nescafe \\xc3\\x89clair Latte 220ml         9425  "
      ]
     },
     "execution_count": 8,
     "metadata": {},
     "output_type": "execute_result"
    }
   ],
   "source": [
    "train_csv.head()"
   ]
  },
  {
   "cell_type": "code",
   "execution_count": 10,
   "metadata": {
    "id": "DbmGduLkBZah"
   },
   "outputs": [
    {
     "name": "stdout",
     "output_type": "stream",
     "text": [
      "11014\n"
     ]
    }
   ],
   "source": [
    "# Number of labels\n",
    "n_labels = max(train_csv[\"label_group\"])+1\n",
    "print(n_labels)"
   ]
  },
  {
   "cell_type": "code",
   "execution_count": 15,
   "metadata": {
    "id": "UQ6uCQxDw1-h"
   },
   "outputs": [],
   "source": [
    "# Createing dataset\n",
    "class ShopeeDataset(Dataset):\n",
    "    def __init__(self, csv, transforms=None, imsize = 512):\n",
    "        self.csv = csv\n",
    "        self.transforms = transforms\n",
    "        self.imsize = imsize\n",
    "    def __len__(self):\n",
    "        return self.csv.shape[0]\n",
    "\n",
    "    def __getitem__(self, index):\n",
    "        row = self.csv.iloc[index]\n",
    "        title = row.title\n",
    "        img = cv2.imread('train_images/'+row.image)\n",
    "        img= transforms.ToTensor()(img)\n",
    "        if self.transforms != None:\n",
    "          img = self.transforms(img)\n",
    "        img = transforms.Resize((self.imsize,self.imsize))(img)\n",
    "        #img = img.unsqueeze(dim = 0)\n",
    "        #img = cv2.cvtColor(img, cv2.COLOR_BGR2RGB)\n",
    "        return img,torch.tensor(row.label_group)"
   ]
  },
  {
   "cell_type": "code",
   "execution_count": 16,
   "metadata": {
    "id": "3tHSj7yKxFF8"
   },
   "outputs": [],
   "source": [
    "ds = ShopeeDataset(train_csv, imsize= 24)"
   ]
  },
  {
   "cell_type": "code",
   "execution_count": 17,
   "metadata": {
    "colab": {
     "base_uri": "https://localhost:8080/"
    },
    "id": "go-lYSX_xREO",
    "outputId": "25871e07-d715-47c9-ced9-17a715aead08"
   },
   "outputs": [
    {
     "data": {
      "text/plain": [
       "34250"
      ]
     },
     "execution_count": 17,
     "metadata": {},
     "output_type": "execute_result"
    }
   ],
   "source": [
    "len(ds)"
   ]
  },
  {
   "cell_type": "code",
   "execution_count": 18,
   "metadata": {
    "colab": {
     "base_uri": "https://localhost:8080/"
    },
    "id": "Rn8EwOYjxTd8",
    "outputId": "1e98c55a-1ec0-47b4-b6ed-2cdf7d521247"
   },
   "outputs": [
    {
     "data": {
      "text/plain": [
       "torch.Size([3, 24, 24])"
      ]
     },
     "execution_count": 18,
     "metadata": {},
     "output_type": "execute_result"
    }
   ],
   "source": [
    "ds[0][0].size()"
   ]
  },
  {
   "cell_type": "code",
   "execution_count": 19,
   "metadata": {
    "id": "_oFtfqD_xhps"
   },
   "outputs": [],
   "source": [
    "train_loader = torch.utils.data.DataLoader(\n",
    "        ds,\n",
    "        batch_size=120,\n",
    "        pin_memory=True,\n",
    "        drop_last=True\n",
    "    )"
   ]
  },
  {
   "cell_type": "code",
   "execution_count": 20,
   "metadata": {
    "colab": {
     "base_uri": "https://localhost:8080/",
     "height": 316
    },
    "id": "twNs9IJY-2qV",
    "outputId": "8dadf26d-e891-438a-b967-2efbb2698a7d"
   },
   "outputs": [
    {
     "name": "stdout",
     "output_type": "stream",
     "text": [
      "torch.Size([120, 3, 24, 24])\n",
      "tensor([  666,  7572,  6172, 10509,  9425,  6836,  4687,  3976,  6076,  6754,\n",
      "         6347,  1306,  1306, 10797,  4940,   897,  4002,  6058,  8795,  5382,\n",
      "         9363,  1363, 10874,  5732, 10391,  1039,  5192,  7555,  1366,  1366,\n",
      "         2333,  6351, 10937,  9246, 10069,  4148,  6817,  8584,  9843,  2575,\n",
      "         3012,   260,  2466,  2512,  2719,  5085,  3907,  9392,  3280,  4728,\n",
      "         2994,  7285,   947,  3529,  5705,  7647,  3499,  3499,   561,   561,\n",
      "         2119,  3128,   510,  9011,  3970,  9251,  4355,  2038,  5853,  9794,\n",
      "          919,  9830,   383,  2922, 10577,  9011,  3203,  2569,  4839,  2072,\n",
      "         6861,  8675, 10643,  2787,  9251,  2994,  3466,  4812,  8510,  6222,\n",
      "         8036,  8720,  6951,  2102,  2930,  3096,  4472,  2994,  9011,  9011,\n",
      "         7975,  3646, 10629,  4538,  2716,  2716,  2716,  2716,  8785,  8785,\n",
      "          909,  9364,  5191,  4849,  3250,   316,  6806,  9518, 10730,   950])\n"
     ]
    },
    {
     "data": {
      "image/png": "[encoded data removed]",
      "text/plain": [
       "<Figure size 432x288 with 1 Axes>"
      ]
     },
     "metadata": {
      "needs_background": "light"
     },
     "output_type": "display_data"
    }
   ],
   "source": [
    "for x,y in train_loader:\n",
    "  print(x.size())\n",
    "  plt.imshow(transforms.ToPILImage()(x[0]))\n",
    "  print(y)\n",
    "  break"
   ]
  },
  {
   "cell_type": "code",
   "execution_count": 21,
   "metadata": {
    "id": "UvaT-aLj-_JX"
   },
   "outputs": [],
   "source": [
    "class RandNet(nn.Module):\n",
    "    def __init__(self, n_classes, fc_dim = 24):\n",
    "        super(RandNet, self).__init__()\n",
    "        self.conv1 = nn.Conv2d(3, 4, kernel_size = 3, padding = 1)\n",
    "        self.maxpool = nn.MaxPool2d(2, stride = 2)\n",
    "        self.layers = nn.Sequential(self.conv1, nn.ReLU(), self.maxpool)\n",
    "        self.final_layer = nn.Linear(4*12*12, n_classes)\n",
    "        \n",
    "    def embedding(self, x):\n",
    "        vector = self.layers(x)\n",
    "        #vector = self.maxpool(vector)\n",
    "        return (vector)\n",
    "    \n",
    "    def forward(self,x):\n",
    "        z = self.embedding(x)\n",
    "        z= z.view(-1,4*12*12)\n",
    "        return self.final_layer(z)\n",
    "        "
   ]
  },
  {
   "cell_type": "code",
   "execution_count": 22,
   "metadata": {
    "id": "tV_Z2lzT_mX1"
   },
   "outputs": [],
   "source": [
    "rdn = RandNet(n_labels)"
   ]
  },
  {
   "cell_type": "code",
   "execution_count": 24,
   "metadata": {
    "colab": {
     "base_uri": "https://localhost:8080/"
    },
    "id": "PuTJdDcI_rD5",
    "outputId": "1382072d-6591-42f5-fc37-986aebcd0abc"
   },
   "outputs": [
    {
     "name": "stdout",
     "output_type": "stream",
     "text": [
      "torch.Size([120, 3, 24, 24])\n",
      "tensor([  666,  7572,  6172, 10509,  9425,  6836,  4687,  3976,  6076,  6754,\n",
      "         6347,  1306,  1306, 10797,  4940,   897,  4002,  6058,  8795,  5382,\n",
      "         9363,  1363, 10874,  5732, 10391,  1039,  5192,  7555,  1366,  1366,\n",
      "         2333,  6351, 10937,  9246, 10069,  4148,  6817,  8584,  9843,  2575,\n",
      "         3012,   260,  2466,  2512,  2719,  5085,  3907,  9392,  3280,  4728,\n",
      "         2994,  7285,   947,  3529,  5705,  7647,  3499,  3499,   561,   561,\n",
      "         2119,  3128,   510,  9011,  3970,  9251,  4355,  2038,  5853,  9794,\n",
      "          919,  9830,   383,  2922, 10577,  9011,  3203,  2569,  4839,  2072,\n",
      "         6861,  8675, 10643,  2787,  9251,  2994,  3466,  4812,  8510,  6222,\n",
      "         8036,  8720,  6951,  2102,  2930,  3096,  4472,  2994,  9011,  9011,\n",
      "         7975,  3646, 10629,  4538,  2716,  2716,  2716,  2716,  8785,  8785,\n",
      "          909,  9364,  5191,  4849,  3250,   316,  6806,  9518, 10730,   950])\n",
      "tensor([[-0.0887,  0.3042, -0.0519,  ..., -0.0763,  0.0039, -0.0635],\n",
      "        [-0.2057,  0.3906,  0.0609,  ..., -0.0285, -0.0652, -0.1076],\n",
      "        [-0.1699,  0.2463, -0.0052,  ..., -0.0241, -0.0381, -0.0712],\n",
      "        ...,\n",
      "        [-0.1140,  0.3709,  0.0654,  ...,  0.0394,  0.0174, -0.0008],\n",
      "        [-0.1087,  0.1728,  0.0284,  ..., -0.0045, -0.0228, -0.0355],\n",
      "        [-0.1249,  0.2682,  0.0014,  ..., -0.0878, -0.0784, -0.0721]],\n",
      "       grad_fn=<AddmmBackward>)\n"
     ]
    }
   ],
   "source": [
    "for x,y in train_loader:\n",
    "  print(x.size())\n",
    "  print(y)\n",
    "  print(rdn(x))\n",
    "  break"
   ]
  },
  {
   "cell_type": "code",
   "execution_count": 25,
   "metadata": {
    "id": "MqE39jwDQDMY"
   },
   "outputs": [],
   "source": [
    "class AverageMeter(object):\n",
    "    def __init__(self):\n",
    "        self.reset()\n",
    "    \n",
    "    def reset(self):\n",
    "        self.val = 0\n",
    "        self.avg = 0\n",
    "        self.sum = 0\n",
    "        self.count = 0\n",
    "    \n",
    "    def update(self, val, n=1):\n",
    "        self.val = val\n",
    "        self.sum += val * n\n",
    "        self.count += n\n",
    "        self.avg = self.sum / self.count"
   ]
  },
  {
   "cell_type": "code",
   "execution_count": 26,
   "metadata": {
    "id": "zv2CWmsUGfKE"
   },
   "outputs": [],
   "source": [
    "from time import time"
   ]
  },
  {
   "cell_type": "code",
   "execution_count": 29,
   "metadata": {
    "id": "eFAu_69O_z2l"
   },
   "outputs": [],
   "source": [
    "#Training\n",
    "def train_fn(dataloader, model, criterion, optimizer, epoch):\n",
    "    model.train()\n",
    "    loss_score = AverageMeter()\n",
    "    t = time()\n",
    "    tot = len(dataloader)\n",
    "    #for i,d in tqdm(enumerate(dataloader), total=tot):\n",
    "    i = 0\n",
    "    for images,targets in tqdm(dataloader, total=tot):\n",
    "        print(\"dataloading time\")\n",
    "        print(time()-t)\n",
    "        batch_size = targets.shape[0]\n",
    "        optimizer.zero_grad()\n",
    "        output = model(images)\n",
    "        print(\"forward time\")\n",
    "        print(time()-t)\n",
    "        loss = criterion(output,targets)\n",
    "        print(\"loss time\")\n",
    "        print(time()-t)\n",
    "        loss.backward()\n",
    "        optimizer.step()\n",
    "        print(\"backpropagation time\")\n",
    "        print(time()-t)\n",
    "        loss_score.update(loss.detach().item(), batch_size)\n",
    "        #tk0.set_postfix(Train_Loss=loss_score.avg,Epoch=epoch,LR=optimizer.param_groups[0]['lr'])\n",
    "     \n",
    "        \n",
    "    return loss_score"
   ]
  },
  {
   "cell_type": "code",
   "execution_count": 36,
   "metadata": {},
   "outputs": [],
   "source": [
    "optimizer = torch.optim.Adam(rdn.parameters(), lr = 1e-3)\n",
    "loss = nn.CrossEntropyLoss()\n",
    "                             "
   ]
  },
  {
   "cell_type": "markdown",
   "metadata": {
    "id": "1CVjql8gpoxB"
   },
   "source": []
  },
  {
   "cell_type": "code",
   "execution_count": 40,
   "metadata": {
    "colab": {
     "base_uri": "https://localhost:8080/"
    },
    "id": "CB5Cqq7wCvMT",
    "outputId": "ec889a3d-7c81-419f-ab61-8205a01375f6"
   },
   "outputs": [
    {
     "name": "stderr",
     "output_type": "stream",
     "text": [
      "  0%|          | 1/285 [00:01<09:07,  1.93s/it]"
     ]
    },
    {
     "name": "stdout",
     "output_type": "stream",
     "text": [
      "dataloading time\n",
      "1.7618119716644287\n",
      "forward time\n",
      "1.8162710666656494\n",
      "loss time\n",
      "1.8196401596069336\n",
      "backpropagation time\n",
      "1.9311962127685547\n"
     ]
    },
    {
     "name": "stderr",
     "output_type": "stream",
     "text": [
      "\r",
      "  1%|          | 2/285 [00:03<07:04,  1.50s/it]"
     ]
    },
    {
     "name": "stdout",
     "output_type": "stream",
     "text": [
      "dataloading time\n",
      "3.0319249629974365\n",
      "forward time\n",
      "3.0569679737091064\n",
      "loss time\n",
      "3.059641122817993\n",
      "backpropagation time\n",
      "3.1342861652374268\n"
     ]
    },
    {
     "name": "stderr",
     "output_type": "stream",
     "text": [
      "\r",
      "  1%|          | 3/285 [00:04<06:23,  1.36s/it]"
     ]
    },
    {
     "name": "stdout",
     "output_type": "stream",
     "text": [
      "dataloading time\n",
      "4.222876787185669\n",
      "forward time\n",
      "4.246390104293823\n",
      "loss time\n",
      "4.249624967575073\n",
      "backpropagation time\n",
      "4.325287818908691\n"
     ]
    },
    {
     "name": "stderr",
     "output_type": "stream",
     "text": [
      "\r",
      "  1%|▏         | 4/285 [00:05<06:02,  1.29s/it]"
     ]
    },
    {
     "name": "stdout",
     "output_type": "stream",
     "text": [
      "dataloading time\n",
      "5.412934064865112\n",
      "forward time\n",
      "5.435106992721558\n",
      "loss time\n",
      "5.437626123428345\n",
      "backpropagation time\n",
      "5.509393215179443\n"
     ]
    },
    {
     "name": "stderr",
     "output_type": "stream",
     "text": [
      "\r",
      "  2%|▏         | 5/285 [00:06<05:50,  1.25s/it]"
     ]
    },
    {
     "name": "stdout",
     "output_type": "stream",
     "text": [
      "dataloading time\n",
      "6.590895175933838\n",
      "forward time\n",
      "6.613188982009888\n",
      "loss time\n",
      "6.615911960601807\n",
      "backpropagation time\n",
      "6.688277006149292\n"
     ]
    },
    {
     "name": "stderr",
     "output_type": "stream",
     "text": [
      "\r",
      "  2%|▏         | 6/285 [00:07<05:44,  1.23s/it]"
     ]
    },
    {
     "name": "stdout",
     "output_type": "stream",
     "text": [
      "dataloading time\n",
      "7.7774498462677\n",
      "forward time\n",
      "7.800589084625244\n",
      "loss time\n",
      "7.802950143814087\n",
      "backpropagation time\n",
      "7.892496109008789\n"
     ]
    },
    {
     "name": "stderr",
     "output_type": "stream",
     "text": [
      "\r",
      "  2%|▏         | 7/285 [00:09<05:37,  1.21s/it]"
     ]
    },
    {
     "name": "stdout",
     "output_type": "stream",
     "text": [
      "dataloading time\n",
      "8.951732873916626\n",
      "forward time\n",
      "8.977219104766846\n",
      "loss time\n",
      "8.979909181594849\n",
      "backpropagation time\n",
      "9.066997051239014\n"
     ]
    },
    {
     "name": "stderr",
     "output_type": "stream",
     "text": [
      "\r",
      "  3%|▎         | 8/285 [00:10<05:33,  1.20s/it]"
     ]
    },
    {
     "name": "stdout",
     "output_type": "stream",
     "text": [
      "dataloading time\n",
      "10.148653984069824\n",
      "forward time\n",
      "10.171019077301025\n",
      "loss time\n",
      "10.173624038696289\n",
      "backpropagation time\n",
      "10.24661922454834\n"
     ]
    },
    {
     "name": "stderr",
     "output_type": "stream",
     "text": [
      "\r",
      "  3%|▎         | 9/285 [00:11<05:30,  1.20s/it]"
     ]
    },
    {
     "name": "stdout",
     "output_type": "stream",
     "text": [
      "dataloading time\n",
      "11.323724031448364\n",
      "forward time\n",
      "11.348056077957153\n",
      "loss time\n",
      "11.350666046142578\n",
      "backpropagation time\n",
      "11.433321952819824\n"
     ]
    },
    {
     "name": "stderr",
     "output_type": "stream",
     "text": [
      "\r",
      "  4%|▎         | 10/285 [00:12<05:40,  1.24s/it]"
     ]
    },
    {
     "name": "stdout",
     "output_type": "stream",
     "text": [
      "dataloading time\n",
      "12.643243074417114\n",
      "forward time\n",
      "12.666112899780273\n",
      "loss time\n",
      "12.669763088226318\n",
      "backpropagation time\n",
      "12.75562310218811\n"
     ]
    },
    {
     "name": "stderr",
     "output_type": "stream",
     "text": [
      "\r",
      "  4%|▍         | 11/285 [00:14<05:47,  1.27s/it]"
     ]
    },
    {
     "name": "stdout",
     "output_type": "stream",
     "text": [
      "dataloading time\n",
      "13.982927083969116\n",
      "forward time\n",
      "14.006748914718628\n",
      "loss time\n",
      "14.00931191444397\n",
      "backpropagation time\n",
      "14.094082117080688\n"
     ]
    },
    {
     "name": "stderr",
     "output_type": "stream",
     "text": [
      "\r",
      "  4%|▍         | 12/285 [00:15<05:39,  1.24s/it]"
     ]
    },
    {
     "name": "stdout",
     "output_type": "stream",
     "text": [
      "dataloading time\n",
      "15.178806066513062\n",
      "forward time\n",
      "15.2012300491333\n",
      "loss time\n",
      "15.203505039215088\n",
      "backpropagation time\n",
      "15.282320022583008\n"
     ]
    },
    {
     "name": "stderr",
     "output_type": "stream",
     "text": [
      "\r",
      "  5%|▍         | 13/285 [00:16<05:30,  1.22s/it]"
     ]
    },
    {
     "name": "stdout",
     "output_type": "stream",
     "text": [
      "dataloading time\n",
      "16.32534408569336\n",
      "forward time\n",
      "16.35054898262024\n",
      "loss time\n",
      "16.35290217399597\n",
      "backpropagation time\n",
      "16.435467958450317\n"
     ]
    },
    {
     "name": "stderr",
     "output_type": "stream",
     "text": [
      "\r",
      "  5%|▍         | 14/285 [00:17<05:34,  1.23s/it]"
     ]
    },
    {
     "name": "stdout",
     "output_type": "stream",
     "text": [
      "dataloading time\n",
      "17.61848020553589\n",
      "forward time\n",
      "17.640557050704956\n",
      "loss time\n",
      "17.643076181411743\n",
      "backpropagation time\n",
      "17.709145069122314\n"
     ]
    },
    {
     "name": "stderr",
     "output_type": "stream",
     "text": [
      "\r",
      "  5%|▌         | 15/285 [00:18<05:28,  1.22s/it]"
     ]
    },
    {
     "name": "stdout",
     "output_type": "stream",
     "text": [
      "dataloading time\n",
      "18.786400079727173\n",
      "forward time\n",
      "18.809410095214844\n",
      "loss time\n",
      "18.811667919158936\n",
      "backpropagation time\n",
      "18.889846086502075\n"
     ]
    },
    {
     "name": "stderr",
     "output_type": "stream",
     "text": [
      "\r",
      "  6%|▌         | 16/285 [00:20<05:24,  1.20s/it]"
     ]
    },
    {
     "name": "stdout",
     "output_type": "stream",
     "text": [
      "dataloading time\n",
      "19.968616008758545\n",
      "forward time\n",
      "19.99051809310913\n",
      "loss time\n",
      "19.993106842041016\n",
      "backpropagation time\n",
      "20.064305067062378\n"
     ]
    },
    {
     "name": "stderr",
     "output_type": "stream",
     "text": [
      "\r",
      "  6%|▌         | 17/285 [00:21<05:26,  1.22s/it]"
     ]
    },
    {
     "name": "stdout",
     "output_type": "stream",
     "text": [
      "dataloading time\n",
      "21.21872901916504\n",
      "forward time\n",
      "21.240369081497192\n",
      "loss time\n",
      "21.24296498298645\n",
      "backpropagation time\n",
      "21.314791917800903\n"
     ]
    },
    {
     "name": "stderr",
     "output_type": "stream",
     "text": [
      "\r",
      "  6%|▋         | 18/285 [00:22<05:30,  1.24s/it]"
     ]
    },
    {
     "name": "stdout",
     "output_type": "stream",
     "text": [
      "dataloading time\n",
      "22.510133028030396\n",
      "forward time\n",
      "22.532068014144897\n",
      "loss time\n",
      "22.534503936767578\n",
      "backpropagation time\n",
      "22.598222017288208\n"
     ]
    },
    {
     "name": "stderr",
     "output_type": "stream",
     "text": [
      "\r",
      "  7%|▋         | 19/285 [00:23<05:20,  1.21s/it]"
     ]
    },
    {
     "name": "stdout",
     "output_type": "stream",
     "text": [
      "dataloading time\n",
      "23.624205112457275\n",
      "forward time\n",
      "23.646116018295288\n",
      "loss time\n",
      "23.648698091506958\n",
      "backpropagation time\n",
      "23.731082916259766\n"
     ]
    },
    {
     "name": "stderr",
     "output_type": "stream",
     "text": [
      "\r",
      "  7%|▋         | 20/285 [00:24<05:24,  1.23s/it]"
     ]
    },
    {
     "name": "stdout",
     "output_type": "stream",
     "text": [
      "dataloading time\n",
      "24.896662950515747\n",
      "forward time\n",
      "24.918244123458862\n",
      "loss time\n",
      "24.920830965042114\n",
      "backpropagation time\n",
      "25.001158237457275\n"
     ]
    },
    {
     "name": "stderr",
     "output_type": "stream",
     "text": [
      "\r",
      "  7%|▋         | 21/285 [00:26<05:26,  1.24s/it]"
     ]
    },
    {
     "name": "stdout",
     "output_type": "stream",
     "text": [
      "dataloading time\n",
      "26.15907311439514\n",
      "forward time\n",
      "26.183390855789185\n",
      "loss time\n",
      "26.18610715866089\n",
      "backpropagation time\n",
      "26.268481016159058\n"
     ]
    },
    {
     "name": "stderr",
     "output_type": "stream",
     "text": [
      "\r",
      "  8%|▊         | 22/285 [00:27<05:33,  1.27s/it]"
     ]
    },
    {
     "name": "stdout",
     "output_type": "stream",
     "text": [
      "dataloading time\n",
      "27.50516104698181\n",
      "forward time\n",
      "27.52905797958374\n",
      "loss time\n",
      "27.53142285346985\n",
      "backpropagation time\n",
      "27.610263109207153\n"
     ]
    },
    {
     "name": "stderr",
     "output_type": "stream",
     "text": [
      "\r",
      "  8%|▊         | 23/285 [00:28<05:33,  1.27s/it]"
     ]
    },
    {
     "name": "stdout",
     "output_type": "stream",
     "text": [
      "dataloading time\n",
      "28.778414011001587\n",
      "forward time\n",
      "28.80081605911255\n",
      "loss time\n",
      "28.80324411392212\n",
      "backpropagation time\n",
      "28.88816785812378\n"
     ]
    },
    {
     "name": "stderr",
     "output_type": "stream",
     "text": [
      "\r",
      "  8%|▊         | 24/285 [00:30<05:40,  1.31s/it]"
     ]
    },
    {
     "name": "stdout",
     "output_type": "stream",
     "text": [
      "dataloading time\n",
      "30.103567123413086\n",
      "forward time\n",
      "30.13963794708252\n",
      "loss time\n",
      "30.142198085784912\n",
      "backpropagation time\n",
      "30.274970054626465\n"
     ]
    },
    {
     "name": "stderr",
     "output_type": "stream",
     "text": [
      "\r",
      "  9%|▉         | 25/285 [00:31<05:34,  1.29s/it]"
     ]
    },
    {
     "name": "stdout",
     "output_type": "stream",
     "text": [
      "dataloading time\n",
      "31.36314606666565\n",
      "forward time\n",
      "31.3892560005188\n",
      "loss time\n",
      "31.391728162765503\n",
      "backpropagation time\n",
      "31.511169910430908\n"
     ]
    },
    {
     "name": "stderr",
     "output_type": "stream",
     "text": [
      "\r",
      "  9%|▉         | 26/285 [00:32<05:23,  1.25s/it]"
     ]
    },
    {
     "name": "stdout",
     "output_type": "stream",
     "text": [
      "dataloading time\n",
      "32.5767080783844\n",
      "forward time\n",
      "32.59840798377991\n",
      "loss time\n",
      "32.601001024246216\n",
      "backpropagation time\n",
      "32.67764711380005\n"
     ]
    },
    {
     "name": "stderr",
     "output_type": "stream",
     "text": [
      "\r",
      "  9%|▉         | 27/285 [00:33<05:17,  1.23s/it]"
     ]
    },
    {
     "name": "stdout",
     "output_type": "stream",
     "text": [
      "dataloading time\n",
      "33.75716185569763\n",
      "forward time\n",
      "33.77883219718933\n",
      "loss time\n",
      "33.781511068344116\n",
      "backpropagation time\n",
      "33.86635708808899\n"
     ]
    },
    {
     "name": "stderr",
     "output_type": "stream",
     "text": [
      "\r",
      " 10%|▉         | 28/285 [00:35<05:17,  1.23s/it]"
     ]
    },
    {
     "name": "stdout",
     "output_type": "stream",
     "text": [
      "dataloading time\n",
      "35.00672197341919\n",
      "forward time\n",
      "35.02869391441345\n",
      "loss time\n",
      "35.031639099121094\n",
      "backpropagation time\n",
      "35.10541892051697\n"
     ]
    },
    {
     "name": "stderr",
     "output_type": "stream",
     "text": [
      "\r",
      " 10%|█         | 29/285 [00:36<05:10,  1.21s/it]"
     ]
    },
    {
     "name": "stdout",
     "output_type": "stream",
     "text": [
      "dataloading time\n",
      "36.16128706932068\n",
      "forward time\n",
      "36.183354139328\n",
      "loss time\n",
      "36.18584489822388\n",
      "backpropagation time\n",
      "36.26524209976196\n"
     ]
    },
    {
     "name": "stderr",
     "output_type": "stream",
     "text": [
      "\r",
      " 11%|█         | 30/285 [00:37<05:24,  1.27s/it]"
     ]
    },
    {
     "name": "stdout",
     "output_type": "stream",
     "text": [
      "dataloading time\n",
      "37.56887125968933\n",
      "forward time\n",
      "37.5936119556427\n",
      "loss time\n",
      "37.59612321853638\n",
      "backpropagation time\n",
      "37.68053698539734\n"
     ]
    },
    {
     "name": "stderr",
     "output_type": "stream",
     "text": [
      "\r",
      " 11%|█         | 31/285 [00:39<05:45,  1.36s/it]"
     ]
    },
    {
     "name": "stdout",
     "output_type": "stream",
     "text": [
      "dataloading time\n",
      "39.13378095626831\n",
      "forward time\n",
      "39.16009497642517\n",
      "loss time\n",
      "39.163187980651855\n",
      "backpropagation time\n",
      "39.239869832992554\n"
     ]
    },
    {
     "name": "stderr",
     "output_type": "stream",
     "text": [
      "\r",
      " 11%|█         | 32/285 [00:40<05:32,  1.31s/it]"
     ]
    },
    {
     "name": "stdout",
     "output_type": "stream",
     "text": [
      "dataloading time\n",
      "40.314433097839355\n",
      "forward time\n",
      "40.34894895553589\n",
      "loss time\n",
      "40.35264205932617\n",
      "backpropagation time\n",
      "40.447936058044434\n"
     ]
    },
    {
     "name": "stderr",
     "output_type": "stream",
     "text": [
      "\r",
      " 12%|█▏        | 33/285 [00:41<05:36,  1.34s/it]"
     ]
    },
    {
     "name": "stdout",
     "output_type": "stream",
     "text": [
      "dataloading time\n",
      "41.72318625450134\n",
      "forward time\n",
      "41.75319290161133\n",
      "loss time\n",
      "41.75590109825134\n",
      "backpropagation time\n",
      "41.834840059280396\n"
     ]
    },
    {
     "name": "stderr",
     "output_type": "stream",
     "text": [
      "\r",
      " 12%|█▏        | 34/285 [00:43<05:57,  1.42s/it]"
     ]
    },
    {
     "name": "stdout",
     "output_type": "stream",
     "text": [
      "dataloading time\n",
      "43.33982992172241\n",
      "forward time\n",
      "43.37022519111633\n",
      "loss time\n",
      "43.37336206436157\n",
      "backpropagation time\n",
      "43.46367311477661\n"
     ]
    },
    {
     "name": "stderr",
     "output_type": "stream",
     "text": [
      "\r",
      " 12%|█▏        | 35/285 [00:45<06:04,  1.46s/it]"
     ]
    },
    {
     "name": "stdout",
     "output_type": "stream",
     "text": [
      "dataloading time\n",
      "44.873075008392334\n",
      "forward time\n",
      "44.90277910232544\n",
      "loss time\n",
      "44.90588998794556\n",
      "backpropagation time\n",
      "45.00620794296265\n"
     ]
    },
    {
     "name": "stderr",
     "output_type": "stream",
     "text": [
      "\r",
      " 13%|█▎        | 36/285 [00:46<06:10,  1.49s/it]"
     ]
    },
    {
     "name": "stdout",
     "output_type": "stream",
     "text": [
      "dataloading time\n",
      "46.45474410057068\n",
      "forward time\n",
      "46.47743511199951\n",
      "loss time\n",
      "46.480080127716064\n",
      "backpropagation time\n",
      "46.56136703491211\n"
     ]
    },
    {
     "name": "stderr",
     "output_type": "stream",
     "text": [
      "\r",
      " 13%|█▎        | 37/285 [00:48<06:32,  1.58s/it]"
     ]
    },
    {
     "name": "stdout",
     "output_type": "stream",
     "text": [
      "dataloading time\n",
      "48.243618965148926\n",
      "forward time\n",
      "48.269771099090576\n",
      "loss time\n",
      "48.27285408973694\n",
      "backpropagation time\n",
      "48.35922718048096\n"
     ]
    },
    {
     "name": "stderr",
     "output_type": "stream",
     "text": [
      "\r",
      " 13%|█▎        | 38/285 [00:49<06:03,  1.47s/it]"
     ]
    },
    {
     "name": "stdout",
     "output_type": "stream",
     "text": [
      "dataloading time\n",
      "49.46992802619934\n",
      "forward time\n",
      "49.494109869003296\n",
      "loss time\n",
      "49.49697709083557\n",
      "backpropagation time\n",
      "49.57324504852295\n"
     ]
    },
    {
     "name": "stderr",
     "output_type": "stream",
     "text": [
      "\r",
      " 14%|█▎        | 39/285 [00:50<05:50,  1.42s/it]"
     ]
    },
    {
     "name": "stdout",
     "output_type": "stream",
     "text": [
      "dataloading time\n",
      "50.77875804901123\n",
      "forward time\n",
      "50.80493402481079\n",
      "loss time\n",
      "50.80721712112427\n",
      "backpropagation time\n",
      "50.89014387130737\n"
     ]
    },
    {
     "name": "stderr",
     "output_type": "stream",
     "text": [
      "\r",
      " 14%|█▍        | 40/285 [00:52<05:38,  1.38s/it]"
     ]
    },
    {
     "name": "stdout",
     "output_type": "stream",
     "text": [
      "dataloading time\n",
      "52.070889949798584\n",
      "forward time\n",
      "52.09538817405701\n",
      "loss time\n",
      "52.09838604927063\n",
      "backpropagation time\n",
      "52.17678999900818\n"
     ]
    },
    {
     "name": "stderr",
     "output_type": "stream",
     "text": [
      "\r",
      " 14%|█▍        | 41/285 [00:53<05:30,  1.35s/it]"
     ]
    },
    {
     "name": "stdout",
     "output_type": "stream",
     "text": [
      "dataloading time\n",
      "53.34664797782898\n",
      "forward time\n",
      "53.3719642162323\n",
      "loss time\n",
      "53.37450385093689\n",
      "backpropagation time\n",
      "53.46190786361694\n"
     ]
    },
    {
     "name": "stderr",
     "output_type": "stream",
     "text": [
      "\r",
      " 15%|█▍        | 42/285 [00:54<05:25,  1.34s/it]"
     ]
    },
    {
     "name": "stdout",
     "output_type": "stream",
     "text": [
      "dataloading time\n",
      "54.658761978149414\n",
      "forward time\n",
      "54.68348217010498\n",
      "loss time\n",
      "54.68609619140625\n",
      "backpropagation time\n",
      "54.769630908966064\n"
     ]
    },
    {
     "name": "stderr",
     "output_type": "stream",
     "text": [
      "\r",
      " 15%|█▌        | 43/285 [00:55<05:15,  1.31s/it]"
     ]
    },
    {
     "name": "stdout",
     "output_type": "stream",
     "text": [
      "dataloading time\n",
      "55.89281702041626\n",
      "forward time\n",
      "55.91515111923218\n",
      "loss time\n",
      "55.9174120426178\n",
      "backpropagation time\n",
      "55.99309206008911\n"
     ]
    },
    {
     "name": "stderr",
     "output_type": "stream",
     "text": [
      "\r",
      " 15%|█▌        | 44/285 [00:57<05:05,  1.27s/it]"
     ]
    },
    {
     "name": "stdout",
     "output_type": "stream",
     "text": [
      "dataloading time\n",
      "57.06893992424011\n",
      "forward time\n",
      "57.09509611129761\n",
      "loss time\n",
      "57.0977520942688\n",
      "backpropagation time\n",
      "57.17823624610901\n"
     ]
    },
    {
     "name": "stderr",
     "output_type": "stream",
     "text": [
      "\r",
      " 16%|█▌        | 45/285 [00:58<05:11,  1.30s/it]"
     ]
    },
    {
     "name": "stdout",
     "output_type": "stream",
     "text": [
      "dataloading time\n",
      "58.385021924972534\n",
      "forward time\n",
      "58.40962886810303\n",
      "loss time\n",
      "58.41252088546753\n",
      "backpropagation time\n",
      "58.54892301559448\n"
     ]
    },
    {
     "name": "stderr",
     "output_type": "stream",
     "text": [
      "\r",
      " 16%|█▌        | 46/285 [01:00<05:25,  1.36s/it]"
     ]
    },
    {
     "name": "stdout",
     "output_type": "stream",
     "text": [
      "dataloading time\n",
      "59.895283937454224\n",
      "forward time\n",
      "59.92491912841797\n",
      "loss time\n",
      "59.92790389060974\n",
      "backpropagation time\n",
      "60.051640033721924\n"
     ]
    },
    {
     "name": "stderr",
     "output_type": "stream",
     "text": [
      "\r",
      " 16%|█▋        | 47/285 [01:01<05:21,  1.35s/it]"
     ]
    },
    {
     "name": "stdout",
     "output_type": "stream",
     "text": [
      "dataloading time\n",
      "61.263229846954346\n",
      "forward time\n",
      "61.28590416908264\n",
      "loss time\n",
      "61.28905916213989\n",
      "backpropagation time\n",
      "61.37289118766785\n"
     ]
    },
    {
     "name": "stderr",
     "output_type": "stream",
     "text": [
      "\r",
      " 17%|█▋        | 48/285 [01:02<05:24,  1.37s/it]"
     ]
    },
    {
     "name": "stdout",
     "output_type": "stream",
     "text": [
      "dataloading time\n",
      "62.662168979644775\n",
      "forward time\n",
      "62.69358992576599\n",
      "loss time\n",
      "62.69611215591431\n",
      "backpropagation time\n",
      "62.78419613838196\n"
     ]
    },
    {
     "name": "stderr",
     "output_type": "stream",
     "text": [
      "\r",
      " 17%|█▋        | 49/285 [01:04<05:51,  1.49s/it]"
     ]
    },
    {
     "name": "stdout",
     "output_type": "stream",
     "text": [
      "dataloading time\n",
      "64.42459201812744\n",
      "forward time\n",
      "64.45262098312378\n",
      "loss time\n",
      "64.45512700080872\n",
      "backpropagation time\n",
      "64.56385087966919\n"
     ]
    },
    {
     "name": "stderr",
     "output_type": "stream",
     "text": [
      "\r",
      " 18%|█▊        | 50/285 [01:05<05:45,  1.47s/it]"
     ]
    },
    {
     "name": "stdout",
     "output_type": "stream",
     "text": [
      "dataloading time\n",
      "65.86958885192871\n",
      "forward time\n",
      "65.8914532661438\n",
      "loss time\n",
      "65.89374685287476\n",
      "backpropagation time\n",
      "65.9793860912323\n"
     ]
    },
    {
     "name": "stderr",
     "output_type": "stream",
     "text": [
      "\r",
      " 18%|█▊        | 51/285 [01:07<05:38,  1.45s/it]"
     ]
    },
    {
     "name": "stdout",
     "output_type": "stream",
     "text": [
      "dataloading time\n",
      "67.26104021072388\n",
      "forward time\n",
      "67.28323197364807\n",
      "loss time\n",
      "67.28560304641724\n",
      "backpropagation time\n",
      "67.371835231781\n"
     ]
    },
    {
     "name": "stderr",
     "output_type": "stream",
     "text": [
      "\r",
      " 18%|█▊        | 52/285 [01:08<05:27,  1.40s/it]"
     ]
    },
    {
     "name": "stdout",
     "output_type": "stream",
     "text": [
      "dataloading time\n",
      "68.57245111465454\n",
      "forward time\n",
      "68.59615993499756\n",
      "loss time\n",
      "68.59868907928467\n",
      "backpropagation time\n",
      "68.67718195915222\n"
     ]
    },
    {
     "name": "stderr",
     "output_type": "stream",
     "text": [
      "\r",
      " 19%|█▊        | 53/285 [01:10<05:29,  1.42s/it]"
     ]
    },
    {
     "name": "stdout",
     "output_type": "stream",
     "text": [
      "dataloading time\n",
      "70.04422187805176\n",
      "forward time\n",
      "70.06644296646118\n",
      "loss time\n",
      "70.06905698776245\n",
      "backpropagation time\n",
      "70.14154601097107\n"
     ]
    },
    {
     "name": "stderr",
     "output_type": "stream",
     "text": [
      "\r",
      " 19%|█▉        | 54/285 [01:11<05:33,  1.44s/it]"
     ]
    },
    {
     "name": "stdout",
     "output_type": "stream",
     "text": [
      "dataloading time\n",
      "71.51997590065002\n",
      "forward time\n",
      "71.54267907142639\n",
      "loss time\n",
      "71.5451021194458\n",
      "backpropagation time\n",
      "71.63034009933472\n"
     ]
    },
    {
     "name": "stderr",
     "output_type": "stream",
     "text": [
      "\r",
      " 19%|█▉        | 55/285 [01:13<05:43,  1.49s/it]"
     ]
    },
    {
     "name": "stdout",
     "output_type": "stream",
     "text": [
      "dataloading time\n",
      "73.15096712112427\n",
      "forward time\n",
      "73.17318511009216\n",
      "loss time\n",
      "73.17571997642517\n",
      "backpropagation time\n",
      "73.24706721305847\n"
     ]
    },
    {
     "name": "stderr",
     "output_type": "stream",
     "text": [
      "\r",
      " 20%|█▉        | 56/285 [01:14<05:40,  1.49s/it]"
     ]
    },
    {
     "name": "stdout",
     "output_type": "stream",
     "text": [
      "dataloading time\n",
      "74.60756611824036\n",
      "forward time\n",
      "74.63045191764832\n",
      "loss time\n",
      "74.6329619884491\n",
      "backpropagation time\n",
      "74.72060799598694\n"
     ]
    },
    {
     "name": "stderr",
     "output_type": "stream",
     "text": [
      "\r",
      " 20%|██        | 57/285 [01:16<05:41,  1.50s/it]"
     ]
    },
    {
     "name": "stdout",
     "output_type": "stream",
     "text": [
      "dataloading time\n",
      "76.12979292869568\n",
      "forward time\n",
      "76.15251207351685\n",
      "loss time\n",
      "76.15531706809998\n",
      "backpropagation time\n",
      "76.24792289733887\n"
     ]
    },
    {
     "name": "stderr",
     "output_type": "stream",
     "text": [
      "\r",
      " 20%|██        | 58/285 [01:17<05:41,  1.50s/it]"
     ]
    },
    {
     "name": "stdout",
     "output_type": "stream",
     "text": [
      "dataloading time\n",
      "77.66616225242615\n",
      "forward time\n",
      "77.68920302391052\n",
      "loss time\n",
      "77.69205093383789\n",
      "backpropagation time\n",
      "77.76042795181274\n"
     ]
    },
    {
     "name": "stderr",
     "output_type": "stream",
     "text": [
      "\r",
      " 21%|██        | 59/285 [01:19<05:24,  1.43s/it]"
     ]
    },
    {
     "name": "stdout",
     "output_type": "stream",
     "text": [
      "dataloading time\n",
      "78.93397903442383\n",
      "forward time\n",
      "78.95674395561218\n",
      "loss time\n",
      "78.95970106124878\n",
      "backpropagation time\n",
      "79.0346109867096\n"
     ]
    },
    {
     "name": "stderr",
     "output_type": "stream",
     "text": [
      "\r",
      " 21%|██        | 60/285 [01:20<05:05,  1.36s/it]"
     ]
    },
    {
     "name": "stdout",
     "output_type": "stream",
     "text": [
      "dataloading time\n",
      "80.10568499565125\n",
      "forward time\n",
      "80.12772297859192\n",
      "loss time\n",
      "80.13010311126709\n",
      "backpropagation time\n",
      "80.2054979801178\n"
     ]
    },
    {
     "name": "stderr",
     "output_type": "stream",
     "text": [
      "\r",
      " 21%|██▏       | 61/285 [01:21<04:51,  1.30s/it]"
     ]
    },
    {
     "name": "stdout",
     "output_type": "stream",
     "text": [
      "dataloading time\n",
      "81.28216123580933\n",
      "forward time\n",
      "81.30463790893555\n",
      "loss time\n",
      "81.30702209472656\n",
      "backpropagation time\n",
      "81.38004302978516\n"
     ]
    },
    {
     "name": "stderr",
     "output_type": "stream",
     "text": [
      "\r",
      " 22%|██▏       | 62/285 [01:22<04:58,  1.34s/it]"
     ]
    },
    {
     "name": "stdout",
     "output_type": "stream",
     "text": [
      "dataloading time\n",
      "82.69689393043518\n",
      "forward time\n",
      "82.7205319404602\n",
      "loss time\n",
      "82.72317004203796\n",
      "backpropagation time\n",
      "82.80356907844543\n"
     ]
    },
    {
     "name": "stderr",
     "output_type": "stream",
     "text": [
      "\r",
      " 22%|██▏       | 63/285 [01:24<04:58,  1.35s/it]"
     ]
    },
    {
     "name": "stdout",
     "output_type": "stream",
     "text": [
      "dataloading time\n",
      "84.05245995521545\n",
      "forward time\n",
      "84.07703709602356\n",
      "loss time\n",
      "84.07964420318604\n",
      "backpropagation time\n",
      "84.16688513755798\n"
     ]
    },
    {
     "name": "stderr",
     "output_type": "stream",
     "text": [
      "\r",
      " 22%|██▏       | 64/285 [01:25<05:07,  1.39s/it]"
     ]
    },
    {
     "name": "stdout",
     "output_type": "stream",
     "text": [
      "dataloading time\n",
      "85.55194115638733\n",
      "forward time\n",
      "85.57558083534241\n",
      "loss time\n",
      "85.5786349773407\n",
      "backpropagation time\n",
      "85.66625308990479\n"
     ]
    },
    {
     "name": "stderr",
     "output_type": "stream",
     "text": [
      "\r",
      " 23%|██▎       | 65/285 [01:27<05:08,  1.40s/it]"
     ]
    },
    {
     "name": "stdout",
     "output_type": "stream",
     "text": [
      "dataloading time\n",
      "86.98139691352844\n",
      "forward time\n",
      "87.00571417808533\n",
      "loss time\n",
      "87.00827217102051\n",
      "backpropagation time\n",
      "87.09031200408936\n"
     ]
    },
    {
     "name": "stderr",
     "output_type": "stream",
     "text": [
      "\r",
      " 23%|██▎       | 66/285 [01:28<04:55,  1.35s/it]"
     ]
    },
    {
     "name": "stdout",
     "output_type": "stream",
     "text": [
      "dataloading time\n",
      "88.21658396720886\n",
      "forward time\n",
      "88.23839092254639\n",
      "loss time\n",
      "88.2419900894165\n",
      "backpropagation time\n",
      "88.3229730129242\n"
     ]
    },
    {
     "name": "stderr",
     "output_type": "stream",
     "text": [
      "\r",
      " 24%|██▎       | 67/285 [01:29<04:55,  1.36s/it]"
     ]
    },
    {
     "name": "stdout",
     "output_type": "stream",
     "text": [
      "dataloading time\n",
      "89.57967686653137\n",
      "forward time\n",
      "89.6045491695404\n",
      "loss time\n",
      "89.6072461605072\n",
      "backpropagation time\n",
      "89.69061803817749\n"
     ]
    },
    {
     "name": "stderr",
     "output_type": "stream",
     "text": [
      "\r",
      " 24%|██▍       | 68/285 [01:31<04:52,  1.35s/it]"
     ]
    },
    {
     "name": "stdout",
     "output_type": "stream",
     "text": [
      "dataloading time\n",
      "90.91763615608215\n",
      "forward time\n",
      "90.94185495376587\n",
      "loss time\n",
      "90.9445731639862\n",
      "backpropagation time\n",
      "91.02756810188293\n"
     ]
    },
    {
     "name": "stderr",
     "output_type": "stream",
     "text": [
      "\r",
      " 24%|██▍       | 69/285 [01:32<04:44,  1.32s/it]"
     ]
    },
    {
     "name": "stdout",
     "output_type": "stream",
     "text": [
      "dataloading time\n",
      "92.15849208831787\n",
      "forward time\n",
      "92.18121218681335\n",
      "loss time\n",
      "92.18383502960205\n",
      "backpropagation time\n",
      "92.26322984695435\n"
     ]
    },
    {
     "name": "stderr",
     "output_type": "stream",
     "text": [
      "\r",
      " 25%|██▍       | 70/285 [01:33<04:47,  1.34s/it]"
     ]
    },
    {
     "name": "stdout",
     "output_type": "stream",
     "text": [
      "dataloading time\n",
      "93.54351997375488\n",
      "forward time\n",
      "93.5671911239624\n",
      "loss time\n",
      "93.5698390007019\n",
      "backpropagation time\n",
      "93.6474039554596\n"
     ]
    },
    {
     "name": "stderr",
     "output_type": "stream",
     "text": [
      "\r",
      " 25%|██▍       | 71/285 [01:34<04:41,  1.32s/it]"
     ]
    },
    {
     "name": "stdout",
     "output_type": "stream",
     "text": [
      "dataloading time\n",
      "94.81126403808594\n",
      "forward time\n",
      "94.83753705024719\n",
      "loss time\n",
      "94.8432948589325\n",
      "backpropagation time\n",
      "94.91821694374084\n"
     ]
    },
    {
     "name": "stderr",
     "output_type": "stream",
     "text": [
      "\r",
      " 25%|██▌       | 72/285 [01:36<04:44,  1.34s/it]"
     ]
    },
    {
     "name": "stdout",
     "output_type": "stream",
     "text": [
      "dataloading time\n",
      "96.16652011871338\n",
      "forward time\n",
      "96.18994498252869\n",
      "loss time\n",
      "96.19225120544434\n",
      "backpropagation time\n",
      "96.30495309829712\n"
     ]
    },
    {
     "name": "stderr",
     "output_type": "stream",
     "text": [
      "\r",
      " 26%|██▌       | 73/285 [01:37<04:48,  1.36s/it]"
     ]
    },
    {
     "name": "stdout",
     "output_type": "stream",
     "text": [
      "dataloading time\n",
      "97.60140895843506\n",
      "forward time\n",
      "97.62673497200012\n",
      "loss time\n",
      "97.6290910243988\n",
      "backpropagation time\n",
      "97.7134141921997\n"
     ]
    },
    {
     "name": "stderr",
     "output_type": "stream",
     "text": [
      "\r",
      " 26%|██▌       | 74/285 [01:38<04:42,  1.34s/it]"
     ]
    },
    {
     "name": "stdout",
     "output_type": "stream",
     "text": [
      "dataloading time\n",
      "98.8746931552887\n",
      "forward time\n",
      "98.90154385566711\n",
      "loss time\n",
      "98.90402722358704\n",
      "backpropagation time\n",
      "98.99858498573303\n"
     ]
    },
    {
     "name": "stderr",
     "output_type": "stream",
     "text": [
      "\r",
      " 26%|██▋       | 75/285 [01:40<04:41,  1.34s/it]"
     ]
    },
    {
     "name": "stdout",
     "output_type": "stream",
     "text": [
      "dataloading time\n",
      "100.24399209022522\n",
      "forward time\n",
      "100.26534295082092\n",
      "loss time\n",
      "100.26773285865784\n",
      "backpropagation time\n",
      "100.35089826583862\n"
     ]
    },
    {
     "name": "stderr",
     "output_type": "stream",
     "text": [
      "\r",
      " 27%|██▋       | 76/285 [01:41<04:44,  1.36s/it]"
     ]
    },
    {
     "name": "stdout",
     "output_type": "stream",
     "text": [
      "dataloading time\n",
      "101.65371894836426\n",
      "forward time\n",
      "101.677659034729\n",
      "loss time\n",
      "101.68031406402588\n",
      "backpropagation time\n",
      "101.75789308547974\n"
     ]
    },
    {
     "name": "stderr",
     "output_type": "stream",
     "text": [
      "\r",
      " 27%|██▋       | 77/285 [01:43<04:46,  1.38s/it]"
     ]
    },
    {
     "name": "stdout",
     "output_type": "stream",
     "text": [
      "dataloading time\n",
      "103.05454802513123\n",
      "forward time\n",
      "103.07645416259766\n",
      "loss time\n",
      "103.07905602455139\n",
      "backpropagation time\n",
      "103.171541929245\n"
     ]
    },
    {
     "name": "stderr",
     "output_type": "stream",
     "text": [
      "\r",
      " 27%|██▋       | 78/285 [01:44<04:59,  1.45s/it]"
     ]
    },
    {
     "name": "stdout",
     "output_type": "stream",
     "text": [
      "dataloading time\n",
      "104.67306017875671\n",
      "forward time\n",
      "104.69599413871765\n",
      "loss time\n",
      "104.69900798797607\n",
      "backpropagation time\n",
      "104.78853917121887\n"
     ]
    },
    {
     "name": "stderr",
     "output_type": "stream",
     "text": [
      "\r",
      " 28%|██▊       | 79/285 [01:46<04:52,  1.42s/it]"
     ]
    },
    {
     "name": "stdout",
     "output_type": "stream",
     "text": [
      "dataloading time\n",
      "106.0467598438263\n",
      "forward time\n",
      "106.06977701187134\n",
      "loss time\n",
      "106.07248616218567\n",
      "backpropagation time\n",
      "106.14779496192932\n"
     ]
    },
    {
     "name": "stderr",
     "output_type": "stream",
     "text": [
      "\r",
      " 28%|██▊       | 80/285 [01:47<04:36,  1.35s/it]"
     ]
    },
    {
     "name": "stdout",
     "output_type": "stream",
     "text": [
      "dataloading time\n",
      "107.22753882408142\n",
      "forward time\n",
      "107.24949097633362\n",
      "loss time\n",
      "107.25176692008972\n",
      "backpropagation time\n",
      "107.33238387107849\n"
     ]
    },
    {
     "name": "stderr",
     "output_type": "stream",
     "text": [
      "\r",
      " 28%|██▊       | 81/285 [01:48<04:36,  1.36s/it]"
     ]
    },
    {
     "name": "stdout",
     "output_type": "stream",
     "text": [
      "dataloading time\n",
      "108.59482383728027\n",
      "forward time\n",
      "108.61730003356934\n",
      "loss time\n",
      "108.61970615386963\n",
      "backpropagation time\n",
      "108.7013680934906\n"
     ]
    },
    {
     "name": "stderr",
     "output_type": "stream",
     "text": [
      "\r",
      " 29%|██▉       | 82/285 [01:50<04:44,  1.40s/it]"
     ]
    },
    {
     "name": "stdout",
     "output_type": "stream",
     "text": [
      "dataloading time\n",
      "110.08711290359497\n",
      "forward time\n",
      "110.11026620864868\n",
      "loss time\n",
      "110.11283707618713\n",
      "backpropagation time\n",
      "110.20354413986206\n"
     ]
    },
    {
     "name": "stderr",
     "output_type": "stream",
     "text": [
      "\r",
      " 29%|██▉       | 83/285 [01:51<04:51,  1.44s/it]"
     ]
    },
    {
     "name": "stdout",
     "output_type": "stream",
     "text": [
      "dataloading time\n",
      "111.62470698356628\n",
      "forward time\n",
      "111.64827799797058\n",
      "loss time\n",
      "111.65134406089783\n",
      "backpropagation time\n",
      "111.74977207183838\n"
     ]
    },
    {
     "name": "stderr",
     "output_type": "stream",
     "text": [
      "\r",
      " 29%|██▉       | 84/285 [01:53<04:57,  1.48s/it]"
     ]
    },
    {
     "name": "stdout",
     "output_type": "stream",
     "text": [
      "dataloading time\n",
      "113.19039988517761\n",
      "forward time\n",
      "113.21495509147644\n",
      "loss time\n",
      "113.21774101257324\n",
      "backpropagation time\n",
      "113.31258797645569\n"
     ]
    },
    {
     "name": "stderr",
     "output_type": "stream",
     "text": [
      "\r",
      " 30%|██▉       | 85/285 [01:54<04:55,  1.48s/it]"
     ]
    },
    {
     "name": "stdout",
     "output_type": "stream",
     "text": [
      "dataloading time\n",
      "114.68329119682312\n",
      "forward time\n",
      "114.70517921447754\n",
      "loss time\n",
      "114.70773696899414\n",
      "backpropagation time\n",
      "114.78970789909363\n"
     ]
    },
    {
     "name": "stderr",
     "output_type": "stream",
     "text": [
      "\r",
      " 30%|███       | 86/285 [01:56<04:53,  1.48s/it]"
     ]
    },
    {
     "name": "stdout",
     "output_type": "stream",
     "text": [
      "dataloading time\n",
      "116.12287712097168\n",
      "forward time\n",
      "116.14529395103455\n",
      "loss time\n",
      "116.14820599555969\n",
      "backpropagation time\n",
      "116.25625586509705\n"
     ]
    },
    {
     "name": "stderr",
     "output_type": "stream",
     "text": [
      "\r",
      " 31%|███       | 87/285 [01:57<04:57,  1.50s/it]"
     ]
    },
    {
     "name": "stdout",
     "output_type": "stream",
     "text": [
      "dataloading time\n",
      "117.70610499382019\n",
      "forward time\n",
      "117.73134207725525\n",
      "loss time\n",
      "117.73395299911499\n",
      "backpropagation time\n",
      "117.82381415367126\n"
     ]
    },
    {
     "name": "stderr",
     "output_type": "stream",
     "text": [
      "\r",
      " 31%|███       | 88/285 [01:59<04:58,  1.52s/it]"
     ]
    },
    {
     "name": "stdout",
     "output_type": "stream",
     "text": [
      "dataloading time\n",
      "119.26553916931152\n",
      "forward time\n",
      "119.28971099853516\n",
      "loss time\n",
      "119.29247307777405\n",
      "backpropagation time\n",
      "119.37540411949158\n"
     ]
    },
    {
     "name": "stderr",
     "output_type": "stream",
     "text": [
      "\r",
      " 31%|███       | 89/285 [02:00<04:47,  1.47s/it]"
     ]
    },
    {
     "name": "stdout",
     "output_type": "stream",
     "text": [
      "dataloading time\n",
      "120.61804103851318\n",
      "forward time\n",
      "120.64019513130188\n",
      "loss time\n",
      "120.6431999206543\n",
      "backpropagation time\n",
      "120.73104882240295\n"
     ]
    },
    {
     "name": "stderr",
     "output_type": "stream",
     "text": [
      "\r",
      " 32%|███▏      | 90/285 [02:02<04:43,  1.45s/it]"
     ]
    },
    {
     "name": "stdout",
     "output_type": "stream",
     "text": [
      "dataloading time\n",
      "122.04409909248352\n",
      "forward time\n",
      "122.06595706939697\n",
      "loss time\n",
      "122.06826496124268\n",
      "backpropagation time\n",
      "122.15268397331238\n"
     ]
    },
    {
     "name": "stderr",
     "output_type": "stream",
     "text": [
      "\r",
      " 32%|███▏      | 91/285 [02:03<04:44,  1.47s/it]"
     ]
    },
    {
     "name": "stdout",
     "output_type": "stream",
     "text": [
      "dataloading time\n",
      "123.55341410636902\n",
      "forward time\n",
      "123.57543182373047\n",
      "loss time\n",
      "123.5779881477356\n",
      "backpropagation time\n",
      "123.65416216850281\n"
     ]
    },
    {
     "name": "stderr",
     "output_type": "stream",
     "text": [
      "\r",
      " 32%|███▏      | 92/285 [02:05<04:47,  1.49s/it]"
     ]
    },
    {
     "name": "stdout",
     "output_type": "stream",
     "text": [
      "dataloading time\n",
      "125.08480715751648\n",
      "forward time\n",
      "125.10774898529053\n",
      "loss time\n",
      "125.11055517196655\n",
      "backpropagation time\n",
      "125.19608283042908\n"
     ]
    },
    {
     "name": "stderr",
     "output_type": "stream",
     "text": [
      "\r",
      " 33%|███▎      | 93/285 [02:06<04:50,  1.51s/it]"
     ]
    },
    {
     "name": "stdout",
     "output_type": "stream",
     "text": [
      "dataloading time\n",
      "126.6422791481018\n",
      "forward time\n",
      "126.66574907302856\n",
      "loss time\n",
      "126.66861319541931\n",
      "backpropagation time\n",
      "126.7549340724945\n"
     ]
    },
    {
     "name": "stderr",
     "output_type": "stream",
     "text": [
      "\r",
      " 33%|███▎      | 94/285 [02:08<04:45,  1.50s/it]"
     ]
    },
    {
     "name": "stdout",
     "output_type": "stream",
     "text": [
      "dataloading time\n",
      "128.11148524284363\n",
      "forward time\n",
      "128.1339991092682\n",
      "loss time\n",
      "128.1368010044098\n",
      "backpropagation time\n",
      "128.21252393722534\n"
     ]
    },
    {
     "name": "stderr",
     "output_type": "stream",
     "text": [
      "\r",
      " 33%|███▎      | 95/285 [02:09<04:44,  1.50s/it]"
     ]
    },
    {
     "name": "stdout",
     "output_type": "stream",
     "text": [
      "dataloading time\n",
      "129.61028289794922\n",
      "forward time\n",
      "129.63258004188538\n",
      "loss time\n",
      "129.6350121498108\n",
      "backpropagation time\n",
      "129.71825003623962\n"
     ]
    },
    {
     "name": "stderr",
     "output_type": "stream",
     "text": [
      "\r",
      " 34%|███▎      | 96/285 [02:11<04:34,  1.45s/it]"
     ]
    },
    {
     "name": "stdout",
     "output_type": "stream",
     "text": [
      "dataloading time\n",
      "130.95137405395508\n",
      "forward time\n",
      "130.97418308258057\n",
      "loss time\n",
      "130.97678518295288\n",
      "backpropagation time\n",
      "131.0584900379181\n"
     ]
    },
    {
     "name": "stderr",
     "output_type": "stream",
     "text": [
      "\r",
      " 34%|███▍      | 97/285 [02:12<04:26,  1.42s/it]"
     ]
    },
    {
     "name": "stdout",
     "output_type": "stream",
     "text": [
      "dataloading time\n",
      "132.2881178855896\n",
      "forward time\n",
      "132.3124861717224\n",
      "loss time\n",
      "132.31506204605103\n",
      "backpropagation time\n",
      "132.39848494529724\n"
     ]
    },
    {
     "name": "stderr",
     "output_type": "stream",
     "text": [
      "\r",
      " 34%|███▍      | 98/285 [02:13<04:21,  1.40s/it]"
     ]
    },
    {
     "name": "stdout",
     "output_type": "stream",
     "text": [
      "dataloading time\n",
      "133.65953826904297\n",
      "forward time\n",
      "133.68077421188354\n",
      "loss time\n",
      "133.6835639476776\n",
      "backpropagation time\n",
      "133.7570071220398\n"
     ]
    },
    {
     "name": "stderr",
     "output_type": "stream",
     "text": [
      "\r",
      " 35%|███▍      | 99/285 [02:14<04:11,  1.35s/it]"
     ]
    },
    {
     "name": "stdout",
     "output_type": "stream",
     "text": [
      "dataloading time\n",
      "134.8724730014801\n",
      "forward time\n",
      "134.89607286453247\n",
      "loss time\n",
      "134.89870309829712\n",
      "backpropagation time\n",
      "134.99000215530396\n"
     ]
    },
    {
     "name": "stderr",
     "output_type": "stream",
     "text": [
      "\r",
      " 35%|███▌      | 100/285 [02:16<04:10,  1.35s/it]"
     ]
    },
    {
     "name": "stdout",
     "output_type": "stream",
     "text": [
      "dataloading time\n",
      "136.23219299316406\n",
      "forward time\n",
      "136.25521516799927\n",
      "loss time\n",
      "136.25749492645264\n",
      "backpropagation time\n",
      "136.34718012809753\n"
     ]
    },
    {
     "name": "stderr",
     "output_type": "stream",
     "text": [
      "\r",
      " 35%|███▌      | 101/285 [02:17<04:18,  1.40s/it]"
     ]
    },
    {
     "name": "stdout",
     "output_type": "stream",
     "text": [
      "dataloading time\n",
      "137.75981903076172\n",
      "forward time\n",
      "137.7834348678589\n",
      "loss time\n",
      "137.78575110435486\n",
      "backpropagation time\n",
      "137.87063002586365\n"
     ]
    },
    {
     "name": "stderr",
     "output_type": "stream",
     "text": [
      "\r",
      " 36%|███▌      | 102/285 [02:19<04:19,  1.42s/it]"
     ]
    },
    {
     "name": "stdout",
     "output_type": "stream",
     "text": [
      "dataloading time\n",
      "139.1686818599701\n",
      "forward time\n",
      "139.21525025367737\n",
      "loss time\n",
      "139.2191150188446\n",
      "backpropagation time\n",
      "139.32362914085388\n"
     ]
    },
    {
     "name": "stderr",
     "output_type": "stream",
     "text": [
      "\r",
      " 36%|███▌      | 103/285 [02:20<04:21,  1.44s/it]"
     ]
    },
    {
     "name": "stdout",
     "output_type": "stream",
     "text": [
      "dataloading time\n",
      "140.69448280334473\n",
      "forward time\n",
      "140.7204191684723\n",
      "loss time\n",
      "140.7228021621704\n",
      "backpropagation time\n",
      "140.8071391582489\n"
     ]
    },
    {
     "name": "stderr",
     "output_type": "stream",
     "text": [
      "\r",
      " 36%|███▋      | 104/285 [02:22<04:25,  1.46s/it]"
     ]
    },
    {
     "name": "stdout",
     "output_type": "stream",
     "text": [
      "dataloading time\n",
      "142.2307209968567\n",
      "forward time\n",
      "142.25246787071228\n",
      "loss time\n",
      "142.25497603416443\n",
      "backpropagation time\n",
      "142.33519887924194\n"
     ]
    },
    {
     "name": "stderr",
     "output_type": "stream",
     "text": [
      "\r",
      " 37%|███▋      | 105/285 [02:23<04:22,  1.46s/it]"
     ]
    },
    {
     "name": "stdout",
     "output_type": "stream",
     "text": [
      "dataloading time\n",
      "143.66045689582825\n",
      "forward time\n",
      "143.68312811851501\n",
      "loss time\n",
      "143.6856870651245\n",
      "backpropagation time\n",
      "143.7743320465088\n"
     ]
    },
    {
     "name": "stderr",
     "output_type": "stream",
     "text": [
      "\r",
      " 37%|███▋      | 106/285 [02:25<04:20,  1.46s/it]"
     ]
    },
    {
     "name": "stdout",
     "output_type": "stream",
     "text": [
      "dataloading time\n",
      "145.13655495643616\n",
      "forward time\n",
      "145.1583170890808\n",
      "loss time\n",
      "145.16065096855164\n",
      "backpropagation time\n",
      "145.23327207565308\n"
     ]
    },
    {
     "name": "stderr",
     "output_type": "stream",
     "text": [
      "\r",
      " 38%|███▊      | 107/285 [02:26<04:18,  1.45s/it]"
     ]
    },
    {
     "name": "stdout",
     "output_type": "stream",
     "text": [
      "dataloading time\n",
      "146.5775420665741\n",
      "forward time\n",
      "146.59979104995728\n",
      "loss time\n",
      "146.60218119621277\n",
      "backpropagation time\n",
      "146.67594599723816\n"
     ]
    },
    {
     "name": "stderr",
     "output_type": "stream",
     "text": [
      "\r",
      " 38%|███▊      | 108/285 [02:28<04:19,  1.47s/it]"
     ]
    },
    {
     "name": "stdout",
     "output_type": "stream",
     "text": [
      "dataloading time\n",
      "148.0634250640869\n",
      "forward time\n",
      "148.08536386489868\n",
      "loss time\n",
      "148.08776712417603\n",
      "backpropagation time\n",
      "148.17021799087524\n"
     ]
    },
    {
     "name": "stderr",
     "output_type": "stream",
     "text": [
      "\r",
      " 38%|███▊      | 109/285 [02:29<04:21,  1.49s/it]"
     ]
    },
    {
     "name": "stdout",
     "output_type": "stream",
     "text": [
      "dataloading time\n",
      "149.60136604309082\n",
      "forward time\n",
      "149.62371706962585\n",
      "loss time\n",
      "149.62641406059265\n",
      "backpropagation time\n",
      "149.712060213089\n"
     ]
    },
    {
     "name": "stderr",
     "output_type": "stream",
     "text": [
      "\r",
      " 39%|███▊      | 110/285 [02:31<04:18,  1.48s/it]"
     ]
    },
    {
     "name": "stdout",
     "output_type": "stream",
     "text": [
      "dataloading time\n",
      "151.05760407447815\n",
      "forward time\n",
      "151.07940816879272\n",
      "loss time\n",
      "151.08215403556824\n",
      "backpropagation time\n",
      "151.1662290096283\n"
     ]
    },
    {
     "name": "stderr",
     "output_type": "stream",
     "text": [
      "\r",
      " 39%|███▉      | 111/285 [02:32<04:18,  1.49s/it]"
     ]
    },
    {
     "name": "stdout",
     "output_type": "stream",
     "text": [
      "dataloading time\n",
      "152.57761096954346\n",
      "forward time\n",
      "152.59980416297913\n",
      "loss time\n",
      "152.60206699371338\n",
      "backpropagation time\n",
      "152.67210221290588\n"
     ]
    },
    {
     "name": "stderr",
     "output_type": "stream",
     "text": [
      "\r",
      " 39%|███▉      | 112/285 [02:33<04:07,  1.43s/it]"
     ]
    },
    {
     "name": "stdout",
     "output_type": "stream",
     "text": [
      "dataloading time\n",
      "153.87435603141785\n",
      "forward time\n",
      "153.89564299583435\n",
      "loss time\n",
      "153.8983039855957\n",
      "backpropagation time\n",
      "153.9698531627655\n"
     ]
    },
    {
     "name": "stderr",
     "output_type": "stream",
     "text": [
      "\r",
      " 40%|███▉      | 113/285 [02:35<03:58,  1.39s/it]"
     ]
    },
    {
     "name": "stdout",
     "output_type": "stream",
     "text": [
      "dataloading time\n",
      "155.1371660232544\n",
      "forward time\n",
      "155.1592879295349\n",
      "loss time\n",
      "155.1615490913391\n",
      "backpropagation time\n",
      "155.26474595069885\n"
     ]
    },
    {
     "name": "stderr",
     "output_type": "stream",
     "text": [
      "\r",
      " 40%|████      | 114/285 [02:36<03:46,  1.32s/it]"
     ]
    },
    {
     "name": "stdout",
     "output_type": "stream",
     "text": [
      "dataloading time\n",
      "156.34158611297607\n",
      "forward time\n",
      "156.36327195167542\n",
      "loss time\n",
      "156.3658459186554\n",
      "backpropagation time\n",
      "156.43893909454346\n"
     ]
    },
    {
     "name": "stderr",
     "output_type": "stream",
     "text": [
      "\r",
      " 40%|████      | 115/285 [02:37<03:39,  1.29s/it]"
     ]
    },
    {
     "name": "stdout",
     "output_type": "stream",
     "text": [
      "dataloading time\n",
      "157.55575108528137\n",
      "forward time\n",
      "157.57690691947937\n",
      "loss time\n",
      "157.5792989730835\n",
      "backpropagation time\n",
      "157.6522421836853\n"
     ]
    },
    {
     "name": "stderr",
     "output_type": "stream",
     "text": [
      "\r",
      " 41%|████      | 116/285 [02:38<03:39,  1.30s/it]"
     ]
    },
    {
     "name": "stdout",
     "output_type": "stream",
     "text": [
      "dataloading time\n",
      "158.8595461845398\n",
      "forward time\n",
      "158.88134908676147\n",
      "loss time\n",
      "158.88355088233948\n",
      "backpropagation time\n",
      "158.96176886558533\n"
     ]
    },
    {
     "name": "stderr",
     "output_type": "stream",
     "text": [
      "\r",
      " 41%|████      | 117/285 [02:40<03:45,  1.34s/it]"
     ]
    },
    {
     "name": "stdout",
     "output_type": "stream",
     "text": [
      "dataloading time\n",
      "160.30262303352356\n",
      "forward time\n",
      "160.3250548839569\n",
      "loss time\n",
      "160.3274118900299\n",
      "backpropagation time\n",
      "160.40830302238464\n"
     ]
    },
    {
     "name": "stderr",
     "output_type": "stream",
     "text": [
      "\r",
      " 41%|████▏     | 118/285 [02:41<03:37,  1.30s/it]"
     ]
    },
    {
     "name": "stdout",
     "output_type": "stream",
     "text": [
      "dataloading time\n",
      "161.5148470401764\n",
      "forward time\n",
      "161.53614401817322\n",
      "loss time\n",
      "161.53871607780457\n",
      "backpropagation time\n",
      "161.60960602760315\n"
     ]
    },
    {
     "name": "stderr",
     "output_type": "stream",
     "text": [
      "\r",
      " 42%|████▏     | 119/285 [02:43<03:48,  1.38s/it]"
     ]
    },
    {
     "name": "stdout",
     "output_type": "stream",
     "text": [
      "dataloading time\n",
      "163.0628321170807\n",
      "forward time\n",
      "163.08518815040588\n",
      "loss time\n",
      "163.0875780582428\n",
      "backpropagation time\n",
      "163.17283391952515\n"
     ]
    },
    {
     "name": "stderr",
     "output_type": "stream",
     "text": [
      "\r",
      " 42%|████▏     | 120/285 [02:44<03:50,  1.40s/it]"
     ]
    },
    {
     "name": "stdout",
     "output_type": "stream",
     "text": [
      "dataloading time\n",
      "164.49429082870483\n",
      "forward time\n",
      "164.51891922950745\n",
      "loss time\n",
      "164.52126908302307\n",
      "backpropagation time\n",
      "164.61042094230652\n"
     ]
    },
    {
     "name": "stderr",
     "output_type": "stream",
     "text": [
      "\r",
      " 42%|████▏     | 121/285 [02:45<03:44,  1.37s/it]"
     ]
    },
    {
     "name": "stdout",
     "output_type": "stream",
     "text": [
      "dataloading time\n",
      "165.81031703948975\n",
      "forward time\n",
      "165.8317391872406\n",
      "loss time\n",
      "165.8343448638916\n",
      "backpropagation time\n",
      "165.90792393684387\n"
     ]
    },
    {
     "name": "stderr",
     "output_type": "stream",
     "text": [
      "\r",
      " 43%|████▎     | 122/285 [02:47<03:40,  1.35s/it]"
     ]
    },
    {
     "name": "stdout",
     "output_type": "stream",
     "text": [
      "dataloading time\n",
      "167.1039080619812\n",
      "forward time\n",
      "167.12683010101318\n",
      "loss time\n",
      "167.12930607795715\n",
      "backpropagation time\n",
      "167.226881980896\n"
     ]
    },
    {
     "name": "stderr",
     "output_type": "stream",
     "text": [
      "\r",
      " 43%|████▎     | 123/285 [02:48<03:40,  1.36s/it]"
     ]
    },
    {
     "name": "stdout",
     "output_type": "stream",
     "text": [
      "dataloading time\n",
      "168.50517296791077\n",
      "forward time\n",
      "168.5271360874176\n",
      "loss time\n",
      "168.5296392440796\n",
      "backpropagation time\n",
      "168.6107940673828\n"
     ]
    },
    {
     "name": "stderr",
     "output_type": "stream",
     "text": [
      "\r",
      " 44%|████▎     | 124/285 [02:50<03:48,  1.42s/it]"
     ]
    },
    {
     "name": "stdout",
     "output_type": "stream",
     "text": [
      "dataloading time\n",
      "170.05108404159546\n",
      "forward time\n",
      "170.072368144989\n",
      "loss time\n",
      "170.07470798492432\n",
      "backpropagation time\n",
      "170.15523982048035\n"
     ]
    },
    {
     "name": "stderr",
     "output_type": "stream",
     "text": [
      "\r",
      " 44%|████▍     | 125/285 [02:51<03:56,  1.48s/it]"
     ]
    },
    {
     "name": "stdout",
     "output_type": "stream",
     "text": [
      "dataloading time\n",
      "171.6692819595337\n",
      "forward time\n",
      "171.7027781009674\n",
      "loss time\n",
      "171.70500206947327\n",
      "backpropagation time\n",
      "171.78720903396606\n"
     ]
    },
    {
     "name": "stderr",
     "output_type": "stream",
     "text": [
      "\r",
      " 44%|████▍     | 126/285 [02:53<03:45,  1.42s/it]"
     ]
    },
    {
     "name": "stdout",
     "output_type": "stream",
     "text": [
      "dataloading time\n",
      "172.9478840827942\n",
      "forward time\n",
      "172.97445702552795\n",
      "loss time\n",
      "172.98028898239136\n",
      "backpropagation time\n",
      "173.05950784683228\n"
     ]
    },
    {
     "name": "stderr",
     "output_type": "stream",
     "text": [
      "\r",
      " 45%|████▍     | 127/285 [02:54<03:43,  1.42s/it]"
     ]
    },
    {
     "name": "stdout",
     "output_type": "stream",
     "text": [
      "dataloading time\n",
      "174.36744809150696\n",
      "forward time\n",
      "174.39092803001404\n",
      "loss time\n",
      "174.39355421066284\n",
      "backpropagation time\n",
      "174.47410106658936\n"
     ]
    },
    {
     "name": "stderr",
     "output_type": "stream",
     "text": [
      "\r",
      " 45%|████▍     | 128/285 [02:55<03:44,  1.43s/it]"
     ]
    },
    {
     "name": "stdout",
     "output_type": "stream",
     "text": [
      "dataloading time\n",
      "175.8045711517334\n",
      "forward time\n",
      "175.8289520740509\n",
      "loss time\n",
      "175.83186411857605\n",
      "backpropagation time\n",
      "175.92679715156555\n"
     ]
    },
    {
     "name": "stderr",
     "output_type": "stream",
     "text": [
      "\r",
      " 45%|████▌     | 129/285 [02:57<03:44,  1.44s/it]"
     ]
    },
    {
     "name": "stdout",
     "output_type": "stream",
     "text": [
      "dataloading time\n",
      "177.28282594680786\n",
      "forward time\n",
      "177.3049440383911\n",
      "loss time\n",
      "177.3081419467926\n",
      "backpropagation time\n",
      "177.38679814338684\n"
     ]
    },
    {
     "name": "stderr",
     "output_type": "stream",
     "text": [
      "\r",
      " 46%|████▌     | 130/285 [02:58<03:42,  1.44s/it]"
     ]
    },
    {
     "name": "stdout",
     "output_type": "stream",
     "text": [
      "dataloading time\n",
      "178.71596097946167\n",
      "forward time\n",
      "178.73766899108887\n",
      "loss time\n",
      "178.74040508270264\n",
      "backpropagation time\n",
      "178.82175302505493\n"
     ]
    },
    {
     "name": "stderr",
     "output_type": "stream",
     "text": [
      "\r",
      " 46%|████▌     | 131/285 [03:00<03:39,  1.42s/it]"
     ]
    },
    {
     "name": "stdout",
     "output_type": "stream",
     "text": [
      "dataloading time\n",
      "180.1095118522644\n",
      "forward time\n",
      "180.13258695602417\n",
      "loss time\n",
      "180.13563895225525\n",
      "backpropagation time\n",
      "180.21820211410522\n"
     ]
    },
    {
     "name": "stderr",
     "output_type": "stream",
     "text": [
      "\r",
      " 46%|████▋     | 132/285 [03:01<03:33,  1.40s/it]"
     ]
    },
    {
     "name": "stdout",
     "output_type": "stream",
     "text": [
      "dataloading time\n",
      "181.45163011550903\n",
      "forward time\n",
      "181.47391295433044\n",
      "loss time\n",
      "181.47633504867554\n",
      "backpropagation time\n",
      "181.55098009109497\n"
     ]
    },
    {
     "name": "stderr",
     "output_type": "stream",
     "text": [
      "\r",
      " 47%|████▋     | 133/285 [03:02<03:31,  1.39s/it]"
     ]
    },
    {
     "name": "stdout",
     "output_type": "stream",
     "text": [
      "dataloading time\n",
      "182.82611513137817\n",
      "forward time\n",
      "182.85156202316284\n",
      "loss time\n",
      "182.8542079925537\n",
      "backpropagation time\n",
      "182.92575192451477\n"
     ]
    },
    {
     "name": "stderr",
     "output_type": "stream",
     "text": [
      "\r",
      " 47%|████▋     | 134/285 [03:04<03:36,  1.43s/it]"
     ]
    },
    {
     "name": "stdout",
     "output_type": "stream",
     "text": [
      "dataloading time\n",
      "184.3412389755249\n",
      "forward time\n",
      "184.3641059398651\n",
      "loss time\n",
      "184.3666160106659\n",
      "backpropagation time\n",
      "184.45257711410522\n"
     ]
    },
    {
     "name": "stderr",
     "output_type": "stream",
     "text": [
      "\r",
      " 47%|████▋     | 135/285 [03:05<03:36,  1.44s/it]"
     ]
    },
    {
     "name": "stdout",
     "output_type": "stream",
     "text": [
      "dataloading time\n",
      "185.8230881690979\n",
      "forward time\n",
      "185.84503388404846\n",
      "loss time\n",
      "185.8480350971222\n",
      "backpropagation time\n",
      "185.92827892303467\n"
     ]
    },
    {
     "name": "stderr",
     "output_type": "stream",
     "text": [
      "\r",
      " 48%|████▊     | 136/285 [03:07<03:35,  1.45s/it]"
     ]
    },
    {
     "name": "stdout",
     "output_type": "stream",
     "text": [
      "dataloading time\n",
      "187.26937913894653\n",
      "forward time\n",
      "187.29109907150269\n",
      "loss time\n",
      "187.29333305358887\n",
      "backpropagation time\n",
      "187.37732815742493\n"
     ]
    },
    {
     "name": "stderr",
     "output_type": "stream",
     "text": [
      "\r",
      " 48%|████▊     | 137/285 [03:08<03:36,  1.46s/it]"
     ]
    },
    {
     "name": "stdout",
     "output_type": "stream",
     "text": [
      "dataloading time\n",
      "188.77183318138123\n",
      "forward time\n",
      "188.79696893692017\n",
      "loss time\n",
      "188.79959917068481\n",
      "backpropagation time\n",
      "188.8781659603119\n"
     ]
    },
    {
     "name": "stderr",
     "output_type": "stream",
     "text": [
      "\r",
      " 48%|████▊     | 138/285 [03:10<03:40,  1.50s/it]"
     ]
    },
    {
     "name": "stdout",
     "output_type": "stream",
     "text": [
      "dataloading time\n",
      "190.35981798171997\n",
      "forward time\n",
      "190.38253116607666\n",
      "loss time\n",
      "190.3852870464325\n",
      "backpropagation time\n",
      "190.4709391593933\n"
     ]
    },
    {
     "name": "stderr",
     "output_type": "stream",
     "text": [
      "\r",
      " 49%|████▉     | 139/285 [03:11<03:39,  1.51s/it]"
     ]
    },
    {
     "name": "stdout",
     "output_type": "stream",
     "text": [
      "dataloading time\n",
      "191.87497210502625\n",
      "forward time\n",
      "191.89847111701965\n",
      "loss time\n",
      "191.9012279510498\n",
      "backpropagation time\n",
      "191.98957419395447\n"
     ]
    },
    {
     "name": "stderr",
     "output_type": "stream",
     "text": [
      "\r",
      " 49%|████▉     | 140/285 [03:13<03:32,  1.46s/it]"
     ]
    },
    {
     "name": "stdout",
     "output_type": "stream",
     "text": [
      "dataloading time\n",
      "193.24583292007446\n",
      "forward time\n",
      "193.267422914505\n",
      "loss time\n",
      "193.26980090141296\n",
      "backpropagation time\n",
      "193.3500850200653\n"
     ]
    },
    {
     "name": "stderr",
     "output_type": "stream",
     "text": [
      "\r",
      " 49%|████▉     | 141/285 [03:14<03:30,  1.46s/it]"
     ]
    },
    {
     "name": "stdout",
     "output_type": "stream",
     "text": [
      "dataloading time\n",
      "194.68360710144043\n",
      "forward time\n",
      "194.7066831588745\n",
      "loss time\n",
      "194.70924997329712\n",
      "backpropagation time\n",
      "194.8045620918274\n"
     ]
    },
    {
     "name": "stderr",
     "output_type": "stream",
     "text": [
      "\r",
      " 50%|████▉     | 142/285 [03:16<03:22,  1.42s/it]"
     ]
    },
    {
     "name": "stdout",
     "output_type": "stream",
     "text": [
      "dataloading time\n",
      "196.01646399497986\n",
      "forward time\n",
      "196.03915810585022\n",
      "loss time\n",
      "196.0418050289154\n",
      "backpropagation time\n",
      "196.11858987808228\n"
     ]
    },
    {
     "name": "stderr",
     "output_type": "stream",
     "text": [
      "\r",
      " 50%|█████     | 143/285 [03:17<03:18,  1.40s/it]"
     ]
    },
    {
     "name": "stdout",
     "output_type": "stream",
     "text": [
      "dataloading time\n",
      "197.37456607818604\n",
      "forward time\n",
      "197.39993000030518\n",
      "loss time\n",
      "197.4028480052948\n",
      "backpropagation time\n",
      "197.4848029613495\n"
     ]
    },
    {
     "name": "stderr",
     "output_type": "stream",
     "text": [
      "\r",
      " 51%|█████     | 144/285 [03:18<03:19,  1.42s/it]"
     ]
    },
    {
     "name": "stdout",
     "output_type": "stream",
     "text": [
      "dataloading time\n",
      "198.8258638381958\n",
      "forward time\n",
      "198.84823489189148\n",
      "loss time\n",
      "198.85078501701355\n",
      "backpropagation time\n",
      "198.93244695663452\n"
     ]
    },
    {
     "name": "stderr",
     "output_type": "stream",
     "text": [
      "\r",
      " 51%|█████     | 145/285 [03:20<03:16,  1.41s/it]"
     ]
    },
    {
     "name": "stdout",
     "output_type": "stream",
     "text": [
      "dataloading time\n",
      "200.21234393119812\n",
      "forward time\n",
      "200.23455095291138\n",
      "loss time\n",
      "200.23723316192627\n",
      "backpropagation time\n",
      "200.31855010986328\n"
     ]
    },
    {
     "name": "stderr",
     "output_type": "stream",
     "text": [
      "\r",
      " 51%|█████     | 146/285 [03:21<03:18,  1.43s/it]"
     ]
    },
    {
     "name": "stdout",
     "output_type": "stream",
     "text": [
      "dataloading time\n",
      "201.69483590126038\n",
      "forward time\n",
      "201.7165229320526\n",
      "loss time\n",
      "201.71890091896057\n",
      "backpropagation time\n",
      "201.80179595947266\n"
     ]
    },
    {
     "name": "stderr",
     "output_type": "stream",
     "text": [
      "\r",
      " 52%|█████▏    | 147/285 [03:23<03:14,  1.41s/it]"
     ]
    },
    {
     "name": "stdout",
     "output_type": "stream",
     "text": [
      "dataloading time\n",
      "203.0532500743866\n",
      "forward time\n",
      "203.07699918746948\n",
      "loss time\n",
      "203.07951521873474\n",
      "backpropagation time\n",
      "203.17153000831604\n"
     ]
    },
    {
     "name": "stderr",
     "output_type": "stream",
     "text": [
      "\r",
      " 52%|█████▏    | 148/285 [03:24<03:05,  1.36s/it]"
     ]
    },
    {
     "name": "stdout",
     "output_type": "stream",
     "text": [
      "dataloading time\n",
      "204.30118918418884\n",
      "forward time\n",
      "204.32389903068542\n",
      "loss time\n",
      "204.32636404037476\n",
      "backpropagation time\n",
      "204.40295505523682\n"
     ]
    },
    {
     "name": "stderr",
     "output_type": "stream",
     "text": [
      "\r",
      " 52%|█████▏    | 149/285 [03:25<03:06,  1.37s/it]"
     ]
    },
    {
     "name": "stdout",
     "output_type": "stream",
     "text": [
      "dataloading time\n",
      "205.69138407707214\n",
      "forward time\n",
      "205.71436595916748\n",
      "loss time\n",
      "205.7195692062378\n",
      "backpropagation time\n",
      "205.81594109535217\n"
     ]
    },
    {
     "name": "stderr",
     "output_type": "stream",
     "text": [
      "\r",
      " 53%|█████▎    | 150/285 [03:27<03:08,  1.40s/it]"
     ]
    },
    {
     "name": "stdout",
     "output_type": "stream",
     "text": [
      "dataloading time\n",
      "207.14904022216797\n",
      "forward time\n",
      "207.1722400188446\n",
      "loss time\n",
      "207.17482590675354\n",
      "backpropagation time\n",
      "207.26070499420166\n"
     ]
    },
    {
     "name": "stderr",
     "output_type": "stream",
     "text": [
      "\r",
      " 53%|█████▎    | 151/285 [03:28<03:18,  1.48s/it]"
     ]
    },
    {
     "name": "stdout",
     "output_type": "stream",
     "text": [
      "dataloading time\n",
      "208.82952284812927\n",
      "forward time\n",
      "208.8515751361847\n",
      "loss time\n",
      "208.8544659614563\n",
      "backpropagation time\n",
      "208.93535804748535\n"
     ]
    },
    {
     "name": "stderr",
     "output_type": "stream",
     "text": [
      "\r",
      " 53%|█████▎    | 152/285 [03:30<03:16,  1.48s/it]"
     ]
    },
    {
     "name": "stdout",
     "output_type": "stream",
     "text": [
      "dataloading time\n",
      "210.30811500549316\n",
      "forward time\n",
      "210.329745054245\n",
      "loss time\n",
      "210.33215308189392\n",
      "backpropagation time\n",
      "210.41770792007446\n"
     ]
    },
    {
     "name": "stderr",
     "output_type": "stream",
     "text": [
      "\r",
      " 54%|█████▎    | 153/285 [03:31<03:15,  1.48s/it]"
     ]
    },
    {
     "name": "stdout",
     "output_type": "stream",
     "text": [
      "dataloading time\n",
      "211.79601001739502\n",
      "forward time\n",
      "211.82021307945251\n",
      "loss time\n",
      "211.82288002967834\n",
      "backpropagation time\n",
      "211.90998101234436\n"
     ]
    },
    {
     "name": "stderr",
     "output_type": "stream",
     "text": [
      "\r",
      " 54%|█████▍    | 154/285 [03:33<03:15,  1.49s/it]"
     ]
    },
    {
     "name": "stdout",
     "output_type": "stream",
     "text": [
      "dataloading time\n",
      "213.31641507148743\n",
      "forward time\n",
      "213.33950519561768\n",
      "loss time\n",
      "213.3420000076294\n",
      "backpropagation time\n",
      "213.42650604248047\n"
     ]
    },
    {
     "name": "stderr",
     "output_type": "stream",
     "text": [
      "\r",
      " 54%|█████▍    | 155/285 [03:34<03:14,  1.49s/it]"
     ]
    },
    {
     "name": "stdout",
     "output_type": "stream",
     "text": [
      "dataloading time\n",
      "214.8163890838623\n",
      "forward time\n",
      "214.8379271030426\n",
      "loss time\n",
      "214.8403880596161\n",
      "backpropagation time\n",
      "214.91904091835022\n"
     ]
    },
    {
     "name": "stderr",
     "output_type": "stream",
     "text": [
      "\r",
      " 55%|█████▍    | 156/285 [03:36<03:02,  1.41s/it]"
     ]
    },
    {
     "name": "stdout",
     "output_type": "stream",
     "text": [
      "dataloading time\n",
      "216.04059219360352\n",
      "forward time\n",
      "216.0625069141388\n",
      "loss time\n",
      "216.06490802764893\n",
      "backpropagation time\n",
      "216.1378779411316\n"
     ]
    },
    {
     "name": "stderr",
     "output_type": "stream",
     "text": [
      "\r",
      " 55%|█████▌    | 157/285 [03:37<02:55,  1.37s/it]"
     ]
    },
    {
     "name": "stdout",
     "output_type": "stream",
     "text": [
      "dataloading time\n",
      "217.32741904258728\n",
      "forward time\n",
      "217.34946990013123\n",
      "loss time\n",
      "217.3518829345703\n",
      "backpropagation time\n",
      "217.4264760017395\n"
     ]
    },
    {
     "name": "stderr",
     "output_type": "stream",
     "text": [
      "\r",
      " 55%|█████▌    | 158/285 [03:38<02:49,  1.33s/it]"
     ]
    },
    {
     "name": "stdout",
     "output_type": "stream",
     "text": [
      "dataloading time\n",
      "218.56231904029846\n",
      "forward time\n",
      "218.58365511894226\n",
      "loss time\n",
      "218.58623504638672\n",
      "backpropagation time\n",
      "218.6594421863556\n"
     ]
    },
    {
     "name": "stderr",
     "output_type": "stream",
     "text": [
      "\r",
      " 56%|█████▌    | 159/285 [03:39<02:46,  1.32s/it]"
     ]
    },
    {
     "name": "stdout",
     "output_type": "stream",
     "text": [
      "dataloading time\n",
      "219.87031602859497\n",
      "forward time\n",
      "219.89205813407898\n",
      "loss time\n",
      "219.89465308189392\n",
      "backpropagation time\n",
      "219.96771097183228\n"
     ]
    },
    {
     "name": "stderr",
     "output_type": "stream",
     "text": [
      "\r",
      " 56%|█████▌    | 160/285 [03:41<02:47,  1.34s/it]"
     ]
    },
    {
     "name": "stdout",
     "output_type": "stream",
     "text": [
      "dataloading time\n",
      "221.2399160861969\n",
      "forward time\n",
      "221.26182293891907\n",
      "loss time\n",
      "221.26484084129333\n",
      "backpropagation time\n",
      "221.35053515434265\n"
     ]
    },
    {
     "name": "stderr",
     "output_type": "stream",
     "text": [
      "\r",
      " 56%|█████▋    | 161/285 [03:42<02:55,  1.41s/it]"
     ]
    },
    {
     "name": "stdout",
     "output_type": "stream",
     "text": [
      "dataloading time\n",
      "222.82040810585022\n",
      "forward time\n",
      "222.84449887275696\n",
      "loss time\n",
      "222.84687089920044\n",
      "backpropagation time\n",
      "222.9341402053833\n"
     ]
    },
    {
     "name": "stderr",
     "output_type": "stream",
     "text": [
      "\r",
      " 57%|█████▋    | 162/285 [03:44<02:54,  1.42s/it]"
     ]
    },
    {
     "name": "stdout",
     "output_type": "stream",
     "text": [
      "dataloading time\n",
      "224.25827193260193\n",
      "forward time\n",
      "224.28408217430115\n",
      "loss time\n",
      "224.2866668701172\n",
      "backpropagation time\n",
      "224.37506413459778\n"
     ]
    },
    {
     "name": "stderr",
     "output_type": "stream",
     "text": [
      "\r",
      " 57%|█████▋    | 163/285 [03:45<02:53,  1.42s/it]"
     ]
    },
    {
     "name": "stdout",
     "output_type": "stream",
     "text": [
      "dataloading time\n",
      "225.68626403808594\n",
      "forward time\n",
      "225.70868301391602\n",
      "loss time\n",
      "225.71168208122253\n",
      "backpropagation time\n",
      "225.7924609184265\n"
     ]
    },
    {
     "name": "stderr",
     "output_type": "stream",
     "text": [
      "\r",
      " 58%|█████▊    | 164/285 [03:47<02:57,  1.47s/it]"
     ]
    },
    {
     "name": "stdout",
     "output_type": "stream",
     "text": [
      "dataloading time\n",
      "227.25925302505493\n",
      "forward time\n",
      "227.28114414215088\n",
      "loss time\n",
      "227.28357911109924\n",
      "backpropagation time\n",
      "227.3688681125641\n"
     ]
    },
    {
     "name": "stderr",
     "output_type": "stream",
     "text": [
      "\r",
      " 58%|█████▊    | 165/285 [03:48<02:53,  1.45s/it]"
     ]
    },
    {
     "name": "stdout",
     "output_type": "stream",
     "text": [
      "dataloading time\n",
      "228.670086145401\n",
      "forward time\n",
      "228.6931300163269\n",
      "loss time\n",
      "228.69583797454834\n",
      "backpropagation time\n",
      "228.7770390510559\n"
     ]
    },
    {
     "name": "stderr",
     "output_type": "stream",
     "text": [
      "\r",
      " 58%|█████▊    | 166/285 [03:50<02:50,  1.43s/it]"
     ]
    },
    {
     "name": "stdout",
     "output_type": "stream",
     "text": [
      "dataloading time\n",
      "230.07392501831055\n",
      "forward time\n",
      "230.09675908088684\n",
      "loss time\n",
      "230.0992341041565\n",
      "backpropagation time\n",
      "230.1713981628418\n"
     ]
    },
    {
     "name": "stderr",
     "output_type": "stream",
     "text": [
      "\r",
      " 59%|█████▊    | 167/285 [03:51<02:46,  1.41s/it]"
     ]
    },
    {
     "name": "stdout",
     "output_type": "stream",
     "text": [
      "dataloading time\n",
      "231.40622401237488\n",
      "forward time\n",
      "231.4291410446167\n",
      "loss time\n",
      "231.43200206756592\n",
      "backpropagation time\n",
      "231.52055287361145\n"
     ]
    },
    {
     "name": "stderr",
     "output_type": "stream",
     "text": [
      "\r",
      " 59%|█████▉    | 168/285 [03:53<02:48,  1.44s/it]"
     ]
    },
    {
     "name": "stdout",
     "output_type": "stream",
     "text": [
      "dataloading time\n",
      "232.92115187644958\n",
      "forward time\n",
      "232.94350695610046\n",
      "loss time\n",
      "232.94651222229004\n",
      "backpropagation time\n",
      "233.02688789367676\n"
     ]
    },
    {
     "name": "stderr",
     "output_type": "stream",
     "text": [
      "\r",
      " 59%|█████▉    | 169/285 [03:54<02:48,  1.46s/it]"
     ]
    },
    {
     "name": "stdout",
     "output_type": "stream",
     "text": [
      "dataloading time\n",
      "234.4210832118988\n",
      "forward time\n",
      "234.4428300857544\n",
      "loss time\n",
      "234.44547700881958\n",
      "backpropagation time\n",
      "234.52514600753784\n"
     ]
    },
    {
     "name": "stderr",
     "output_type": "stream",
     "text": [
      "\r",
      " 60%|█████▉    | 170/285 [03:56<02:48,  1.47s/it]"
     ]
    },
    {
     "name": "stdout",
     "output_type": "stream",
     "text": [
      "dataloading time\n",
      "235.90132403373718\n",
      "forward time\n",
      "235.92484712600708\n",
      "loss time\n",
      "235.92751002311707\n",
      "backpropagation time\n",
      "236.01214504241943\n"
     ]
    },
    {
     "name": "stderr",
     "output_type": "stream",
     "text": [
      "\r",
      " 60%|██████    | 171/285 [03:57<02:50,  1.50s/it]"
     ]
    },
    {
     "name": "stdout",
     "output_type": "stream",
     "text": [
      "dataloading time\n",
      "237.47187495231628\n",
      "forward time\n",
      "237.49374103546143\n",
      "loss time\n",
      "237.49631786346436\n",
      "backpropagation time\n",
      "237.5850009918213\n"
     ]
    },
    {
     "name": "stderr",
     "output_type": "stream",
     "text": [
      "\r",
      " 60%|██████    | 172/285 [03:58<02:45,  1.46s/it]"
     ]
    },
    {
     "name": "stdout",
     "output_type": "stream",
     "text": [
      "dataloading time\n",
      "238.86138892173767\n",
      "forward time\n",
      "238.88370609283447\n",
      "loss time\n",
      "238.8866491317749\n",
      "backpropagation time\n",
      "238.97020411491394\n"
     ]
    },
    {
     "name": "stderr",
     "output_type": "stream",
     "text": [
      "\r",
      " 61%|██████    | 173/285 [04:00<02:39,  1.42s/it]"
     ]
    },
    {
     "name": "stdout",
     "output_type": "stream",
     "text": [
      "dataloading time\n",
      "240.17179584503174\n",
      "forward time\n",
      "240.1955211162567\n",
      "loss time\n",
      "240.19839715957642\n",
      "backpropagation time\n",
      "240.29277682304382\n"
     ]
    },
    {
     "name": "stderr",
     "output_type": "stream",
     "text": [
      "\r",
      " 61%|██████    | 174/285 [04:01<02:40,  1.44s/it]"
     ]
    },
    {
     "name": "stdout",
     "output_type": "stream",
     "text": [
      "dataloading time\n",
      "241.67609214782715\n",
      "forward time\n",
      "241.69750714302063\n",
      "loss time\n",
      "241.6998851299286\n",
      "backpropagation time\n",
      "241.78414011001587\n"
     ]
    },
    {
     "name": "stderr",
     "output_type": "stream",
     "text": [
      "\r",
      " 61%|██████▏   | 175/285 [04:03<02:39,  1.45s/it]"
     ]
    },
    {
     "name": "stdout",
     "output_type": "stream",
     "text": [
      "dataloading time\n",
      "243.13537502288818\n",
      "forward time\n",
      "243.1583731174469\n",
      "loss time\n",
      "243.16057801246643\n",
      "backpropagation time\n",
      "243.24531412124634\n"
     ]
    },
    {
     "name": "stderr",
     "output_type": "stream",
     "text": [
      "\r",
      " 62%|██████▏   | 176/285 [04:04<02:42,  1.49s/it]"
     ]
    },
    {
     "name": "stdout",
     "output_type": "stream",
     "text": [
      "dataloading time\n",
      "244.7171220779419\n",
      "forward time\n",
      "244.74268889427185\n",
      "loss time\n",
      "244.74545812606812\n",
      "backpropagation time\n",
      "244.8341839313507\n"
     ]
    },
    {
     "name": "stderr",
     "output_type": "stream",
     "text": [
      "\r",
      " 62%|██████▏   | 177/285 [04:06<02:50,  1.58s/it]"
     ]
    },
    {
     "name": "stdout",
     "output_type": "stream",
     "text": [
      "dataloading time\n",
      "246.50165390968323\n",
      "forward time\n",
      "246.52455186843872\n",
      "loss time\n",
      "246.52723908424377\n",
      "backpropagation time\n",
      "246.6273672580719\n"
     ]
    },
    {
     "name": "stderr",
     "output_type": "stream",
     "text": [
      "\r",
      " 62%|██████▏   | 178/285 [04:08<02:42,  1.52s/it]"
     ]
    },
    {
     "name": "stdout",
     "output_type": "stream",
     "text": [
      "dataloading time\n",
      "247.90605401992798\n",
      "forward time\n",
      "247.92737293243408\n",
      "loss time\n",
      "247.9302041530609\n",
      "backpropagation time\n",
      "248.01062393188477\n"
     ]
    },
    {
     "name": "stderr",
     "output_type": "stream",
     "text": [
      "\r",
      " 63%|██████▎   | 179/285 [04:09<02:36,  1.48s/it]"
     ]
    },
    {
     "name": "stdout",
     "output_type": "stream",
     "text": [
      "dataloading time\n",
      "249.29179000854492\n",
      "forward time\n",
      "249.31399297714233\n",
      "loss time\n",
      "249.31623816490173\n",
      "backpropagation time\n",
      "249.39637804031372\n"
     ]
    },
    {
     "name": "stderr",
     "output_type": "stream",
     "text": [
      "\r",
      " 63%|██████▎   | 180/285 [04:10<02:34,  1.47s/it]"
     ]
    },
    {
     "name": "stdout",
     "output_type": "stream",
     "text": [
      "dataloading time\n",
      "250.7422580718994\n",
      "forward time\n",
      "250.76602602005005\n",
      "loss time\n",
      "250.76875114440918\n",
      "backpropagation time\n",
      "250.85645699501038\n"
     ]
    },
    {
     "name": "stderr",
     "output_type": "stream",
     "text": [
      "\r",
      " 64%|██████▎   | 181/285 [04:12<02:36,  1.51s/it]"
     ]
    },
    {
     "name": "stdout",
     "output_type": "stream",
     "text": [
      "dataloading time\n",
      "252.329350233078\n",
      "forward time\n",
      "252.35372805595398\n",
      "loss time\n",
      "252.35630893707275\n",
      "backpropagation time\n",
      "252.44498205184937\n"
     ]
    },
    {
     "name": "stderr",
     "output_type": "stream",
     "text": [
      "\r",
      " 64%|██████▍   | 182/285 [04:13<02:33,  1.49s/it]"
     ]
    },
    {
     "name": "stdout",
     "output_type": "stream",
     "text": [
      "dataloading time\n",
      "253.80046200752258\n",
      "forward time\n",
      "253.82203316688538\n",
      "loss time\n",
      "253.8248679637909\n",
      "backpropagation time\n",
      "253.90559196472168\n"
     ]
    },
    {
     "name": "stderr",
     "output_type": "stream",
     "text": [
      "\r",
      " 64%|██████▍   | 183/285 [04:15<02:35,  1.52s/it]"
     ]
    },
    {
     "name": "stdout",
     "output_type": "stream",
     "text": [
      "dataloading time\n",
      "255.37347292900085\n",
      "forward time\n",
      "255.39908409118652\n",
      "loss time\n",
      "255.40193605422974\n",
      "backpropagation time\n",
      "255.49129390716553\n"
     ]
    },
    {
     "name": "stderr",
     "output_type": "stream",
     "text": [
      "\r",
      " 65%|██████▍   | 184/285 [04:17<02:35,  1.54s/it]"
     ]
    },
    {
     "name": "stdout",
     "output_type": "stream",
     "text": [
      "dataloading time\n",
      "256.96574997901917\n",
      "forward time\n",
      "256.98753094673157\n",
      "loss time\n",
      "256.99022698402405\n",
      "backpropagation time\n",
      "257.0717120170593\n"
     ]
    },
    {
     "name": "stderr",
     "output_type": "stream",
     "text": [
      "\r",
      " 65%|██████▍   | 185/285 [04:18<02:31,  1.51s/it]"
     ]
    },
    {
     "name": "stdout",
     "output_type": "stream",
     "text": [
      "dataloading time\n",
      "258.405198097229\n",
      "forward time\n",
      "258.4294378757477\n",
      "loss time\n",
      "258.43186616897583\n",
      "backpropagation time\n",
      "258.5179100036621\n"
     ]
    },
    {
     "name": "stderr",
     "output_type": "stream",
     "text": [
      "\r",
      " 65%|██████▌   | 186/285 [04:20<02:30,  1.52s/it]"
     ]
    },
    {
     "name": "stdout",
     "output_type": "stream",
     "text": [
      "dataloading time\n",
      "259.93870401382446\n",
      "forward time\n",
      "259.9610528945923\n",
      "loss time\n",
      "259.96366000175476\n",
      "backpropagation time\n",
      "260.047003030777\n"
     ]
    },
    {
     "name": "stderr",
     "output_type": "stream",
     "text": [
      "\r",
      " 66%|██████▌   | 187/285 [04:21<02:30,  1.54s/it]"
     ]
    },
    {
     "name": "stdout",
     "output_type": "stream",
     "text": [
      "dataloading time\n",
      "261.52179193496704\n",
      "forward time\n",
      "261.54385805130005\n",
      "loss time\n",
      "261.5465729236603\n",
      "backpropagation time\n",
      "261.63322591781616\n"
     ]
    },
    {
     "name": "stderr",
     "output_type": "stream",
     "text": [
      "\r",
      " 66%|██████▌   | 188/285 [04:23<02:28,  1.53s/it]"
     ]
    },
    {
     "name": "stdout",
     "output_type": "stream",
     "text": [
      "dataloading time\n",
      "263.0434560775757\n",
      "forward time\n",
      "263.0658130645752\n",
      "loss time\n",
      "263.0681881904602\n",
      "backpropagation time\n",
      "263.1520450115204\n"
     ]
    },
    {
     "name": "stderr",
     "output_type": "stream",
     "text": [
      "\r",
      " 66%|██████▋   | 189/285 [04:24<02:28,  1.54s/it]"
     ]
    },
    {
     "name": "stdout",
     "output_type": "stream",
     "text": [
      "dataloading time\n",
      "264.6205620765686\n",
      "forward time\n",
      "264.6427619457245\n",
      "loss time\n",
      "264.6451780796051\n",
      "backpropagation time\n",
      "264.726065158844\n"
     ]
    },
    {
     "name": "stderr",
     "output_type": "stream",
     "text": [
      "\r",
      " 67%|██████▋   | 190/285 [04:26<02:20,  1.48s/it]"
     ]
    },
    {
     "name": "stdout",
     "output_type": "stream",
     "text": [
      "dataloading time\n",
      "265.96333408355713\n",
      "forward time\n",
      "265.9852259159088\n",
      "loss time\n",
      "265.98776507377625\n",
      "backpropagation time\n",
      "266.062735080719\n"
     ]
    },
    {
     "name": "stderr",
     "output_type": "stream",
     "text": [
      "\r",
      " 67%|██████▋   | 191/285 [04:27<02:19,  1.48s/it]"
     ]
    },
    {
     "name": "stdout",
     "output_type": "stream",
     "text": [
      "dataloading time\n",
      "267.43261790275574\n",
      "forward time\n",
      "267.4554660320282\n",
      "loss time\n",
      "267.45789790153503\n",
      "backpropagation time\n",
      "267.54298400878906\n"
     ]
    },
    {
     "name": "stderr",
     "output_type": "stream",
     "text": [
      "\r",
      " 67%|██████▋   | 192/285 [04:29<02:19,  1.50s/it]"
     ]
    },
    {
     "name": "stdout",
     "output_type": "stream",
     "text": [
      "dataloading time\n",
      "268.97461915016174\n",
      "forward time\n",
      "268.9970428943634\n",
      "loss time\n",
      "268.9995701313019\n",
      "backpropagation time\n",
      "269.08897614479065\n"
     ]
    },
    {
     "name": "stderr",
     "output_type": "stream",
     "text": [
      "\r",
      " 68%|██████▊   | 193/285 [04:30<02:15,  1.47s/it]"
     ]
    },
    {
     "name": "stdout",
     "output_type": "stream",
     "text": [
      "dataloading time\n",
      "270.3739130496979\n",
      "forward time\n",
      "270.3992519378662\n",
      "loss time\n",
      "270.40160608291626\n",
      "backpropagation time\n",
      "270.48685908317566\n"
     ]
    },
    {
     "name": "stderr",
     "output_type": "stream",
     "text": [
      "\r",
      " 68%|██████▊   | 194/285 [04:31<02:13,  1.47s/it]"
     ]
    },
    {
     "name": "stdout",
     "output_type": "stream",
     "text": [
      "dataloading time\n",
      "271.84441113471985\n",
      "forward time\n",
      "271.8662750720978\n",
      "loss time\n",
      "271.869215965271\n",
      "backpropagation time\n",
      "271.94960618019104\n"
     ]
    },
    {
     "name": "stderr",
     "output_type": "stream",
     "text": [
      "\r",
      " 68%|██████▊   | 195/285 [04:33<02:12,  1.48s/it]"
     ]
    },
    {
     "name": "stdout",
     "output_type": "stream",
     "text": [
      "dataloading time\n",
      "273.3418529033661\n",
      "forward time\n",
      "273.3640398979187\n",
      "loss time\n",
      "273.366760969162\n",
      "backpropagation time\n",
      "273.44855284690857\n"
     ]
    },
    {
     "name": "stderr",
     "output_type": "stream",
     "text": [
      "\r",
      " 69%|██████▉   | 196/285 [04:34<02:11,  1.48s/it]"
     ]
    },
    {
     "name": "stdout",
     "output_type": "stream",
     "text": [
      "dataloading time\n",
      "274.8362958431244\n",
      "forward time\n",
      "274.8592960834503\n",
      "loss time\n",
      "274.86183190345764\n",
      "backpropagation time\n",
      "274.9401409626007\n"
     ]
    },
    {
     "name": "stderr",
     "output_type": "stream",
     "text": [
      "\r",
      " 69%|██████▉   | 197/285 [04:36<02:09,  1.47s/it]"
     ]
    },
    {
     "name": "stdout",
     "output_type": "stream",
     "text": [
      "dataloading time\n",
      "276.2861089706421\n",
      "forward time\n",
      "276.30804085731506\n",
      "loss time\n",
      "276.3105220794678\n",
      "backpropagation time\n",
      "276.3933370113373\n"
     ]
    },
    {
     "name": "stderr",
     "output_type": "stream",
     "text": [
      "\r",
      " 69%|██████▉   | 198/285 [04:37<02:10,  1.50s/it]"
     ]
    },
    {
     "name": "stdout",
     "output_type": "stream",
     "text": [
      "dataloading time\n",
      "277.8302221298218\n",
      "forward time\n",
      "277.85300612449646\n",
      "loss time\n",
      "277.85570001602173\n",
      "backpropagation time\n",
      "277.94236302375793\n"
     ]
    },
    {
     "name": "stderr",
     "output_type": "stream",
     "text": [
      "\r",
      " 70%|██████▉   | 199/285 [04:39<02:09,  1.51s/it]"
     ]
    },
    {
     "name": "stdout",
     "output_type": "stream",
     "text": [
      "dataloading time\n",
      "279.37118005752563\n",
      "forward time\n",
      "279.39268922805786\n",
      "loss time\n",
      "279.39511013031006\n",
      "backpropagation time\n",
      "279.4758651256561\n"
     ]
    },
    {
     "name": "stderr",
     "output_type": "stream",
     "text": [
      "\r",
      " 70%|███████   | 200/285 [04:40<02:01,  1.43s/it]"
     ]
    },
    {
     "name": "stdout",
     "output_type": "stream",
     "text": [
      "dataloading time\n",
      "280.6328980922699\n",
      "forward time\n",
      "280.6553840637207\n",
      "loss time\n",
      "280.6586010456085\n",
      "backpropagation time\n",
      "280.7361431121826\n"
     ]
    },
    {
     "name": "stderr",
     "output_type": "stream",
     "text": [
      "\r",
      " 71%|███████   | 201/285 [04:42<02:02,  1.46s/it]"
     ]
    },
    {
     "name": "stdout",
     "output_type": "stream",
     "text": [
      "dataloading time\n",
      "282.1533570289612\n",
      "forward time\n",
      "282.1761178970337\n",
      "loss time\n",
      "282.1785321235657\n",
      "backpropagation time\n",
      "282.2630751132965\n"
     ]
    },
    {
     "name": "stderr",
     "output_type": "stream",
     "text": [
      "\r",
      " 71%|███████   | 202/285 [04:43<02:00,  1.45s/it]"
     ]
    },
    {
     "name": "stdout",
     "output_type": "stream",
     "text": [
      "dataloading time\n",
      "283.5844020843506\n",
      "forward time\n",
      "283.6075351238251\n",
      "loss time\n",
      "283.60996103286743\n",
      "backpropagation time\n",
      "283.69407200813293\n"
     ]
    },
    {
     "name": "stderr",
     "output_type": "stream",
     "text": [
      "\r",
      " 71%|███████   | 203/285 [04:45<02:10,  1.59s/it]"
     ]
    },
    {
     "name": "stdout",
     "output_type": "stream",
     "text": [
      "dataloading time\n",
      "285.4783179759979\n",
      "forward time\n",
      "285.5040719509125\n",
      "loss time\n",
      "285.50704193115234\n",
      "backpropagation time\n",
      "285.59494805336\n"
     ]
    },
    {
     "name": "stderr",
     "output_type": "stream",
     "text": [
      "\r",
      " 72%|███████▏  | 204/285 [04:47<02:05,  1.55s/it]"
     ]
    },
    {
     "name": "stdout",
     "output_type": "stream",
     "text": [
      "dataloading time\n",
      "286.94338607788086\n",
      "forward time\n",
      "286.9668290615082\n",
      "loss time\n",
      "286.96911001205444\n",
      "backpropagation time\n",
      "287.05851316452026\n"
     ]
    },
    {
     "name": "stderr",
     "output_type": "stream",
     "text": [
      "\r",
      " 72%|███████▏  | 205/285 [04:48<02:00,  1.50s/it]"
     ]
    },
    {
     "name": "stdout",
     "output_type": "stream",
     "text": [
      "dataloading time\n",
      "288.33728885650635\n",
      "forward time\n",
      "288.3599019050598\n",
      "loss time\n",
      "288.3621151447296\n",
      "backpropagation time\n",
      "288.45357513427734\n"
     ]
    },
    {
     "name": "stderr",
     "output_type": "stream",
     "text": [
      "\r",
      " 72%|███████▏  | 206/285 [04:49<01:55,  1.46s/it]"
     ]
    },
    {
     "name": "stdout",
     "output_type": "stream",
     "text": [
      "dataloading time\n",
      "289.64843010902405\n",
      "forward time\n",
      "289.6747980117798\n",
      "loss time\n",
      "289.6948699951172\n",
      "backpropagation time\n",
      "289.80999302864075\n"
     ]
    },
    {
     "name": "stderr",
     "output_type": "stream",
     "text": [
      "\r",
      " 73%|███████▎  | 207/285 [04:51<01:53,  1.46s/it]"
     ]
    },
    {
     "name": "stdout",
     "output_type": "stream",
     "text": [
      "dataloading time\n",
      "291.15779089927673\n",
      "forward time\n",
      "291.18394017219543\n",
      "loss time\n",
      "291.1867880821228\n",
      "backpropagation time\n",
      "291.27305912971497\n"
     ]
    },
    {
     "name": "stderr",
     "output_type": "stream",
     "text": [
      "\r",
      " 73%|███████▎  | 208/285 [04:52<01:50,  1.44s/it]"
     ]
    },
    {
     "name": "stdout",
     "output_type": "stream",
     "text": [
      "dataloading time\n",
      "292.5545380115509\n",
      "forward time\n",
      "292.5772650241852\n",
      "loss time\n",
      "292.579687833786\n",
      "backpropagation time\n",
      "292.6677780151367\n"
     ]
    },
    {
     "name": "stderr",
     "output_type": "stream",
     "text": [
      "\r",
      " 73%|███████▎  | 209/285 [04:53<01:47,  1.41s/it]"
     ]
    },
    {
     "name": "stdout",
     "output_type": "stream",
     "text": [
      "dataloading time\n",
      "293.898894071579\n",
      "forward time\n",
      "293.92089915275574\n",
      "loss time\n",
      "293.9235670566559\n",
      "backpropagation time\n",
      "294.0004651546478\n"
     ]
    },
    {
     "name": "stderr",
     "output_type": "stream",
     "text": [
      "\r",
      " 74%|███████▎  | 210/285 [04:55<01:43,  1.39s/it]"
     ]
    },
    {
     "name": "stdout",
     "output_type": "stream",
     "text": [
      "dataloading time\n",
      "295.2242531776428\n",
      "forward time\n",
      "295.2472651004791\n",
      "loss time\n",
      "295.2506160736084\n",
      "backpropagation time\n",
      "295.33273100852966\n"
     ]
    },
    {
     "name": "stderr",
     "output_type": "stream",
     "text": [
      "\r",
      " 74%|███████▍  | 211/285 [04:56<01:45,  1.42s/it]"
     ]
    },
    {
     "name": "stdout",
     "output_type": "stream",
     "text": [
      "dataloading time\n",
      "296.7273688316345\n",
      "forward time\n",
      "296.75007009506226\n",
      "loss time\n",
      "296.7527379989624\n",
      "backpropagation time\n",
      "296.83378410339355\n"
     ]
    },
    {
     "name": "stderr",
     "output_type": "stream",
     "text": [
      "\r",
      " 74%|███████▍  | 212/285 [04:58<01:43,  1.42s/it]"
     ]
    },
    {
     "name": "stdout",
     "output_type": "stream",
     "text": [
      "dataloading time\n",
      "298.1290340423584\n",
      "forward time\n",
      "298.15351700782776\n",
      "loss time\n",
      "298.1561999320984\n",
      "backpropagation time\n",
      "298.2424490451813\n"
     ]
    },
    {
     "name": "stderr",
     "output_type": "stream",
     "text": [
      "\r",
      " 75%|███████▍  | 213/285 [04:59<01:45,  1.46s/it]"
     ]
    },
    {
     "name": "stdout",
     "output_type": "stream",
     "text": [
      "dataloading time\n",
      "299.65565299987793\n",
      "forward time\n",
      "299.684289932251\n",
      "loss time\n",
      "299.6878571510315\n",
      "backpropagation time\n",
      "299.800017118454\n"
     ]
    },
    {
     "name": "stderr",
     "output_type": "stream",
     "text": [
      "\r",
      " 75%|███████▌  | 214/285 [05:01<01:42,  1.44s/it]"
     ]
    },
    {
     "name": "stdout",
     "output_type": "stream",
     "text": [
      "dataloading time\n",
      "301.0577700138092\n",
      "forward time\n",
      "301.0850169658661\n",
      "loss time\n",
      "301.08817887306213\n",
      "backpropagation time\n",
      "301.2032072544098\n"
     ]
    },
    {
     "name": "stderr",
     "output_type": "stream",
     "text": [
      "\r",
      " 75%|███████▌  | 215/285 [05:02<01:35,  1.37s/it]"
     ]
    },
    {
     "name": "stdout",
     "output_type": "stream",
     "text": [
      "dataloading time\n",
      "302.30413699150085\n",
      "forward time\n",
      "302.3264071941376\n",
      "loss time\n",
      "302.3287720680237\n",
      "backpropagation time\n",
      "302.4069199562073\n"
     ]
    },
    {
     "name": "stderr",
     "output_type": "stream",
     "text": [
      "\r",
      " 76%|███████▌  | 216/285 [05:03<01:35,  1.39s/it]"
     ]
    },
    {
     "name": "stdout",
     "output_type": "stream",
     "text": [
      "dataloading time\n",
      "303.7303340435028\n",
      "forward time\n",
      "303.7527039051056\n",
      "loss time\n",
      "303.75553822517395\n",
      "backpropagation time\n",
      "303.8318839073181\n"
     ]
    },
    {
     "name": "stderr",
     "output_type": "stream",
     "text": [
      "\r",
      " 76%|███████▌  | 217/285 [05:05<01:31,  1.34s/it]"
     ]
    },
    {
     "name": "stdout",
     "output_type": "stream",
     "text": [
      "dataloading time\n",
      "304.9719579219818\n",
      "forward time\n",
      "304.9949429035187\n",
      "loss time\n",
      "304.99761605262756\n",
      "backpropagation time\n",
      "305.0782380104065\n"
     ]
    },
    {
     "name": "stderr",
     "output_type": "stream",
     "text": [
      "\r",
      " 76%|███████▋  | 218/285 [05:06<01:27,  1.31s/it]"
     ]
    },
    {
     "name": "stdout",
     "output_type": "stream",
     "text": [
      "dataloading time\n",
      "306.21444392204285\n",
      "forward time\n",
      "306.2361168861389\n",
      "loss time\n",
      "306.23842096328735\n",
      "backpropagation time\n",
      "306.3152759075165\n"
     ]
    },
    {
     "name": "stderr",
     "output_type": "stream",
     "text": [
      "\r",
      " 77%|███████▋  | 219/285 [05:07<01:24,  1.28s/it]"
     ]
    },
    {
     "name": "stdout",
     "output_type": "stream",
     "text": [
      "dataloading time\n",
      "307.40325713157654\n",
      "forward time\n",
      "307.425409078598\n",
      "loss time\n",
      "307.4277319908142\n",
      "backpropagation time\n",
      "307.50692915916443\n"
     ]
    },
    {
     "name": "stderr",
     "output_type": "stream",
     "text": [
      "\r",
      " 77%|███████▋  | 220/285 [05:08<01:21,  1.25s/it]"
     ]
    },
    {
     "name": "stdout",
     "output_type": "stream",
     "text": [
      "dataloading time\n",
      "308.5811891555786\n",
      "forward time\n",
      "308.60351610183716\n",
      "loss time\n",
      "308.60592007637024\n",
      "backpropagation time\n",
      "308.6831910610199\n"
     ]
    },
    {
     "name": "stderr",
     "output_type": "stream",
     "text": [
      "\r",
      " 78%|███████▊  | 221/285 [05:09<01:19,  1.23s/it]"
     ]
    },
    {
     "name": "stdout",
     "output_type": "stream",
     "text": [
      "dataloading time\n",
      "309.7883310317993\n",
      "forward time\n",
      "309.810781955719\n",
      "loss time\n",
      "309.81294894218445\n",
      "backpropagation time\n",
      "309.89054894447327\n"
     ]
    },
    {
     "name": "stderr",
     "output_type": "stream",
     "text": [
      "\r",
      " 78%|███████▊  | 222/285 [05:11<01:18,  1.24s/it]"
     ]
    },
    {
     "name": "stdout",
     "output_type": "stream",
     "text": [
      "dataloading time\n",
      "311.02159214019775\n",
      "forward time\n",
      "311.0540699958801\n",
      "loss time\n",
      "311.05726623535156\n",
      "backpropagation time\n",
      "311.13695311546326\n"
     ]
    },
    {
     "name": "stderr",
     "output_type": "stream",
     "text": [
      "\r",
      " 78%|███████▊  | 223/285 [05:12<01:19,  1.28s/it]"
     ]
    },
    {
     "name": "stdout",
     "output_type": "stream",
     "text": [
      "dataloading time\n",
      "312.4216351509094\n",
      "forward time\n",
      "312.4445650577545\n",
      "loss time\n",
      "312.4469380378723\n",
      "backpropagation time\n",
      "312.51979422569275\n"
     ]
    },
    {
     "name": "stderr",
     "output_type": "stream",
     "text": [
      "\r",
      " 79%|███████▊  | 224/285 [05:13<01:20,  1.32s/it]"
     ]
    },
    {
     "name": "stdout",
     "output_type": "stream",
     "text": [
      "dataloading time\n",
      "313.80576610565186\n",
      "forward time\n",
      "313.829959154129\n",
      "loss time\n",
      "313.8324429988861\n",
      "backpropagation time\n",
      "313.9178800582886\n"
     ]
    },
    {
     "name": "stderr",
     "output_type": "stream",
     "text": [
      "\r",
      " 79%|███████▉  | 225/285 [05:15<01:20,  1.35s/it]"
     ]
    },
    {
     "name": "stdout",
     "output_type": "stream",
     "text": [
      "dataloading time\n",
      "315.22455406188965\n",
      "forward time\n",
      "315.2466731071472\n",
      "loss time\n",
      "315.2491681575775\n",
      "backpropagation time\n",
      "315.3322129249573\n"
     ]
    },
    {
     "name": "stderr",
     "output_type": "stream",
     "text": [
      "\r",
      " 79%|███████▉  | 226/285 [05:16<01:22,  1.40s/it]"
     ]
    },
    {
     "name": "stdout",
     "output_type": "stream",
     "text": [
      "dataloading time\n",
      "316.7437901496887\n",
      "forward time\n",
      "316.766300201416\n",
      "loss time\n",
      "316.76937103271484\n",
      "backpropagation time\n",
      "316.85276317596436\n"
     ]
    },
    {
     "name": "stderr",
     "output_type": "stream",
     "text": [
      "\r",
      " 80%|███████▉  | 227/285 [05:18<01:20,  1.40s/it]"
     ]
    },
    {
     "name": "stdout",
     "output_type": "stream",
     "text": [
      "dataloading time\n",
      "318.1332530975342\n",
      "forward time\n",
      "318.1555850505829\n",
      "loss time\n",
      "318.15814185142517\n",
      "backpropagation time\n",
      "318.24198818206787\n"
     ]
    },
    {
     "name": "stderr",
     "output_type": "stream",
     "text": [
      "\r",
      " 80%|████████  | 228/285 [05:19<01:23,  1.47s/it]"
     ]
    },
    {
     "name": "stdout",
     "output_type": "stream",
     "text": [
      "dataloading time\n",
      "319.7550621032715\n",
      "forward time\n",
      "319.7791030406952\n",
      "loss time\n",
      "319.78164196014404\n",
      "backpropagation time\n",
      "319.87013602256775\n"
     ]
    },
    {
     "name": "stderr",
     "output_type": "stream",
     "text": [
      "\r",
      " 80%|████████  | 229/285 [05:21<01:21,  1.46s/it]"
     ]
    },
    {
     "name": "stdout",
     "output_type": "stream",
     "text": [
      "dataloading time\n",
      "321.2163691520691\n",
      "forward time\n",
      "321.238942861557\n",
      "loss time\n",
      "321.2413098812103\n",
      "backpropagation time\n",
      "321.3166410923004\n"
     ]
    },
    {
     "name": "stderr",
     "output_type": "stream",
     "text": [
      "\r",
      " 81%|████████  | 230/285 [05:22<01:19,  1.45s/it]"
     ]
    },
    {
     "name": "stdout",
     "output_type": "stream",
     "text": [
      "dataloading time\n",
      "322.5975852012634\n",
      "forward time\n",
      "322.6255180835724\n",
      "loss time\n",
      "322.6283628940582\n",
      "backpropagation time\n",
      "322.736004114151\n"
     ]
    },
    {
     "name": "stderr",
     "output_type": "stream",
     "text": [
      "\r",
      " 81%|████████  | 231/285 [05:24<01:15,  1.40s/it]"
     ]
    },
    {
     "name": "stdout",
     "output_type": "stream",
     "text": [
      "dataloading time\n",
      "323.9301459789276\n",
      "forward time\n",
      "323.95322489738464\n",
      "loss time\n",
      "323.9556269645691\n",
      "backpropagation time\n",
      "324.03957295417786\n"
     ]
    },
    {
     "name": "stderr",
     "output_type": "stream",
     "text": [
      "\r",
      " 81%|████████▏ | 232/285 [05:25<01:12,  1.36s/it]"
     ]
    },
    {
     "name": "stdout",
     "output_type": "stream",
     "text": [
      "dataloading time\n",
      "325.18923592567444\n",
      "forward time\n",
      "325.21158814430237\n",
      "loss time\n",
      "325.21420097351074\n",
      "backpropagation time\n",
      "325.29688906669617\n"
     ]
    },
    {
     "name": "stderr",
     "output_type": "stream",
     "text": [
      "\r",
      " 82%|████████▏ | 233/285 [05:26<01:12,  1.40s/it]"
     ]
    },
    {
     "name": "stdout",
     "output_type": "stream",
     "text": [
      "dataloading time\n",
      "326.68542194366455\n",
      "forward time\n",
      "326.70674300193787\n",
      "loss time\n",
      "326.7093029022217\n",
      "backpropagation time\n",
      "326.78144001960754\n"
     ]
    },
    {
     "name": "stderr",
     "output_type": "stream",
     "text": [
      "\r",
      " 82%|████████▏ | 234/285 [05:28<01:11,  1.41s/it]"
     ]
    },
    {
     "name": "stdout",
     "output_type": "stream",
     "text": [
      "dataloading time\n",
      "328.1001148223877\n",
      "forward time\n",
      "328.12229800224304\n",
      "loss time\n",
      "328.12441205978394\n",
      "backpropagation time\n",
      "328.20546197891235\n"
     ]
    },
    {
     "name": "stderr",
     "output_type": "stream",
     "text": [
      "\r",
      " 82%|████████▏ | 235/285 [05:29<01:09,  1.40s/it]"
     ]
    },
    {
     "name": "stdout",
     "output_type": "stream",
     "text": [
      "dataloading time\n",
      "329.4698312282562\n",
      "forward time\n",
      "329.4920189380646\n",
      "loss time\n",
      "329.4949290752411\n",
      "backpropagation time\n",
      "329.5852220058441\n"
     ]
    },
    {
     "name": "stderr",
     "output_type": "stream",
     "text": [
      "\r",
      " 83%|████████▎ | 236/285 [05:30<01:07,  1.37s/it]"
     ]
    },
    {
     "name": "stdout",
     "output_type": "stream",
     "text": [
      "dataloading time\n",
      "330.7767810821533\n",
      "forward time\n",
      "330.7992150783539\n",
      "loss time\n",
      "330.8015170097351\n",
      "backpropagation time\n",
      "330.88327407836914\n"
     ]
    },
    {
     "name": "stderr",
     "output_type": "stream",
     "text": [
      "\r",
      " 83%|████████▎ | 237/285 [05:32<01:06,  1.39s/it]"
     ]
    },
    {
     "name": "stdout",
     "output_type": "stream",
     "text": [
      "dataloading time\n",
      "332.2167239189148\n",
      "forward time\n",
      "332.2394230365753\n",
      "loss time\n",
      "332.2420611381531\n",
      "backpropagation time\n",
      "332.323557138443\n"
     ]
    },
    {
     "name": "stderr",
     "output_type": "stream",
     "text": [
      "\r",
      " 84%|████████▎ | 238/285 [05:33<01:06,  1.41s/it]"
     ]
    },
    {
     "name": "stdout",
     "output_type": "stream",
     "text": [
      "dataloading time\n",
      "333.6774089336395\n",
      "forward time\n",
      "333.69873809814453\n",
      "loss time\n",
      "333.70113825798035\n",
      "backpropagation time\n",
      "333.772164106369\n"
     ]
    },
    {
     "name": "stderr",
     "output_type": "stream",
     "text": [
      "\r",
      " 84%|████████▍ | 239/285 [05:35<01:02,  1.36s/it]"
     ]
    },
    {
     "name": "stdout",
     "output_type": "stream",
     "text": [
      "dataloading time\n",
      "334.90188217163086\n",
      "forward time\n",
      "334.92590618133545\n",
      "loss time\n",
      "334.92844414711\n",
      "backpropagation time\n",
      "335.0097568035126\n"
     ]
    },
    {
     "name": "stderr",
     "output_type": "stream",
     "text": [
      "\r",
      " 84%|████████▍ | 240/285 [05:36<01:01,  1.36s/it]"
     ]
    },
    {
     "name": "stdout",
     "output_type": "stream",
     "text": [
      "dataloading time\n",
      "336.2702798843384\n",
      "forward time\n",
      "336.29301404953003\n",
      "loss time\n",
      "336.29573798179626\n",
      "backpropagation time\n",
      "336.3694908618927\n"
     ]
    },
    {
     "name": "stderr",
     "output_type": "stream",
     "text": [
      "\r",
      " 85%|████████▍ | 241/285 [05:37<00:59,  1.36s/it]"
     ]
    },
    {
     "name": "stdout",
     "output_type": "stream",
     "text": [
      "dataloading time\n",
      "337.6165430545807\n",
      "forward time\n",
      "337.6391248703003\n",
      "loss time\n",
      "337.6417808532715\n",
      "backpropagation time\n",
      "337.73158502578735\n"
     ]
    },
    {
     "name": "stderr",
     "output_type": "stream",
     "text": [
      "\r",
      " 85%|████████▍ | 242/285 [05:39<01:00,  1.40s/it]"
     ]
    },
    {
     "name": "stdout",
     "output_type": "stream",
     "text": [
      "dataloading time\n",
      "339.1214590072632\n",
      "forward time\n",
      "339.1439940929413\n",
      "loss time\n",
      "339.14660000801086\n",
      "backpropagation time\n",
      "339.2303740978241\n"
     ]
    },
    {
     "name": "stderr",
     "output_type": "stream",
     "text": [
      "\r",
      " 85%|████████▌ | 243/285 [05:40<00:59,  1.41s/it]"
     ]
    },
    {
     "name": "stdout",
     "output_type": "stream",
     "text": [
      "dataloading time\n",
      "340.5550158023834\n",
      "forward time\n",
      "340.57740807533264\n",
      "loss time\n",
      "340.5800828933716\n",
      "backpropagation time\n",
      "340.66383695602417\n"
     ]
    },
    {
     "name": "stderr",
     "output_type": "stream",
     "text": [
      "\r",
      " 86%|████████▌ | 244/285 [05:42<00:57,  1.41s/it]"
     ]
    },
    {
     "name": "stdout",
     "output_type": "stream",
     "text": [
      "dataloading time\n",
      "341.9439809322357\n",
      "forward time\n",
      "341.9661500453949\n",
      "loss time\n",
      "341.9688889980316\n",
      "backpropagation time\n",
      "342.06140995025635\n"
     ]
    },
    {
     "name": "stderr",
     "output_type": "stream",
     "text": [
      "\r",
      " 86%|████████▌ | 245/285 [05:43<00:57,  1.44s/it]"
     ]
    },
    {
     "name": "stdout",
     "output_type": "stream",
     "text": [
      "dataloading time\n",
      "343.4805340766907\n",
      "forward time\n",
      "343.5030400753021\n",
      "loss time\n",
      "343.5056049823761\n",
      "backpropagation time\n",
      "343.5944609642029\n"
     ]
    },
    {
     "name": "stderr",
     "output_type": "stream",
     "text": [
      "\r",
      " 86%|████████▋ | 246/285 [05:45<00:55,  1.44s/it]"
     ]
    },
    {
     "name": "stdout",
     "output_type": "stream",
     "text": [
      "dataloading time\n",
      "344.9036509990692\n",
      "forward time\n",
      "344.92584896087646\n",
      "loss time\n",
      "344.9285161495209\n",
      "backpropagation time\n",
      "345.0082402229309\n"
     ]
    },
    {
     "name": "stderr",
     "output_type": "stream",
     "text": [
      "\r",
      " 87%|████████▋ | 247/285 [05:46<00:56,  1.48s/it]"
     ]
    },
    {
     "name": "stdout",
     "output_type": "stream",
     "text": [
      "dataloading time\n",
      "346.47193813323975\n",
      "forward time\n",
      "346.4958770275116\n",
      "loss time\n",
      "346.4982981681824\n",
      "backpropagation time\n",
      "346.5857288837433\n"
     ]
    },
    {
     "name": "stderr",
     "output_type": "stream",
     "text": [
      "\r",
      " 87%|████████▋ | 248/285 [05:48<00:54,  1.47s/it]"
     ]
    },
    {
     "name": "stdout",
     "output_type": "stream",
     "text": [
      "dataloading time\n",
      "347.94131207466125\n",
      "forward time\n",
      "347.96395802497864\n",
      "loss time\n",
      "347.96668696403503\n",
      "backpropagation time\n",
      "348.05138993263245\n"
     ]
    },
    {
     "name": "stderr",
     "output_type": "stream",
     "text": [
      "\r",
      " 87%|████████▋ | 249/285 [05:49<00:52,  1.46s/it]"
     ]
    },
    {
     "name": "stdout",
     "output_type": "stream",
     "text": [
      "dataloading time\n",
      "349.3663160800934\n",
      "forward time\n",
      "349.38959884643555\n",
      "loss time\n",
      "349.3919081687927\n",
      "backpropagation time\n",
      "349.47357511520386\n"
     ]
    },
    {
     "name": "stderr",
     "output_type": "stream",
     "text": [
      "\r",
      " 88%|████████▊ | 250/285 [05:50<00:49,  1.42s/it]"
     ]
    },
    {
     "name": "stdout",
     "output_type": "stream",
     "text": [
      "dataloading time\n",
      "350.70338892936707\n",
      "forward time\n",
      "350.72535490989685\n",
      "loss time\n",
      "350.7277281284332\n",
      "backpropagation time\n",
      "350.8032910823822\n"
     ]
    },
    {
     "name": "stderr",
     "output_type": "stream",
     "text": [
      "\r",
      " 88%|████████▊ | 251/285 [05:52<00:49,  1.45s/it]"
     ]
    },
    {
     "name": "stdout",
     "output_type": "stream",
     "text": [
      "dataloading time\n",
      "352.21945810317993\n",
      "forward time\n",
      "352.245600938797\n",
      "loss time\n",
      "352.24845004081726\n",
      "backpropagation time\n",
      "352.3357059955597\n"
     ]
    },
    {
     "name": "stderr",
     "output_type": "stream",
     "text": [
      "\r",
      " 88%|████████▊ | 252/285 [05:53<00:49,  1.50s/it]"
     ]
    },
    {
     "name": "stdout",
     "output_type": "stream",
     "text": [
      "dataloading time\n",
      "353.8440010547638\n",
      "forward time\n",
      "353.8671758174896\n",
      "loss time\n",
      "353.86972212791443\n",
      "backpropagation time\n",
      "353.9538109302521\n"
     ]
    },
    {
     "name": "stderr",
     "output_type": "stream",
     "text": [
      "\r",
      " 89%|████████▉ | 253/285 [05:55<00:47,  1.49s/it]"
     ]
    },
    {
     "name": "stdout",
     "output_type": "stream",
     "text": [
      "dataloading time\n",
      "355.2927050590515\n",
      "forward time\n",
      "355.3149890899658\n",
      "loss time\n",
      "355.3178770542145\n",
      "backpropagation time\n",
      "355.39966201782227\n"
     ]
    },
    {
     "name": "stderr",
     "output_type": "stream",
     "text": [
      "\r",
      " 89%|████████▉ | 254/285 [05:56<00:46,  1.50s/it]"
     ]
    },
    {
     "name": "stdout",
     "output_type": "stream",
     "text": [
      "dataloading time\n",
      "356.8324611186981\n",
      "forward time\n",
      "356.8551721572876\n",
      "loss time\n",
      "356.85772013664246\n",
      "backpropagation time\n",
      "356.9483211040497\n"
     ]
    },
    {
     "name": "stderr",
     "output_type": "stream",
     "text": [
      "\r",
      " 89%|████████▉ | 255/285 [05:58<00:44,  1.50s/it]"
     ]
    },
    {
     "name": "stdout",
     "output_type": "stream",
     "text": [
      "dataloading time\n",
      "358.31822419166565\n",
      "forward time\n",
      "358.34076595306396\n",
      "loss time\n",
      "358.34355187416077\n",
      "backpropagation time\n",
      "358.43674492836\n"
     ]
    },
    {
     "name": "stderr",
     "output_type": "stream",
     "text": [
      "\r",
      " 90%|████████▉ | 256/285 [05:59<00:43,  1.49s/it]"
     ]
    },
    {
     "name": "stdout",
     "output_type": "stream",
     "text": [
      "dataloading time\n",
      "359.7933540344238\n",
      "forward time\n",
      "359.81675004959106\n",
      "loss time\n",
      "359.8195719718933\n",
      "backpropagation time\n",
      "359.9151909351349\n"
     ]
    },
    {
     "name": "stderr",
     "output_type": "stream",
     "text": [
      "\r",
      " 90%|█████████ | 257/285 [06:01<00:40,  1.46s/it]"
     ]
    },
    {
     "name": "stdout",
     "output_type": "stream",
     "text": [
      "dataloading time\n",
      "361.19881105422974\n",
      "forward time\n",
      "361.220694065094\n",
      "loss time\n",
      "361.2236750125885\n",
      "backpropagation time\n",
      "361.30175518989563\n"
     ]
    },
    {
     "name": "stderr",
     "output_type": "stream",
     "text": [
      "\r",
      " 91%|█████████ | 258/285 [06:03<00:42,  1.58s/it]"
     ]
    },
    {
     "name": "stdout",
     "output_type": "stream",
     "text": [
      "dataloading time\n",
      "363.0456931591034\n",
      "forward time\n",
      "363.0689799785614\n",
      "loss time\n",
      "363.07159399986267\n",
      "backpropagation time\n",
      "363.1458549499512\n"
     ]
    },
    {
     "name": "stderr",
     "output_type": "stream",
     "text": [
      "\r",
      " 91%|█████████ | 259/285 [06:04<00:37,  1.43s/it]"
     ]
    },
    {
     "name": "stdout",
     "output_type": "stream",
     "text": [
      "dataloading time\n",
      "364.1303400993347\n",
      "forward time\n",
      "364.15233397483826\n",
      "loss time\n",
      "364.1553809642792\n",
      "backpropagation time\n",
      "364.23030710220337\n"
     ]
    },
    {
     "name": "stderr",
     "output_type": "stream",
     "text": [
      "\r",
      " 91%|█████████ | 260/285 [06:05<00:33,  1.36s/it]"
     ]
    },
    {
     "name": "stdout",
     "output_type": "stream",
     "text": [
      "dataloading time\n",
      "365.3161678314209\n",
      "forward time\n",
      "365.3383421897888\n",
      "loss time\n",
      "365.34098291397095\n",
      "backpropagation time\n",
      "365.4142210483551\n"
     ]
    },
    {
     "name": "stderr",
     "output_type": "stream",
     "text": [
      "\r",
      " 92%|█████████▏| 261/285 [06:06<00:30,  1.27s/it]"
     ]
    },
    {
     "name": "stdout",
     "output_type": "stream",
     "text": [
      "dataloading time\n",
      "366.40577721595764\n",
      "forward time\n",
      "366.42695808410645\n",
      "loss time\n",
      "366.4293110370636\n",
      "backpropagation time\n",
      "366.501580953598\n"
     ]
    },
    {
     "name": "stderr",
     "output_type": "stream",
     "text": [
      "\r",
      " 92%|█████████▏| 262/285 [06:07<00:28,  1.25s/it]"
     ]
    },
    {
     "name": "stdout",
     "output_type": "stream",
     "text": [
      "dataloading time\n",
      "367.6016881465912\n",
      "forward time\n",
      "367.6232750415802\n",
      "loss time\n",
      "367.62588906288147\n",
      "backpropagation time\n",
      "367.69630217552185\n"
     ]
    },
    {
     "name": "stderr",
     "output_type": "stream",
     "text": [
      "\r",
      " 92%|█████████▏| 263/285 [06:08<00:27,  1.25s/it]"
     ]
    },
    {
     "name": "stdout",
     "output_type": "stream",
     "text": [
      "dataloading time\n",
      "368.8533182144165\n",
      "forward time\n",
      "368.8741750717163\n",
      "loss time\n",
      "368.876503944397\n",
      "backpropagation time\n",
      "368.9492311477661\n"
     ]
    },
    {
     "name": "stderr",
     "output_type": "stream",
     "text": [
      "\r",
      " 93%|█████████▎| 264/285 [06:10<00:25,  1.23s/it]"
     ]
    },
    {
     "name": "stdout",
     "output_type": "stream",
     "text": [
      "dataloading time\n",
      "370.013543844223\n",
      "forward time\n",
      "370.0380148887634\n",
      "loss time\n",
      "370.0406060218811\n",
      "backpropagation time\n",
      "370.11399126052856\n"
     ]
    },
    {
     "name": "stderr",
     "output_type": "stream",
     "text": [
      "\r",
      " 93%|█████████▎| 265/285 [06:11<00:24,  1.20s/it]"
     ]
    },
    {
     "name": "stdout",
     "output_type": "stream",
     "text": [
      "dataloading time\n",
      "371.169447183609\n",
      "forward time\n",
      "371.19133591651917\n",
      "loss time\n",
      "371.1939902305603\n",
      "backpropagation time\n",
      "371.27000403404236\n"
     ]
    },
    {
     "name": "stderr",
     "output_type": "stream",
     "text": [
      "\r",
      " 93%|█████████▎| 266/285 [06:12<00:22,  1.20s/it]"
     ]
    },
    {
     "name": "stdout",
     "output_type": "stream",
     "text": [
      "dataloading time\n",
      "372.35411500930786\n",
      "forward time\n",
      "372.37619614601135\n",
      "loss time\n",
      "372.3789381980896\n",
      "backpropagation time\n",
      "372.4600570201874\n"
     ]
    },
    {
     "name": "stderr",
     "output_type": "stream",
     "text": [
      "\r",
      " 94%|█████████▎| 267/285 [06:13<00:21,  1.19s/it]"
     ]
    },
    {
     "name": "stdout",
     "output_type": "stream",
     "text": [
      "dataloading time\n",
      "373.5185971260071\n",
      "forward time\n",
      "373.54110407829285\n",
      "loss time\n",
      "373.5436680316925\n",
      "backpropagation time\n",
      "373.62247705459595\n"
     ]
    },
    {
     "name": "stderr",
     "output_type": "stream",
     "text": [
      "\r",
      " 94%|█████████▍| 268/285 [06:14<00:20,  1.18s/it]"
     ]
    },
    {
     "name": "stdout",
     "output_type": "stream",
     "text": [
      "dataloading time\n",
      "374.67535614967346\n",
      "forward time\n",
      "374.6982262134552\n",
      "loss time\n",
      "374.7008719444275\n",
      "backpropagation time\n",
      "374.77424788475037\n"
     ]
    },
    {
     "name": "stderr",
     "output_type": "stream",
     "text": [
      "\r",
      " 94%|█████████▍| 269/285 [06:15<00:18,  1.18s/it]"
     ]
    },
    {
     "name": "stdout",
     "output_type": "stream",
     "text": [
      "dataloading time\n",
      "375.87713718414307\n",
      "forward time\n",
      "375.8998341560364\n",
      "loss time\n",
      "375.9026720523834\n",
      "backpropagation time\n",
      "375.97495102882385\n"
     ]
    },
    {
     "name": "stderr",
     "output_type": "stream",
     "text": [
      "\r",
      " 95%|█████████▍| 270/285 [06:17<00:17,  1.17s/it]"
     ]
    },
    {
     "name": "stdout",
     "output_type": "stream",
     "text": [
      "dataloading time\n",
      "377.01848912239075\n",
      "forward time\n",
      "377.04037714004517\n",
      "loss time\n",
      "377.0428400039673\n",
      "backpropagation time\n",
      "377.11487197875977\n"
     ]
    },
    {
     "name": "stderr",
     "output_type": "stream",
     "text": [
      "\r",
      " 95%|█████████▌| 271/285 [06:18<00:16,  1.16s/it]"
     ]
    },
    {
     "name": "stdout",
     "output_type": "stream",
     "text": [
      "dataloading time\n",
      "378.1431519985199\n",
      "forward time\n",
      "378.16501808166504\n",
      "loss time\n",
      "378.1678378582001\n",
      "backpropagation time\n",
      "378.2395188808441\n"
     ]
    },
    {
     "name": "stderr",
     "output_type": "stream",
     "text": [
      "\r",
      " 95%|█████████▌| 272/285 [06:19<00:15,  1.16s/it]"
     ]
    },
    {
     "name": "stdout",
     "output_type": "stream",
     "text": [
      "dataloading time\n",
      "379.301470041275\n",
      "forward time\n",
      "379.32339811325073\n",
      "loss time\n",
      "379.3259959220886\n",
      "backpropagation time\n",
      "379.39828515052795\n"
     ]
    },
    {
     "name": "stderr",
     "output_type": "stream",
     "text": [
      "\r",
      " 96%|█████████▌| 273/285 [06:20<00:13,  1.16s/it]"
     ]
    },
    {
     "name": "stdout",
     "output_type": "stream",
     "text": [
      "dataloading time\n",
      "380.4782772064209\n",
      "forward time\n",
      "380.50027799606323\n",
      "loss time\n",
      "380.5028359889984\n",
      "backpropagation time\n",
      "380.5768840312958\n"
     ]
    },
    {
     "name": "stderr",
     "output_type": "stream",
     "text": [
      "\r",
      " 96%|█████████▌| 274/285 [06:21<00:12,  1.17s/it]"
     ]
    },
    {
     "name": "stdout",
     "output_type": "stream",
     "text": [
      "dataloading time\n",
      "381.6758770942688\n",
      "forward time\n",
      "381.6978690624237\n",
      "loss time\n",
      "381.70055198669434\n",
      "backpropagation time\n",
      "381.77341508865356\n"
     ]
    },
    {
     "name": "stderr",
     "output_type": "stream",
     "text": [
      "\r",
      " 96%|█████████▋| 275/285 [06:22<00:11,  1.16s/it]"
     ]
    },
    {
     "name": "stdout",
     "output_type": "stream",
     "text": [
      "dataloading time\n",
      "382.79510593414307\n",
      "forward time\n",
      "382.8170471191406\n",
      "loss time\n",
      "382.8197281360626\n",
      "backpropagation time\n",
      "382.8929240703583\n"
     ]
    },
    {
     "name": "stderr",
     "output_type": "stream",
     "text": [
      "\r",
      " 97%|█████████▋| 276/285 [06:24<00:10,  1.17s/it]"
     ]
    },
    {
     "name": "stdout",
     "output_type": "stream",
     "text": [
      "dataloading time\n",
      "384.00845098495483\n",
      "forward time\n",
      "384.03009510040283\n",
      "loss time\n",
      "384.0329620838165\n",
      "backpropagation time\n",
      "384.1039412021637\n"
     ]
    },
    {
     "name": "stderr",
     "output_type": "stream",
     "text": [
      "\r",
      " 97%|█████████▋| 277/285 [06:25<00:09,  1.21s/it]"
     ]
    },
    {
     "name": "stdout",
     "output_type": "stream",
     "text": [
      "dataloading time\n",
      "385.31337690353394\n",
      "forward time\n",
      "385.3355829715729\n",
      "loss time\n",
      "385.33855295181274\n",
      "backpropagation time\n",
      "385.40589213371277\n"
     ]
    },
    {
     "name": "stderr",
     "output_type": "stream",
     "text": [
      "\r",
      " 98%|█████████▊| 278/285 [06:26<00:08,  1.20s/it]"
     ]
    },
    {
     "name": "stdout",
     "output_type": "stream",
     "text": [
      "dataloading time\n",
      "386.4640600681305\n",
      "forward time\n",
      "386.48578000068665\n",
      "loss time\n",
      "386.4882538318634\n",
      "backpropagation time\n",
      "386.56157422065735\n"
     ]
    },
    {
     "name": "stderr",
     "output_type": "stream",
     "text": [
      "\r",
      " 98%|█████████▊| 279/285 [06:27<00:07,  1.19s/it]"
     ]
    },
    {
     "name": "stdout",
     "output_type": "stream",
     "text": [
      "dataloading time\n",
      "387.6410071849823\n",
      "forward time\n",
      "387.66316318511963\n",
      "loss time\n",
      "387.6659231185913\n",
      "backpropagation time\n",
      "387.73968410491943\n"
     ]
    },
    {
     "name": "stderr",
     "output_type": "stream",
     "text": [
      "\r",
      " 98%|█████████▊| 280/285 [06:28<00:05,  1.17s/it]"
     ]
    },
    {
     "name": "stdout",
     "output_type": "stream",
     "text": [
      "dataloading time\n",
      "388.76819705963135\n",
      "forward time\n",
      "388.79022693634033\n",
      "loss time\n",
      "388.7929561138153\n",
      "backpropagation time\n",
      "388.86915612220764\n"
     ]
    },
    {
     "name": "stderr",
     "output_type": "stream",
     "text": [
      "\r",
      " 99%|█████████▊| 281/285 [06:30<00:04,  1.17s/it]"
     ]
    },
    {
     "name": "stdout",
     "output_type": "stream",
     "text": [
      "dataloading time\n",
      "389.9418339729309\n",
      "forward time\n",
      "389.96354508399963\n",
      "loss time\n",
      "389.9660949707031\n",
      "backpropagation time\n",
      "390.0382080078125\n"
     ]
    },
    {
     "name": "stderr",
     "output_type": "stream",
     "text": [
      "\r",
      " 99%|█████████▉| 282/285 [06:31<00:03,  1.19s/it]"
     ]
    },
    {
     "name": "stdout",
     "output_type": "stream",
     "text": [
      "dataloading time\n",
      "391.1705710887909\n",
      "forward time\n",
      "391.192241191864\n",
      "loss time\n",
      "391.1945888996124\n",
      "backpropagation time\n",
      "391.26798605918884\n"
     ]
    },
    {
     "name": "stderr",
     "output_type": "stream",
     "text": [
      "\r",
      " 99%|█████████▉| 283/285 [06:32<00:02,  1.19s/it]"
     ]
    },
    {
     "name": "stdout",
     "output_type": "stream",
     "text": [
      "dataloading time\n",
      "392.3455741405487\n",
      "forward time\n",
      "392.3676800727844\n",
      "loss time\n",
      "392.3702709674835\n",
      "backpropagation time\n",
      "392.445298910141\n"
     ]
    },
    {
     "name": "stderr",
     "output_type": "stream",
     "text": [
      "\r",
      "100%|█████████▉| 284/285 [06:33<00:01,  1.21s/it]"
     ]
    },
    {
     "name": "stdout",
     "output_type": "stream",
     "text": [
      "dataloading time\n",
      "393.59150195121765\n",
      "forward time\n",
      "393.6146650314331\n",
      "loss time\n",
      "393.61737608909607\n",
      "backpropagation time\n",
      "393.70840406417847\n"
     ]
    },
    {
     "name": "stderr",
     "output_type": "stream",
     "text": [
      "100%|██████████| 285/285 [06:34<00:00,  1.39s/it]"
     ]
    },
    {
     "name": "stdout",
     "output_type": "stream",
     "text": [
      "dataloading time\n",
      "394.8576922416687\n",
      "forward time\n",
      "394.8804221153259\n",
      "loss time\n",
      "394.8827431201935\n",
      "backpropagation time\n",
      "394.9568829536438\n"
     ]
    },
    {
     "name": "stderr",
     "output_type": "stream",
     "text": [
      "\n"
     ]
    },
    {
     "data": {
      "text/plain": [
       "<__main__.AverageMeter at 0x7fa828532090>"
      ]
     },
     "execution_count": 40,
     "metadata": {},
     "output_type": "execute_result"
    }
   ],
   "source": [
    "train_fn(train_loader, rdn, loss, optimizer, 1)"
   ]
  },
  {
   "cell_type": "code",
   "execution_count": null,
   "metadata": {
    "id": "cMdgOTMHpqx3"
   },
   "outputs": [],
   "source": []
  },
  {
   "cell_type": "markdown",
   "metadata": {
    "id": "mq8S_MBgprQ8"
   },
   "source": [
    "**TO DO :**\n",
    "- Data augmentation\n",
    "- Arcface metric implementation\n",
    "- CV and evaluation\n",
    "- Transfer training using some model like effnet\n",
    "- Modify code to use cuda\n",
    "\n"
   ]
  },
  {
   "cell_type": "markdown",
   "metadata": {
    "id": "c80VgS0e1f5H"
   },
   "source": [
    "**Notes** \n",
    "\n",
    "The goal of the loss function is to minimize the maximum intra-class distance while keeping the features of different classes separable. Chosing the right loss function that can enhance the discrimnative power is key to our problem."
   ]
  },
  {
   "cell_type": "code",
   "execution_count": null,
   "metadata": {
    "id": "-PjKRJXU5xHQ"
   },
   "outputs": [],
   "source": []
  }
 ],
 "metadata": {
  "colab": {
   "collapsed_sections": [],
   "name": "ShopeeProject.ipynb",
   "provenance": []
  },
  "kernelspec": {
   "display_name": "Python 3",
   "language": "python",
   "name": "python3"
  },
  "language_info": {
   "codemirror_mode": {
    "name": "ipython",
    "version": 3
   },
   "file_extension": ".py",
   "mimetype": "text/x-python",
   "name": "python",
   "nbconvert_exporter": "python",
   "pygments_lexer": "ipython3",
   "version": "3.7.4"
  },
  "latex_envs": {
   "LaTeX_envs_menu_present": true,
   "autoclose": false,
   "autocomplete": false,
   "bibliofile": "biblio.bib",
   "cite_by": "apalike",
   "current_citInitial": 1,
   "eqLabelWithNumbers": true,
   "eqNumInitial": 1,
   "hotkeys": {
    "equation": "Ctrl-E",
    "itemize": "Ctrl-I"
   },
   "labels_anchors": false,
   "latex_user_defs": false,
   "report_style_numbering": false,
   "user_envs_cfg": false
  }
 },
 "nbformat": 4,
 "nbformat_minor": 1
}
